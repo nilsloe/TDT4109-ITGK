{
 "cells": [
  {
   "cell_type": "markdown",
   "metadata": {},
   "source": [
    "### Oppgave 2.1\n",
    "\n",
    "Lag funksjonen home_draw_away som har en input-parameter matches som er en liste som inneholder\n",
    "informasjon om fotballkamper i siste runde ble hjemmeseier (\"H\"), uavgjort (\"U\") eller borteseier (\"B\").\n",
    "Funksjonen skal returnere ei liste med 3 tall, der det første tallet er antallet hjemmeseire, det andre tallet er\n",
    "antallet uavgjort, og det siste tallet er antallet borteseiere. Funksjonen skal fungere på lister av ulik lengde,\n",
    "skal fungere for stor og liten bokstav for H, U og B, samt at den skal ignorere resultat som ikke er H, U, eller B."
   ]
  },
  {
   "cell_type": "code",
   "execution_count": 2,
   "metadata": {},
   "outputs": [
    {
     "name": "stdout",
     "output_type": "stream",
     "text": [
      "[7, 4, 3]\n"
     ]
    }
   ],
   "source": [
    "def home_draw_away(matches):\n",
    "    result_sums=[0, 0, 0]\n",
    "    for result in matches:\n",
    "        if str.upper(result)==\"H\":\n",
    "            result_sums[0]+=1\n",
    "            \n",
    "        elif str.upper(result)==\"U\":\n",
    "            result_sums[1]+=1\n",
    "            \n",
    "        elif str.upper(result)==\"B\":\n",
    "            result_sums[2]+=1\n",
    "    return result_sums\n",
    "\n",
    "print(home_draw_away([\"H\", \"u\", \"B\", \"h\", \"b\", \"H\", \"U\", \"H\", \"h\", \"B\", \"H\", \"U\", \"x\", \"h\", \"U\"]))\n"
   ]
  },
  {
   "cell_type": "markdown",
   "metadata": {},
   "source": [
    "### Oppgave 2.2\n",
    "\n",
    "Lag funksjon pos_vocals som tar inn en parameter text som er en tekststreng og returnerer posisjonen til alle\n",
    "norske vokaler i strengen text som ei liste. Funksjonen skal fungere for vokaler skrevet med stor og liten\n",
    "bokstav."
   ]
  },
  {
   "cell_type": "code",
   "execution_count": 3,
   "metadata": {},
   "outputs": [
    {
     "name": "stdout",
     "output_type": "stream",
     "text": [
      "[1, 4, 6, 9, 12, 15, 18, 22, 25, 30, 33, 36, 40, 42, 44]\n"
     ]
    }
   ],
   "source": [
    "def pos_vocals(text):\n",
    "    vokaler=\"aeiouæøå\"\n",
    "\n",
    "    return [i for i, elem in enumerate(text) if str.lower(elem) in vokaler]\n",
    "\n",
    "print(pos_vocals(\"DettE er et eksempel pÅ lAng liste med vokaler\"))"
   ]
  },
  {
   "cell_type": "markdown",
   "metadata": {},
   "source": [
    "### Oppgave 2.3\n",
    "\n",
    "Lag funksjon uniqe som har en inn-parameter text ser er en tekststreng.\n",
    "Funksjonen skal returnere en liste med alle unike ord i teksten skrevet med små bokstaver. Rekkefølgen\n",
    "ordene i lista har er ikke bestemt. Merk at funksjonen skal returnere kun ord og tegn som man typisk har i en\n",
    "setning skal fjernes. Man kan anta at tekstrengen starter med en bokstav, at ordene er adskilt med mellomrom,\n",
    "at man ikke har tegn inne i et ord, og at man ikke har flere enn et tegn etter hverandre."
   ]
  },
  {
   "cell_type": "code",
   "execution_count": 4,
   "metadata": {},
   "outputs": [
    {
     "name": "stdout",
     "output_type": "stream",
     "text": [
      "['det', 'greit', 'eller', 'er', 'ikke', 'jeg', 'dette', 'tror']\n"
     ]
    }
   ],
   "source": [
    "def unique(text):\n",
    "\n",
    "    #Definerer alfabetet ikke alfabetisk rekkefølge\n",
    "    BOKSTAVER=\"qwertyuiopåasdfghjkløæzxcvbnm \"\n",
    "\n",
    "    text=\"\".join([str.lower(bokstav) for bokstav in text if str.lower(bokstav) in BOKSTAVER])\n",
    "\n",
    "    return list(set([word for word in text.split()]))\n",
    "\n",
    "print(unique(\"Er dette greit, eller er det IKKE greit? Det er greit tror jeg!\"))"
   ]
  },
  {
   "cell_type": "markdown",
   "metadata": {},
   "source": [
    "### Oppgave 2.4\n",
    "\n",
    "Lag funksjonen calculate som har ingen inn-parametere, men som skal be brukeren om å skrive inn et\n",
    "regnestykke som kun kan inneholde tall, + og -. Funksjonen skal ta hensyn til at man kan skrive desimaltall\n",
    "både med desimalkomma og desimalpunktum. Det må også tas hensyn til at det kan skrives åpenrom\n",
    "(mellomrom) i uttrykket. Løsningen kan ikke benytte seg av den innebygde funksjon eval() eller lignende.\n",
    "Funksjonen skal først spørre brukeren: \"Enter calculation\" - der brukeren skal skrive inn et regnestykke.\n",
    "Funksjonen beregne svaret og skrive ut svaret til konsollet etter teksten: \"Result: \""
   ]
  },
  {
   "cell_type": "code",
   "execution_count": 5,
   "metadata": {},
   "outputs": [
    {
     "name": "stdout",
     "output_type": "stream",
     "text": [
      "Result: 22.00\n"
     ]
    }
   ],
   "source": [
    "def calculate():\n",
    "    calculation=input(\"Enter calculation: \").replace(\",\", \".\").replace(\" \", \"\")\n",
    "    minliste=calculation.split(\"+\")\n",
    "\n",
    "    mellomliste=list()\n",
    "\n",
    "    summ=0\n",
    "\n",
    "    for el in minliste:\n",
    "        if \"-\" in el:\n",
    "            delliste=el.split(\"-\")\n",
    "            summ+=float(delliste[0])\n",
    "            for i in range(1,len(delliste)):\n",
    "                summ-=float(delliste[i])\n",
    "        else:\n",
    "            summ+=float(el)\n",
    "\n",
    "    print(f\"Result: {summ:.2f}\")\n",
    "\n",
    "calculate()"
   ]
  },
  {
   "cell_type": "markdown",
   "metadata": {},
   "source": [
    "### Oppgave 3.1\n",
    "\n",
    "Lag funksjonen sec_to_time som har en input-parameter s som er antall sekunder angitt som et heltall og som\n",
    "skal regne om dette til formatet t:m:s, og returnere resultatet som en tekststreng. Her står t for time, m for minutt\n",
    "og s for sekunder. Hvis tiden er mindre enn 1 time skal den returnere 'm:s'. Ellers skal den returnere 't:m:s'.\n",
    "Eks. på riktig output: '0:45','2:23', '12:04','1:02:09' etc.\n",
    "Legg merke til at hvis antall sekunder (og minutter hvis det er over en time) er mindre enn 10 skal det det\n",
    "skrives en 0 først."
   ]
  },
  {
   "cell_type": "code",
   "execution_count": 6,
   "metadata": {},
   "outputs": [],
   "source": [
    "def sec_to_time(sekunder):\n",
    "    timer=sekunder//(60**2)\n",
    "    sekunder%=(60**2)\n",
    "\n",
    "    minutter=sekunder//60\n",
    "    sekunder%=60\n",
    "\n",
    "    if sekunder<10:\n",
    "        sekunder=\"0\" + str(sekunder)\n",
    "    else:\n",
    "        sekunder=str(sekunder)\n",
    "\n",
    "    if timer>0:\n",
    "\n",
    "        if minutter<10:\n",
    "            minutter=\"0\" + str(minutter)\n",
    "        else:\n",
    "            minutter=str(minutter)\n",
    "        \n",
    "        timer=str(timer)\n",
    "\n",
    "        print(f\"{timer}:{minutter}:{sekunder}\")\n",
    "\n",
    "    else:\n",
    "        print(f\"{minutter}:{sekunder}\")"
   ]
  },
  {
   "cell_type": "markdown",
   "metadata": {},
   "source": [
    "### Oppgave 3.2\n",
    "\n",
    "Lag funksjonen time_to_sec som tar inn en input-parameter tstring som er en streng med tidsinformasjon\n",
    "spesifisert som \"time:minutt:sekund\" og regner den om til antall sekunder. Det er ikke gitt at alle elementene er\n",
    "med. Funksjonen må håndtere strenger som \"30\",\"20:30\",\"1:20:30\",\"1::30\",\"::45\",\":12:\",\"1::\".\n",
    "Funksjonen behøver ikke ta hensyn til strenger som ikke følger dette formatet.\n",
    "Funksjonen skal returnere antall sekunder strengen representerer som et heltall."
   ]
  },
  {
   "cell_type": "code",
   "execution_count": 7,
   "metadata": {},
   "outputs": [
    {
     "name": "stdout",
     "output_type": "stream",
     "text": [
      "1230\n"
     ]
    }
   ],
   "source": [
    "def time_to_sec(tstring):\n",
    "    times=[int(tall) if len(tall)>0 else 0 for tall in tstring.split(\":\")]\n",
    "\n",
    "    times.reverse()\n",
    "\n",
    "    print(sum([tall*(60**i) for i, tall in enumerate(times)]))\n",
    "    \n",
    "time_to_sec(\"20:30\")"
   ]
  },
  {
   "cell_type": "markdown",
   "metadata": {},
   "source": [
    "### Oppgave 3.3\n",
    "\n",
    "Lag funksjonen enter_song som ikke har noe input-parameter, der brukeren kan skrive inn data for en sang\n",
    "med tastaturet. Data som skal skrives inn er Tittel; Artist; Sjanger; Lengde (i min:sek) med semikolon mellom\n",
    "hvert element. Funksjonen skal returnere en liste på formatet ['Tittel','Artist','Sjanger','m:s'].\n",
    "Funksjonen skal først skrive følgende til skjerm: \"Enter song (Title;Artist;Genre;m:s)\", og deretter en ny linje der\n",
    "brukeren skal skrive inn informasjon med prompt (spørretekst) \"> \".\n",
    "Hvis det skrives inn ugyldige data skal funksjonen skrive teksten \"Ugyldige data\" og spørre brukeren om å\n",
    "skrive inn data på nytt. Dataen er ugyldig hvis:\n",
    "Man ikke har lagt inn 4 verdier (dvs. fire elementer med semikolon mellom).\n",
    "Lengden er ikke angitt på riktig tidsformat (m:s) der s er et tall mellom 0 og 59, og m er et tall større enn 0."
   ]
  },
  {
   "cell_type": "code",
   "execution_count": 8,
   "metadata": {},
   "outputs": [
    {
     "name": "stdout",
     "output_type": "stream",
     "text": [
      "Enter song (Title;Artist;Genre;m:s)\n"
     ]
    },
    {
     "data": {
      "text/plain": [
       "'asd;asd;asd;0:12'"
      ]
     },
     "execution_count": 8,
     "metadata": {},
     "output_type": "execute_result"
    }
   ],
   "source": [
    "def enter_song():\n",
    "    print(\"Enter song (Title;Artist;Genre;m:s)\")\n",
    "\n",
    "    while True:\n",
    "        song_information=input(\"\")\n",
    "\n",
    "        lst_song_information=song_information.split(\";\")\n",
    "        \n",
    "        if not len(lst_song_information) == 4:\n",
    "            print(\"Ugyldig data! Formatet må være: Title;Artist;Genre;m:s\")\n",
    "            continue\n",
    "        \n",
    "        tid=lst_song_information[3].split(\":\")\n",
    "        if 0>int(tid[0]) or 59<int(tid[0]) or 0>int(tid[1]) or 59<int(tid[1]):\n",
    "            print(\"Ugyldig data! Formatet må være: Title;Artist;Genre;m:s\")\n",
    "            continue\n",
    "        \n",
    "        return song_information\n",
    "\n",
    "enter_song()"
   ]
  },
  {
   "cell_type": "markdown",
   "metadata": {},
   "source": [
    "### Oppgave 3.4\n",
    "\n",
    "Lag funksjonen read_file som har en input-parameter filename som er navnet på filen som skal leses og som\n",
    "returnerer en liste som inneholder en liste med de dataene som finnes i filen. Hver linje i tekstfilen skal\n",
    "representeres som en liste. Funksjonen skal altså returnere en liste med lister. Funksjonen trenger ikke ta\n",
    "hensyn til om filen eksisterer eller problemer med lesing av fil."
   ]
  },
  {
   "cell_type": "code",
   "execution_count": 9,
   "metadata": {},
   "outputs": [
    {
     "name": "stdout",
     "output_type": "stream",
     "text": [
      "[['Spinning wheel', 'Blood,Sweat and Tears', 'rock', '5:15'], ['In my life', 'The Beatles', 'Pop', '3:17'], ['Rock me baby', 'B.B. King', 'Blues', '3:28'], ['Waiting For Margaux', 'Al Stewart', 'Pop', '4:35'], ['Folsom Prison blues', 'Johnny Cash', 'Country', '2:42'], ['Turing of the tide', 'Richard Thompson', 'Pop', '2:58'], ['All around my hat', 'Steeleye Span', 'Folk', '4:09'], [\"Hell's bells\", 'AC/DC', 'Rock', '5:13']]\n"
     ]
    }
   ],
   "source": [
    "def read_file(filename):\n",
    "    return_list=list()\n",
    "\n",
    "    with open(filename, \"r\") as f:\n",
    "        for line in f.readlines():\n",
    "            line=line.strip(\"\\n\")\n",
    "            song=line.split(\";\")\n",
    "            return_list.append(song)\n",
    "\n",
    "    return return_list\n",
    "\n",
    "print(read_file(\"songlist.txt\"))"
   ]
  },
  {
   "cell_type": "markdown",
   "metadata": {},
   "source": [
    "### Oppgave 3.5\n",
    "\n",
    "Lag funksjonen list_content som har to input-parametere: filename som er en tekststreng som angir navnet på\n",
    "fila som det skal leses fra og choice som er en tekststreng som spesifiserer hvilken type data som skal listes.\n",
    "Parameteren choice kan ha tre ulike verdier:\n",
    "\n",
    "* 'title' - da skal alle unike sangtitler i fila filename returneres som ei liste.\n",
    "* 'artist' - da skal alle unike artister i fila filename returneres som ei liste.\n",
    "* 'genre' - da skal alle unike sjangere i fila filename returneres som ei liste.\n",
    "\n",
    "Merk at det skal gå an å skrive 'title','artist' og 'genre' med store og små bokstaver.\n",
    "Hvis ikke gyldig choice er angitt skal tom liste returneres.\n",
    "Fila som det skal leses av her formatert som vist i Oppgave 3.4. Man trenger ikke ta hensyn til om fil ikke\n",
    "eksisterer eller problemer med å lese fra fil.\n",
    "Listene skal ikke inneholde duplikater (dvs. flere like elementer) og rekkefølgene på elementene er ikke\n",
    "bestemt.\n",
    "Løsningen skal benytte seg av funksjoner spesifisert i tidligere oppgaver så langt dette er mulig!"
   ]
  },
  {
   "cell_type": "code",
   "execution_count": 11,
   "metadata": {},
   "outputs": [
    {
     "name": "stdout",
     "output_type": "stream",
     "text": [
      "['In my life', 'Turing of the tide', \"Hell's bells\", 'Folsom Prison blues', 'Spinning wheel', 'Rock me baby', 'All around my hat', 'Waiting For Margaux']\n",
      "['Johnny Cash', 'Blood,Sweat and Tears', 'Richard Thompson', 'Al Stewart', 'The Beatles', 'AC/DC', 'Steeleye Span', 'B.B. King']\n",
      "['Country', 'Rock', 'Pop', 'Folk', 'rock', 'Blues']\n",
      "[]\n"
     ]
    }
   ],
   "source": [
    "def list_content(filename, choice):\n",
    "    list_songs=read_file(filename)\n",
    "    choices=[\"title\", \"artist\", \"genre\"]\n",
    "\n",
    "    try:\n",
    "        choice_index=choices.index(choice.lower()) #\"Raise ValueError if x is not found.\"\n",
    "        unique_choice=set()\n",
    "\n",
    "        for song in list_songs:\n",
    "            unique_choice.add(song[choice_index])\n",
    "\n",
    "        return list(unique_choice)\n",
    "\n",
    "    except:\n",
    "        return []\n",
    "\n",
    "print(list_content(\"songlist.txt\", \"title\"))\n",
    "print(list_content(\"songlist.txt\", \"artist\"))\n",
    "print(list_content(\"songlist.txt\", \"genre\"))\n",
    "print(list_content(\"songlist.txt\", \"person\"))"
   ]
  },
  {
   "cell_type": "markdown",
   "metadata": {},
   "source": [
    "### Oppgave 3.6\n",
    "\n",
    "Radioverten har behov for å kunne se en liste av tilgjengelige sanger basert på en sjanger.\n",
    "Lag funksjonen list_songs_genre som har en inn-parameter filename som er av typen tekststreng og\n",
    "spesifiserer navnet på fila data skal leses fra.\n",
    "Funksjonen skal først spørre brukeren om hvilken sjanger man ønsker å få listet opp sanger fra. Dette gjøres\n",
    "ved at man får oppgitt en liste over tilgjengelige sjangere som finnes i fila filename og deretter spør brukeren\n",
    "om å skrive inn ønsket sjanger.\n",
    "Spørsmålet til brukeren skal se slik ut (tilgjengelige sjangere kan variere):\n",
    "<br><br>\n",
    "Choose genre [Blues,Country,Rock,Pop]:\n",
    "<br><br>\n",
    "Funksjonen skal returnere en liste av alle sangene for valgt sjanger der hver sang er ei liste bestående av tittel,\n",
    "artist og spilletid, samt den totale spilletiden som en tekststreng på formatet t:m:s, der t=time, m=minutt og\n",
    "s=sekunder. Hvis sjanger ikke finnes, skal funksjonen returnere en tom liste og tiden 0:0.\n",
    "Løsningen skal benytte seg av funksjoner spesifisert i tidligere oppgaver så langt dette er mulig!"
   ]
  },
  {
   "cell_type": "code",
   "execution_count": 12,
   "metadata": {},
   "outputs": [
    {
     "ename": "ValueError",
     "evalue": "invalid literal for int() with base 10: 'Pop'",
     "output_type": "error",
     "traceback": [
      "\u001b[1;31m---------------------------------------------------------------------------\u001b[0m",
      "\u001b[1;31mValueError\u001b[0m                                Traceback (most recent call last)",
      "Cell \u001b[1;32mIn [12], line 20\u001b[0m\n\u001b[0;32m     16\u001b[0m             total_time\u001b[39m+\u001b[39m\u001b[39m=\u001b[39mtime_to_sec(song[\u001b[39m2\u001b[39m])\n\u001b[0;32m     18\u001b[0m     \u001b[39mreturn\u001b[39;00m (song_list_specified_genre, sec_to_time(total_time))\n\u001b[1;32m---> 20\u001b[0m list_songs_genre(\u001b[39m\"\u001b[39;49m\u001b[39msonglist.txt\u001b[39;49m\u001b[39m\"\u001b[39;49m)\n",
      "Cell \u001b[1;32mIn [12], line 16\u001b[0m, in \u001b[0;36mlist_songs_genre\u001b[1;34m(filename)\u001b[0m\n\u001b[0;32m     14\u001b[0m     \u001b[39mif\u001b[39;00m song[\u001b[39m2\u001b[39m]\u001b[39m==\u001b[39mgenre_choice:\n\u001b[0;32m     15\u001b[0m         song_list_specified_genre\u001b[39m.\u001b[39mappend([song[\u001b[39m0\u001b[39m], song[\u001b[39m1\u001b[39m], song[\u001b[39m3\u001b[39m]])\n\u001b[1;32m---> 16\u001b[0m         total_time\u001b[39m+\u001b[39m\u001b[39m=\u001b[39mtime_to_sec(song[\u001b[39m2\u001b[39;49m])\n\u001b[0;32m     18\u001b[0m \u001b[39mreturn\u001b[39;00m (song_list_specified_genre, sec_to_time(total_time))\n",
      "Cell \u001b[1;32mIn [7], line 2\u001b[0m, in \u001b[0;36mtime_to_sec\u001b[1;34m(tstring)\u001b[0m\n\u001b[0;32m      1\u001b[0m \u001b[39mdef\u001b[39;00m \u001b[39mtime_to_sec\u001b[39m(tstring):\n\u001b[1;32m----> 2\u001b[0m     times\u001b[39m=\u001b[39m[\u001b[39mint\u001b[39m(tall) \u001b[39mif\u001b[39;00m \u001b[39mlen\u001b[39m(tall)\u001b[39m>\u001b[39m\u001b[39m0\u001b[39m \u001b[39melse\u001b[39;00m \u001b[39m0\u001b[39m \u001b[39mfor\u001b[39;00m tall \u001b[39min\u001b[39;00m tstring\u001b[39m.\u001b[39msplit(\u001b[39m\"\u001b[39m\u001b[39m:\u001b[39m\u001b[39m\"\u001b[39m)]\n\u001b[0;32m      4\u001b[0m     times\u001b[39m.\u001b[39mreverse()\n\u001b[0;32m      6\u001b[0m     \u001b[39mprint\u001b[39m(\u001b[39msum\u001b[39m([tall\u001b[39m*\u001b[39m(\u001b[39m60\u001b[39m\u001b[39m*\u001b[39m\u001b[39m*\u001b[39mi) \u001b[39mfor\u001b[39;00m i, tall \u001b[39min\u001b[39;00m \u001b[39menumerate\u001b[39m(times)]))\n",
      "Cell \u001b[1;32mIn [7], line 2\u001b[0m, in \u001b[0;36m<listcomp>\u001b[1;34m(.0)\u001b[0m\n\u001b[0;32m      1\u001b[0m \u001b[39mdef\u001b[39;00m \u001b[39mtime_to_sec\u001b[39m(tstring):\n\u001b[1;32m----> 2\u001b[0m     times\u001b[39m=\u001b[39m[\u001b[39mint\u001b[39;49m(tall) \u001b[39mif\u001b[39;00m \u001b[39mlen\u001b[39m(tall)\u001b[39m>\u001b[39m\u001b[39m0\u001b[39m \u001b[39melse\u001b[39;00m \u001b[39m0\u001b[39m \u001b[39mfor\u001b[39;00m tall \u001b[39min\u001b[39;00m tstring\u001b[39m.\u001b[39msplit(\u001b[39m\"\u001b[39m\u001b[39m:\u001b[39m\u001b[39m\"\u001b[39m)]\n\u001b[0;32m      4\u001b[0m     times\u001b[39m.\u001b[39mreverse()\n\u001b[0;32m      6\u001b[0m     \u001b[39mprint\u001b[39m(\u001b[39msum\u001b[39m([tall\u001b[39m*\u001b[39m(\u001b[39m60\u001b[39m\u001b[39m*\u001b[39m\u001b[39m*\u001b[39mi) \u001b[39mfor\u001b[39;00m i, tall \u001b[39min\u001b[39;00m \u001b[39menumerate\u001b[39m(times)]))\n",
      "\u001b[1;31mValueError\u001b[0m: invalid literal for int() with base 10: 'Pop'"
     ]
    }
   ],
   "source": [
    "def list_songs_genre(filename):\n",
    "    all_genres=list_content(filename, \"genre\")\n",
    "\n",
    "    genre_choice=input(f\"Choose genre {all_genres}: \")\n",
    "\n",
    "    if genre_choice not in all_genres:\n",
    "        return ([], \"0:0\")\n",
    "\n",
    "    all_songs=read_file(filename)\n",
    "    song_list_specified_genre=list()\n",
    "    total_time=0\n",
    "\n",
    "    for song in all_songs:\n",
    "        if song[2]==genre_choice:\n",
    "            song_list_specified_genre.append([song[0], song[1], song[3]])\n",
    "            total_time+=time_to_sec(song[2])\n",
    "\n",
    "    return (song_list_specified_genre, sec_to_time(total_time))\n",
    "\n",
    "list_songs_genre(\"songlist.txt\")"
   ]
  },
  {
   "cell_type": "markdown",
   "metadata": {},
   "source": [
    "### Oppgave 3.7\n",
    "\n",
    "Skriv funksjonen pretty_print som har en inn-parameter filename som er en tekststreng som spesifiserer\n",
    "tekstfila som data skal leses fra. Funksjonen skal bruke funksjonen list_songs_genre fra Oppgave 3.6 til å\n",
    "hente inn sanger for en spesifisert sjanger og skrive dem pent ut på formatet: Artist (20 tegn venstrejustert),\n",
    "<br>\n",
    "Title (30 tegn venstrejustert) og Time.\n",
    "<br>\n",
    "Merk at hvis navnet på artist er lengre enn 20 tegn, skal kun de 20 første tegn skrives ut, og at hvis tittel på\n",
    "sangen er over 30 tegn, så skal kun de 30 første tegn skrives ut.<br>\n",
    "Funksjonen skal skrive ut \"Total time:\" som er total spilletid for sangene som er listet opp.\n",
    "Man trenger ikke å ta hensyn til feil filnavn eller problemer med lesing av fil."
   ]
  }
 ],
 "metadata": {
  "kernelspec": {
   "display_name": "Python 3.10.8 64-bit",
   "language": "python",
   "name": "python3"
  },
  "language_info": {
   "codemirror_mode": {
    "name": "ipython",
    "version": 3
   },
   "file_extension": ".py",
   "mimetype": "text/x-python",
   "name": "python",
   "nbconvert_exporter": "python",
   "pygments_lexer": "ipython3",
   "version": "3.10.8 (tags/v3.10.8:aaaf517, Oct 11 2022, 16:50:30) [MSC v.1933 64 bit (AMD64)]"
  },
  "orig_nbformat": 4,
  "vscode": {
   "interpreter": {
    "hash": "027dafada3abe8dc4a182f169788952473bcfe25476b5b72d11846b514d53347"
   }
  }
 },
 "nbformat": 4,
 "nbformat_minor": 2
}
