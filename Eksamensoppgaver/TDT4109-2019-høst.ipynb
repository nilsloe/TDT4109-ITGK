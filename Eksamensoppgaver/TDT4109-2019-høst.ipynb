{
 "cells": [
  {
   "cell_type": "markdown",
   "metadata": {},
   "source": [
    "# Kodeforståelse:"
   ]
  },
  {
   "cell_type": "markdown",
   "metadata": {},
   "source": [
    "### Oppgave 2.1"
   ]
  },
  {
   "cell_type": "code",
   "execution_count": null,
   "metadata": {},
   "outputs": [],
   "source": [
    "def myst1(x):                       #x=6\n",
    "    s=10                            #s=10\n",
    "    x=6%3                           #x=0\n",
    "    try:\n",
    "        y=s/x                       #10/0=>raises zerodivison error\n",
    "        return y\n",
    "    except ValueError:\n",
    "        return -5\n",
    "    except ZeroDivisionError:       #<------\n",
    "        return -1                   #-1 returneres, Altså -1 printes til konsoll\n",
    "    except Exception:\n",
    "        return -10\n",
    "\n",
    "print(myst1(6))"
   ]
  },
  {
   "cell_type": "markdown",
   "metadata": {},
   "source": [
    "### Oppgave 2.2"
   ]
  },
  {
   "cell_type": "code",
   "execution_count": null,
   "metadata": {},
   "outputs": [],
   "source": [
    "def myst2(A,B):\n",
    "    A.update(B)\n",
    "    print(A)\n",
    "\n",
    "myst2({3,9,5,10,3}, {2,5,10})\n",
    "\n",
    "#{2,3,5,9,10},  bare unike tall og python sets blir sortert"
   ]
  },
  {
   "cell_type": "markdown",
   "metadata": {},
   "source": [
    "### Oppgave 2.3"
   ]
  },
  {
   "cell_type": "code",
   "execution_count": null,
   "metadata": {},
   "outputs": [],
   "source": [
    "def myst3(A):\n",
    "    for i in range(1,len(A)):\n",
    "        A[i-1]=A[i]                #Sets kan ikke itereres \n",
    "        return A\n",
    "\n",
    "print(myst3({1,2,3,4,5,6,7,8,9}))  #Error"
   ]
  },
  {
   "cell_type": "markdown",
   "metadata": {},
   "source": [
    "### Oppgave 2.4"
   ]
  },
  {
   "cell_type": "code",
   "execution_count": null,
   "metadata": {},
   "outputs": [],
   "source": [
    "def myst4(d):\n",
    "    s=\"\"\n",
    "    for x in sorted(d.keys()): #Sorterer basert på keys altså 1,2,3,4,5\n",
    "        s+=d.get(x)+\",\"        #Simen,Petter,...\n",
    "    s=s[:-1]                   #Fra starten av strengen til siste\n",
    "    return s                   #Returnerer 'Simen,Petter,Fredrik,Maja,Anna'\n",
    "\n",
    "d={2:\"Petter\",1:\"Simen\",4:\"Maja\",3:\"Fredrik\",5:\"Anna\"}\n",
    "print(myst4(d))"
   ]
  },
  {
   "cell_type": "markdown",
   "metadata": {},
   "source": [
    "### Oppgave 2.5"
   ]
  },
  {
   "cell_type": "code",
   "execution_count": null,
   "metadata": {},
   "outputs": [],
   "source": [
    "def myst5(A):\n",
    "    for i in range(len(A)):\n",
    "        for j in range(1,len(A[i])-1):\n",
    "            A[i][j]=A[i][j-1]+A[i][j+1]\n",
    "    return A\n",
    "\n",
    "#A[0][1]=A[0][0]+A[0][2]=16\n",
    "#A[0][2]=A[0][1]+A[0][3]=16+6=22\n",
    "\n",
    "A=[[9,8,7,6,5],[7,6,5,4,3],[5,4,3,2,1]]\n",
    "print(myst5(A))"
   ]
  },
  {
   "cell_type": "markdown",
   "metadata": {},
   "source": [
    "### Oppgave 2.6"
   ]
  },
  {
   "cell_type": "code",
   "execution_count": null,
   "metadata": {},
   "outputs": [],
   "source": [
    "def myst6(s):\n",
    "    r=\"\"          \n",
    "    y=1           #y=1\n",
    "    x=len(s)-1    #x=37-1=36\n",
    "    while x>=0:   #i=0   : i=1    : i=2     : i=3      : i=4       : i=5\n",
    "        r+=s[x]   #r=\"j\" : r=\"ju\" : r=\"jul\" : r=\"jule\" : r=\"juleg\" : r=\"julega\"\n",
    "        y+=1      #y=2   : y=3    : y=4     : y=5      : y=6       : y=7\n",
    "        x-=y      #x=34  : x=31   : x=27    : x=22     : x=16      : x=9\n",
    "    return r      #Ser på valgene og kan utelukke alle svar enn \"julegave\"\n",
    "\n",
    "l=\"peleadlspvpsvasoasgaspgtsueetrtlisuoj\"\n",
    "print(myst6(l))"
   ]
  },
  {
   "cell_type": "markdown",
   "metadata": {},
   "source": [
    "### Oppgave 2.7"
   ]
  },
  {
   "cell_type": "code",
   "execution_count": null,
   "metadata": {},
   "outputs": [],
   "source": [
    "def myst7(a,b):\n",
    "    s=a[1:-3:2]+\" \"+b[2::3]\n",
    "    return s\n",
    "\n",
    "x=\"KTUELITTLPL\"               #s=\"TEIT\",  kan utelukke alle utenom alternativ \"TEIT OPPGAVE\"\n",
    "y=\"SDOOSPPJPPDGLGAESVGSEGD\"\n",
    "print(myst7(x,y))"
   ]
  },
  {
   "cell_type": "markdown",
   "metadata": {},
   "source": [
    "### Oppgave 2.8"
   ]
  },
  {
   "cell_type": "code",
   "execution_count": null,
   "metadata": {},
   "outputs": [],
   "source": [
    "\n",
    "def myst8(a):      #a=4 : a=3 : a=2 : a=1\n",
    "    if a==1:       #                : True\n",
    "        return 1\n",
    "    b=a-1          #b=3 : b=2 : b=1\n",
    "    c=myst8(b)     #c=6 : c=3 : c=1\n",
    "    d=c+a          #d=10 : d=6 : d=3\n",
    "    return d       #10   : 6   : 3\n",
    "\n",
    "\n",
    "print(myst8(4))    #Printer 10"
   ]
  },
  {
   "cell_type": "markdown",
   "metadata": {},
   "source": [
    "### Oppgave 2.9"
   ]
  },
  {
   "cell_type": "code",
   "execution_count": null,
   "metadata": {},
   "outputs": [],
   "source": [
    "def myst9(A,B):       #A=X, B=Y\n",
    "    x=0\n",
    "    for y in A:       #y=1\n",
    "        for z in B:   #z=1\n",
    "            if y==z:  #y=z=>TRUE\n",
    "                x+=1  #x=1\n",
    "    return x \n",
    "# Ser ut som at målet med funksjonen er \n",
    "# å returnere antall ganger tallene i X\n",
    "# er i tupelet y dermed får vi at\n",
    "    #x=2\n",
    "    #x=2+5\n",
    "    #x=7+2=9\n",
    "#Altså funksjonen returnerer x=9\n",
    "\n",
    "X=(1,2,6)\n",
    "Y=(1,2,6,3,2,2,3,5,1,2,6,4,7,2)\n",
    "print(myst9(X,Y)) ##Printer 9"
   ]
  },
  {
   "cell_type": "markdown",
   "metadata": {},
   "source": [
    "### Oppgave 2.10"
   ]
  },
  {
   "cell_type": "code",
   "execution_count": null,
   "metadata": {},
   "outputs": [],
   "source": [
    "def myst10(a):\n",
    "    x=20\n",
    "    s=0\n",
    "    while x>0: #i=0  : i=1\n",
    "        s=x+a  #s=17 : s=14\n",
    "        x=x-a  #x=23 : x=26\n",
    "    return s   #Funksjonen går i evig løkke og returnerer aldri en verdi\n",
    "\n",
    "print(myst10(-3))"
   ]
  },
  {
   "cell_type": "markdown",
   "metadata": {},
   "source": [
    "# Programmering"
   ]
  },
  {
   "cell_type": "markdown",
   "metadata": {},
   "source": [
    "### Oppgave 3.1\n",
    "\n",
    "Skriv funksjonen input_text med tre parametere prompt, min_char og max_chars. Funksjonen skal spørre\n",
    "om tekst-input fra brukeren med et spørsmål angitt av parameteren prompt som skal være av minimum\n",
    "lengde min_char og maksimum lengde max_char angitt i antall karakterer. Funksjonen skal fortsette å spørre\n",
    "brukeren om å skrive inn et svar inntil svaret har passe lengde. Hvis svaret er for kort, skal \"Text is too short!\"\n",
    "med et innrykk skrives til skjerm. Hvis svaret er for langt, skal \"Text is too long!\" med innrykk skrives til skjerm.\n",
    "Funksjonen skal returnere en tekststreng."
   ]
  },
  {
   "cell_type": "code",
   "execution_count": null,
   "metadata": {},
   "outputs": [],
   "source": [
    "def input_text(prompt, min_chars, max_chars):\n",
    "    while True:\n",
    "        print(prompt) #Ble bare lagt til fordi input skrives ikke til konsoll med min versjon av jupyter/visual studio\n",
    "        svar_bruker=input(prompt)\n",
    "\n",
    "        if len(svar_bruker)>max_chars:\n",
    "            print(\"    Text is too long!\")\n",
    "            continue\n",
    "        if len(svar_bruker)<min_chars:\n",
    "            print(\"    Text is too short!\")\n",
    "            continue\n",
    "        \n",
    "        return svar_bruker\n",
    "\n",
    "input_text(\"Title of the film: \", 3,20)"
   ]
  },
  {
   "cell_type": "markdown",
   "metadata": {},
   "source": [
    "### Oppgave 3.2\n",
    "\n",
    "Skriv funksjonen input_num som har tre parametere prompt, min_num og max_num. Funksjonen skal\n",
    "spørre brukeren om å skrive inn et heltall med spørsmål spesifisert av prompt. Funksjonen skal forsette å\n",
    "spørre brukeren inntil tallet er større eller lik min_num, mindre eller lik max_num og at brukeren ikke skriver\n",
    "inn noen annet enn et heltall (f.eks. tekst eller flyttall).\n",
    "<br><br>\n",
    "Hvis input fra bruker ikke er et heltall, skal \"Must be an integer\" med innrykk bli skrevet til skjermen. Hvis input\n",
    "fra bruker er et tall mindre enn min_num eller større enn max_num, skal \"Must be a number between\n",
    "[min_num] og [max_num] med innrykk skrives til skjerm.\n",
    "<br><br>\n",
    "Funksjonen skal returnere et heltall."
   ]
  },
  {
   "cell_type": "code",
   "execution_count": 5,
   "metadata": {},
   "outputs": [
    {
     "name": "stdout",
     "output_type": "stream",
     "text": [
      "Must be an integer\n",
      "Must be an integer\n",
      "Must be an integer\n",
      "Must be an integer\n",
      "HEllo world\n",
      "15\n"
     ]
    }
   ],
   "source": [
    "def input_num(prompt,min_num,max_num):\n",
    "    while True:\n",
    "        try:\n",
    "            svar_bruker_alder=int(input(prompt))\n",
    "            print(\"HEllo world\")\n",
    "            if svar_bruker_alder>max_num or svar_bruker_alder<min_num:\n",
    "                print(\"Must be a number between 0 and 18\")\n",
    "                continue\n",
    "            return svar_bruker_alder\n",
    "        except:\n",
    "            print(\"Must be an integer\")\n",
    "\n",
    "print(input_num(\"Age rating(0-18): \", 0,18))"
   ]
  },
  {
   "cell_type": "markdown",
   "metadata": {},
   "source": [
    "### Oppgave 3.3\n",
    "\n",
    "Skriv funksjonen input_selection som har to parametere prompt og selections. Funksjonen skal hente tekst-\n",
    "input fra brukeren med et spørsmål spesifisert av prompt. Funksjonen skal spørre brukeren om input helt til\n",
    "brukeren har gitt et svar som befinner seg i tuplet selections. Hvis brukeren skriver et svar som ikke er lik noen\n",
    "av elementene i tuplet, skal funksjonen skrive til skjerm \"Not a valid choice!\" med innrykk\". Videre skal\n",
    "funksjonen skrive til skjerm \"Options that start with XX\" der XX er de to første bokstavene av det brukeren\n",
    "skrev inn. Funksjonen skal så liste ut alle elementene i selections som starter med de to første bokstavene av\n",
    "det brukeren skrev inn. Funksjonen skal returnere en tekststreng."
   ]
  },
  {
   "cell_type": "code",
   "execution_count": null,
   "metadata": {},
   "outputs": [],
   "source": []
  }
 ],
 "metadata": {
  "kernelspec": {
   "display_name": "Python 3.10.8 64-bit",
   "language": "python",
   "name": "python3"
  },
  "language_info": {
   "codemirror_mode": {
    "name": "ipython",
    "version": 3
   },
   "file_extension": ".py",
   "mimetype": "text/x-python",
   "name": "python",
   "nbconvert_exporter": "python",
   "pygments_lexer": "ipython3",
   "version": "3.10.8 (tags/v3.10.8:aaaf517, Oct 11 2022, 16:50:30) [MSC v.1933 64 bit (AMD64)]"
  },
  "orig_nbformat": 4,
  "vscode": {
   "interpreter": {
    "hash": "027dafada3abe8dc4a182f169788952473bcfe25476b5b72d11846b514d53347"
   }
  }
 },
 "nbformat": 4,
 "nbformat_minor": 2
}
