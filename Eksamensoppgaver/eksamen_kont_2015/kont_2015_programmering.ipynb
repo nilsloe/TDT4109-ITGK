{
 "cells": [
  {
   "cell_type": "markdown",
   "metadata": {
    "deletable": false,
    "editable": false,
    "run_control": {
     "frozen": true
    }
   },
   "source": [
    "# Eksamen kont 2015 Programmering\n",
    "\n",
    "**Merk at teori og kodeforståelse ikke er med her.**\n",
    "Hele eksamen ligger på BlackBoard. Her ligger også funksjoner som var vedlagt oppgaven, som kan være nyttig å bruke mens du arbeider med oppgavene under."
   ]
  },
  {
   "cell_type": "markdown",
   "metadata": {
    "deletable": false,
    "editable": false,
    "run_control": {
     "frozen": true
    }
   },
   "source": [
    "## *Oppgave 3 Programmering Yatzy (15%)*\n",
    "\n",
    "Du kan anta at alle funksjonene mottar gyldige argumenter (inn-verdier).\n",
    "\n",
    "I denne oppgaven skal du skrive noen funksjoner til spillet Yatzy. I Yatzy spiller man med 5 terninger\n",
    "der målet er å få høyest poengsum på ulike sammensetninger av terninger som ett par, to par, tre like,\n",
    "fire like, liten straight, stor straight, hus, sjanse og yatzy.\n",
    "\n",
    "<img src=\"img/yatzy.png\" width=\"250px\" align=\"left\">"
   ]
  },
  {
   "cell_type": "markdown",
   "metadata": {
    "deletable": false,
    "editable": false,
    "run_control": {
     "frozen": true
    }
   },
   "source": [
    "## Oppgave 3 a) (3%)\n",
    "\n",
    "Lag funksjonen **throw** som har inn-parameteren **n**. Funksjonen skal returnere en liste med **n**\n",
    "tilfeldige verdier mellom 1 og 6.\n",
    "\n",
    "Eksempel på kjøring av funksjonen og hva den returnerer:\n",
    "\n",
    "<img src=\"img/3a_ex.png\" width=\"700px\" align=\"left\">"
   ]
  },
  {
   "cell_type": "code",
   "execution_count": 16,
   "metadata": {},
   "outputs": [],
   "source": [
    "# Skriv ditt svar her...\n",
    "\n",
    "from random import randint\n",
    "\n",
    "def throw(n):\n",
    "    return [randint(1,6) for i in range(n)]"
   ]
  },
  {
   "cell_type": "markdown",
   "metadata": {
    "deletable": false,
    "editable": false,
    "run_control": {
     "frozen": true
    }
   },
   "source": [
    "## Oppgave 3 b) (3%)\n",
    "\n",
    "Lag funksjonen **chance** som har inn-parameteren **dice** som er en liste med fem elementer med\n",
    "verdier mellom 1 og 6. Funksjonen skal returnere summen av alle elementene i lista og skal lages\n",
    "uten ved hjelp av innebygde funksjoner for å summere lister.\n",
    "\n",
    "Eksempel på kjøring av funksjonen og hva den returnerer:\n",
    "\n",
    "<img src=\"img/3b_ex.png\" width=\"700px\" align=\"left\">"
   ]
  },
  {
   "cell_type": "code",
   "execution_count": 1,
   "metadata": {},
   "outputs": [
    {
     "name": "stdout",
     "output_type": "stream",
     "text": [
      "19\n"
     ]
    }
   ],
   "source": [
    "# Skriv ditt svar her...\n",
    "\n",
    "def chance(lst):\n",
    "    return sum(lst)"
   ]
  },
  {
   "cell_type": "markdown",
   "metadata": {
    "deletable": false,
    "editable": false,
    "run_control": {
     "frozen": true
    }
   },
   "source": [
    "## Oppgave 3 c) (4%)\n",
    "Lag funksjonen **house** som har inn-parameteren **dice** som er en liste med fem elementer med\n",
    "verdier mellom 1 og 6. Funksjonen skal returnere summen av alle terningene hvis verdiene i **dice**\n",
    "har både 3 like og ett par (f.eks. 4,4,4,2,2 eller 1,1,6,6,6), hvis ikke skal verdien 0 returneres.\n",
    "Funksjonen skal også returnere verdien 0 hvis alle elementene i **dice** er like.\n",
    "\n",
    "Eksempel på kjøring av funksjonen og hva den returnerer:\n",
    "\n",
    "<img src=\"img/3c_ex.png\" width=\"700px\" align=\"left\">"
   ]
  },
  {
   "cell_type": "code",
   "execution_count": null,
   "metadata": {},
   "outputs": [],
   "source": []
  },
  {
   "cell_type": "code",
   "execution_count": 21,
   "metadata": {},
   "outputs": [
    {
     "name": "stdout",
     "output_type": "stream",
     "text": [
      "0\n"
     ]
    }
   ],
   "source": [
    "# Skriv ditt svar her...\n",
    "\n",
    "#Jeg antar at listen består av frem terningkast\n",
    "\n",
    "def house(dice):\n",
    "    \n",
    "    set_dice=set(dice)\n",
    "    \n",
    "    if len(set_dice)==2:\n",
    "        str_dice=\"\".join([str(elem) for elem in dice])\n",
    "        \n",
    "        tall=str_dice[0]\n",
    "        \n",
    "        str_dice_filtered=str_dice.replace(str_dice[0], \"\")\n",
    "        \n",
    "        if len(str_dice_filtered) == 2 or len(str_dice_filtered)==3:\n",
    "            return sum(dice)\n",
    "        \n",
    "    else:\n",
    "        return 0\n",
    "    \n",
    "print(house([2,2,2,2,2]))"
   ]
  },
  {
   "cell_type": "markdown",
   "metadata": {
    "deletable": false,
    "editable": false,
    "run_control": {
     "frozen": true
    }
   },
   "source": [
    "## Oppgave 3 d) (5%)\n",
    "\n",
    "Lag funksjonen **straight** som har inn-parameteren **dice** som er en liste med fem elementer med\n",
    "verdier mellom 1 og 6. Funksjonen skal undersøke om listen representerer en liten eller stor straight.\n",
    "Følgende skal returneres:\n",
    "\n",
    "For en liten straight (liste som inneholder tallene 1,2,3,4,5) skal funksjonen returnere tallet 15. For en\n",
    "stor straight (liste som inneholder tallene 2,3,4,5,6) skal funksjonen returnere tallet 20. For en liste\n",
    "som er verken liten eller stor straight skal funksjonen returnere tallet 0.\n",
    "\n",
    "Eksempel på kjøring av funksjonen og hva den returnerer:\n",
    "\n",
    "<img src=\"img/3d_ex.png\" width=\"700px\" align=\"left\">"
   ]
  },
  {
   "cell_type": "code",
   "execution_count": 25,
   "metadata": {},
   "outputs": [
    {
     "name": "stdout",
     "output_type": "stream",
     "text": [
      "0\n"
     ]
    }
   ],
   "source": [
    "# Skriv ditt svar her...\n",
    "\n",
    "def straight(dice):\n",
    "    set_dice=set(dice)\n",
    "    if len(set_dice)==5:\n",
    "        if 1 in set_dice and 6 in set_dice:\n",
    "            return 0\n",
    "        else:\n",
    "            return sum(dice)\n",
    "        \n",
    "    return 0"
   ]
  },
  {
   "cell_type": "markdown",
   "metadata": {
    "deletable": false,
    "editable": false,
    "run_control": {
     "frozen": true
    }
   },
   "source": [
    "## *Oppgave 4 Programmering vitneobservasjoner (45%)*\n",
    "\n",
    "I noen av oppgavene kan det være gunstig å kalle funksjoner som du har laget i tidligere deloppgaver.\n",
    "Selv om du ikke har fått til den tidligere oppgaven, kan du kalle funksjon derfra med antagelse om at\n",
    "den virker som spesifisert i oppgaveteksten.\n",
    "\n",
    "Politiet trenger et system for å sjekke om vitneobservasjoner av kjøretøyer fra hendelser som\n",
    "etterforskes, stemmer med faktiske kjøretøyer i et register.\n",
    "\n",
    "## Oppgave 4 a) (5%)\n",
    "\n",
    "Skriv en funksjon **les_inn_bilinfo( )** som leser inn fra tastatur vitnets observasjon av bilmerke,\n",
    "modell og farge for et kjøretøy. Funksjonen skal returnere disse tre opplysningene i en liste.\n",
    "\n",
    "Eksempel på kjøring (det i fete typer tastes inn av brukeren):\n",
    "\n",
    "<img src=\"img/4a_ex.png\" width=\"700px\" align=\"left\">"
   ]
  },
  {
   "cell_type": "code",
   "execution_count": 29,
   "metadata": {},
   "outputs": [
    {
     "name": "stdout",
     "output_type": "stream",
     "text": [
      "Hvilket bilmerke var det? FIAT\n",
      "Hvilken modell? Uno\n",
      "Hvilken farge? Rød\n"
     ]
    },
    {
     "data": {
      "text/plain": [
       "['FIAT', 'Uno', 'Rød']"
      ]
     },
     "execution_count": 29,
     "metadata": {},
     "output_type": "execute_result"
    }
   ],
   "source": [
    "# Skriv ditt svar her...\n",
    "\n",
    "def les_inn_bilinfo():\n",
    "    spors=[\"Hvilket bilmerke var det? \", \"Hvilken modell? \", \"Hvilken farge? \"]\n",
    "    return [input(elem) for elem in spors]\n",
    "\n",
    "les_inn_bilinfo()"
   ]
  },
  {
   "cell_type": "markdown",
   "metadata": {
    "deletable": false,
    "editable": false,
    "run_control": {
     "frozen": true
    }
   },
   "source": [
    "## Oppgave 4 b) (5%)\n",
    "\n",
    "Skriv en funksjon **sjekk_bil( )** som sammenligner to lister som hver inneholder tre tekststrenger, der\n",
    "den ene lista representerer en vitneobservasjon og den andre en faktisk bil. I vitneobservasjonen kan\n",
    "felt inneholde '?' som betyr at vitnet var usikker på den informasjonen. Funksjonen skal returnere\n",
    "True eller False. True hvis det er full match eller hvis avvik kun gjelder ‘?’, False hvis det fins avvik\n",
    "som ikke er ‘?’. \n",
    "\n",
    "Eksempler på kjøring: \n",
    "\n",
    "<img src=\"img/4b_ex.png\" width=\"700px\" align=\"left\">"
   ]
  },
  {
   "cell_type": "code",
   "execution_count": 35,
   "metadata": {},
   "outputs": [
    {
     "name": "stdout",
     "output_type": "stream",
     "text": [
      "True\n"
     ]
    }
   ],
   "source": [
    "# Skriv ditt svar her...\n",
    "def sjekk_bil(bil_vitne, bil):\n",
    "    set_bil=set()\n",
    "    info_amount=3\n",
    "    for i, elem in enumerate(bil_vitne):\n",
    "        if not(elem==\"?\"):\n",
    "            set_bil.add(bil_vitne[i])\n",
    "            set_bil.add(bil[i])\n",
    "        else:\n",
    "            info_amount-=1\n",
    "            \n",
    "    return info_amount==len(set_bil)\n",
    "\n",
    "print(sjekk_bil(['FIAT', \"Uno\", \"?\"], [\"FIAT\", \"Uno\", \"rød\"]))"
   ]
  },
  {
   "cell_type": "markdown",
   "metadata": {
    "deletable": false,
    "editable": false,
    "run_control": {
     "frozen": true
    }
   },
   "source": [
    "## Oppgave 4 c) (5%)\n",
    "\n",
    "Gitt tuppelet\n",
    "\n",
    "<img src=\"img/4c_tuppel.png\" width=\"450px\" align=\"left\">"
   ]
  },
  {
   "cell_type": "markdown",
   "metadata": {
    "deletable": false,
    "editable": false,
    "run_control": {
     "frozen": true
    }
   },
   "source": [
    "Dette inneholder bokstaver som er lov å bruke på moderne norske bilskilt, samt ‘?’ helt bakerst (hvis\n",
    "vitnet ikke husker). Skriv en funksjon **les_gyldig_vitneskilt()** som leser inn fra tastatur en streng på\n",
    "nøyaktig 7 tegn, hvorav de 2 første tegnene skal være tegn fra tuppelet SKILTBOKSTAV, og de fem\n",
    "siste tegnene skal være tall eller ?. Ved feil input skal funksjonen be brukeren gjøre et nytt forsøk,\n",
    "inntil input er gyldig. Da skal funksjonen returnere strengen. \n",
    "\n",
    "Eksempel på kjøring:\n",
    "\n",
    "<img src=\"img/4c_ex.png\" width=\"700px\" align=\"left\">"
   ]
  },
  {
   "cell_type": "code",
   "execution_count": 42,
   "metadata": {},
   "outputs": [
    {
     "name": "stdout",
     "output_type": "stream",
     "text": [
      "Skriv inn skilt, 2 bokst + 5 tall (?=usikker) VFC1111\n",
      "Fem siste tegn må være tall eller ?\n",
      "Skriv inn skilt, 2 bokst + 5 tall (?=usikker) 8V12345\n",
      "To første tegn må være lovlig skiltbokstav eller ?\n",
      "Skriv inn skilt, 2 bokst + 5 tall (?=usikker) VF123456\n",
      "Skiltnummer må være 7 tegn langt!\n",
      "Skriv inn skilt, 2 bokst + 5 tall (?=usikker) V???888\n"
     ]
    }
   ],
   "source": [
    "# Skriv ditt svar her...\n",
    "\n",
    "SKILTBOKSTAV=(\"A\", \"B\", \"C\", \"D\", \"E\", \"F\", \"G\", \"H\", \"I\", \"J\", \"K\", \"L\", \"N\", \"P\", \"R\", \"S\", \"T\", \"U\", \"V\", \"X\", \"Y\", \"Z\", \"?\")\n",
    "\n",
    "def skiltbokstav():\n",
    "    while True:\n",
    "        skilt=input(\"Skriv inn skilt, 2 bokst + 5 tall (?=usikker) \")\n",
    "        \n",
    "        if len(skilt)==7:\n",
    "            \n",
    "            for elem in skilt[0:2]:\n",
    "                if not(elem in SKILTBOKSTAV):\n",
    "                    print(\"To første tegn må være lovlig skiltbokstav eller ?\")\n",
    "                    break\n",
    "            else:\n",
    "                for elem in skilt[2:-1]:\n",
    "                    if not(elem.isdigit() or elem==\"?\"):\n",
    "                        print(\"Fem siste tegn må være tall eller ?\")\n",
    "                        break\n",
    "                else:\n",
    "                    break\n",
    "            \n",
    "        else:\n",
    "            print(\"Skiltnummer må være 7 tegn langt!\")\n",
    "            \n",
    "skiltbokstav()"
   ]
  },
  {
   "cell_type": "markdown",
   "metadata": {
    "deletable": false,
    "editable": false,
    "run_control": {
     "frozen": true
    }
   },
   "source": [
    "## Oppgave 4 d) (5%)\n",
    "\n",
    "Skriv en funksjon **match( )** som skal sjekke om et vitneobservert skilt kan stemme overens med et\n",
    "faktisk skiltnummer. Funksjonen må ta inn de to strengene som skal sammenlignes som parametere.\n",
    "Returner True hvis det er en hel match (strengene er identiske) eller mulig match (de eneste\n",
    "forskjellene skyldes ?), og False hvis de to ikke kan stemme overens. \n",
    "\n",
    "Eksempel på kjøring:\n",
    "\n",
    "<img src=\"img/4d_ex.png\" width=\"700px\" align=\"left\">"
   ]
  },
  {
   "cell_type": "code",
   "execution_count": 50,
   "metadata": {},
   "outputs": [
    {
     "data": {
      "text/plain": [
       "True"
      ]
     },
     "execution_count": 50,
     "metadata": {},
     "output_type": "execute_result"
    }
   ],
   "source": [
    "# Skriv ditt svar her...\n",
    "\n",
    "def match(skilt_vitne, skilt):\n",
    "    tmp_skilt_vitne=\"\"\n",
    "    tmp_skilt=\"\"\n",
    "    \n",
    "    for i, elem in enumerate(skilt_vitne):\n",
    "        if elem==\"?\":\n",
    "            pass\n",
    "        else:\n",
    "            tmp_skilt_vitne+=skilt_vitne[i]\n",
    "            tmp_skilt+=skilt[i] #kan også bruke elem istedenfor skilt[i]\n",
    "            \n",
    "    \n",
    "    return tmp_skilt_vitne==tmp_skilt"
   ]
  },
  {
   "cell_type": "markdown",
   "metadata": {
    "deletable": false,
    "editable": false,
    "run_control": {
     "frozen": true
    }
   },
   "source": [
    "## Oppgave 4 e) (5%)\n",
    "\n",
    "Skriv en funksjon **match_liste( )** som sammenligner ett vitneobservert skilt med en liste av faktiske\n",
    "skilt. Funksjonen skal returnere lista av alle skilt som kan stemme med det observerte skiltet.\n",
    "\n",
    "Eksempel på kjøring:\n",
    "\n",
    "<img src=\"img/4e_ex.png\" width=\"700px\" align=\"left\">"
   ]
  },
  {
   "cell_type": "code",
   "execution_count": 53,
   "metadata": {},
   "outputs": [
    {
     "data": {
      "text/plain": [
       "['VF12355', 'VF77455', 'VF10055']"
      ]
     },
     "execution_count": 53,
     "metadata": {},
     "output_type": "execute_result"
    }
   ],
   "source": [
    "# Skriv ditt svar her...\n",
    "\n",
    "def match_liste(skilt_vitne, skilt_lst):\n",
    "    \n",
    "    return [skilt for skilt in skilt_lst if match(skilt_vitne, skilt)]\n",
    "\n",
    "match_liste(\"VF???55\", [\"VX33322\", \"VF12355\", \"VF77455\", \"DA?????\", \"VF10055\"])"
   ]
  },
  {
   "cell_type": "markdown",
   "metadata": {
    "deletable": false,
    "editable": false,
    "run_control": {
     "frozen": true
    }
   },
   "source": [
    "## Oppgave 4 f) (20%)\n",
    "\n",
    "Anta at vi har en tekstfil `biler.txt` med format som vist i utdraget under, dvs. skiltnummer,\n",
    "bilmerke, modell, farge og navn på eier, hvor hvert element er adskilt med mellomrom.\n",
    "\n",
    "<img src=\"img/4f_biler.png\" width=\"700px\" align=\"left\">"
   ]
  },
  {
   "cell_type": "markdown",
   "metadata": {
    "deletable": false,
    "editable": false,
    "run_control": {
     "frozen": true
    }
   },
   "source": [
    "Skriv et skript eller en main()-funksjon som gjør følgende:\n",
    "- Les inn data fra fila `biler.txt` og putter i en dictionary. Bruk unntaksbehandling for å unngå\n",
    "krasj hvis fila mangler.\n",
    "- La brukeren sjekke den ene vitneobserverte bilen etter den andre opp mot det som fins i\n",
    "dictionary’en, inntil brukeren ønsker å slutte.\n",
    "- For hver bil som sjekkes, skriv ut potensielle treff til skjerm, dvs. alle biler hvor de\n",
    "opplysningene som ikke var ‘?’, matchet. Vis på skjerm skiltnummer og navn på eier.\n",
    "- Hvis ingen kjøretøy matcher, skal programmet skrive ut 'Ingen match'\n",
    "\n",
    "Du bestemmer selv om du vil skrive all koden for dette i skriptet / main( ), eller om du vil dele det\n",
    "opp i flere funksjoner, men god oppdeling vil telle positivt der det er naturlig. Likeledes vil det telle\n",
    "positivt om du klarer å bruke funksjoner fra tidligere deloppgaver der det passer.\n",
    "\n",
    "Eksempel på kjøring (hvis fila kun besto av de linjene som var vist i utdraget ovenfor):\n",
    "\n",
    "<img src=\"img/4f_ex.png\" width=\"700px\" align=\"left\">"
   ]
  },
  {
   "cell_type": "code",
   "execution_count": 25,
   "metadata": {},
   "outputs": [],
   "source": [
    "# Skriv ditt svar her...\n",
    "\n",
    "def main():\n",
    "    try:\n",
    "        dict_biler=dict()\n",
    "        with open(\"biler.txt\", \"r\") as f:\n",
    "            for line in f.readlines():\n",
    "                lst_biler=line.strip(\"\\n\").split()\n",
    "                dict_biler[lst_biler[0]]=lst_bilder[1,-1]\n",
    "                \n",
    "        while True:\n",
    "            bil_info=les_inn_bilinfo()\n",
    "            skilt_vitne=skiltbokstav()\n",
    "            \n",
    "            mulige_biler_skilt=[skilt for skilt in dict_biler.keys() if match(skilt_vitne, skilt)]\n",
    "            \n",
    "        \n",
    "    except:\n",
    "        print(\"Filen finnes ikke:\")"
   ]
  }
 ],
 "metadata": {
  "kernelspec": {
   "display_name": "Python 3 (ipykernel)",
   "language": "python",
   "name": "python3"
  },
  "language_info": {
   "codemirror_mode": {
    "name": "ipython",
    "version": 3
   },
   "file_extension": ".py",
   "mimetype": "text/x-python",
   "name": "python",
   "nbconvert_exporter": "python",
   "pygments_lexer": "ipython3",
   "version": "3.9.7"
  }
 },
 "nbformat": 4,
 "nbformat_minor": 2
}
