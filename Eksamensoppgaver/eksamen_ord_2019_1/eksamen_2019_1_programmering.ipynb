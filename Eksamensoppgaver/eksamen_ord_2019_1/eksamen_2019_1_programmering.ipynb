{
 "cells": [
  {
   "cell_type": "markdown",
   "metadata": {
    "deletable": false,
    "editable": false,
    "run_control": {
     "frozen": true
    }
   },
   "source": [
    "# Eksamen 2019 1 Programmering\n",
    "**Merk at teori og kodeforståelse ikke er med her.**\n",
    "\n",
    "Hele eksamen ligger på BlackBoard. Her ligger også funksjoner som var vedlagt oppgaven, som kan være nyttig å bruke mens du arbeider med oppgavene under."
   ]
  },
  {
   "cell_type": "markdown",
   "metadata": {
    "deletable": false,
    "editable": false,
    "run_control": {
     "frozen": true
    }
   },
   "source": [
    "## Oppgave 3: Programmering - 50%\n",
    "\n",
    "**Domenebeskriving**\n",
    "\n",
    "Oppgåvene dreiar seg om å hjelpe fiskebåtar med registrering av fangst, og vidareformidling av sal til kundar. Firmaet Avkok A/S tek inn fangst frå mange ulike båtar. Fangsten varierer i fiskeslag og mengde kilo kjøpt. Når butikkar og restaurantar kjøper fisk skal båten som fanga fisken få betalt etter gjeldane kilopris. Vi kan føresetje at når ein handel vert gjord i systemet, så vert også den fysiske flyttinga av fisken gjennomført samstundes. Du kan òg føresetje at du ikkje treng å tenkje på kvar fisk fysisk vert lagra, og at dette vert avgjort av båt og kunde. Du er berre mellomleddet her, og tek ein viss provisjon per handel. Du treng heller ikkje tenke på at fisk rotnar.\n",
    "\n",
    "**Beskriving av datastruktur**\n",
    "\n",
    "Registeret over båtar og lagra fangst er ein dictionary kalla register. Nøkkelen er registreringsnummeret til båten. Dette er unikt for alle båtar. Knytta til kvar nøkkel ligg verdien: *lagra fangst*. Denne er representert ved ei todimensjonal liste der kvart indre element representerer kvart sitt fiskeslag og talet på kilo som er tilgjengeleg for sal.\n",
    "\n",
    "**Døme**\n",
    "\n",
    "Båten med registreringsnummer N64Ø har 511 kilo torsk og 342 kilo hyse til sals. Båt Z4F har 233 kilo torsk og 122 kilo hyse. Då ser strukturen slik ut:\n",
    "\n",
    "\n",
    ">```python\n",
    ">>>> print(register)\n",
    "{'N64Ø': [['laks', 511], ['hyse', 342]], 'Z4F':[['torsk', 233], ['hyse', 122]]}\n",
    "```\n",
    "\n",
    "Gjennom heile oppgåva kan du bruke funksjonar frå tidlegare deloppgåver. Om du ikkje har løyst den tidlegare oppgåva kan du anta at funksjonen eksisterer.\n",
    "\n",
    "Oppgåve 3a tel 7 poeng\n",
    "\n",
    "Oppgåve 3b tel 8 poeng\n",
    "\n",
    "Oppgåve 3c tel 7 poeng\n",
    "\n",
    "Oppgåve 3d tel 7 poeng\n",
    "\n",
    "Oppgåve 3e tel 7 poeng\n",
    "\n",
    "Oppgåve 3f tel 7 poeng\n",
    "\n",
    "Oppgåve 3g tel 7 poeng"
   ]
  },
  {
   "cell_type": "markdown",
   "metadata": {
    "deletable": false,
    "editable": false,
    "run_control": {
     "frozen": true
    }
   },
   "source": [
    "## Oppgave 3a - Registrering av fiskebåt (7%)"
   ]
  },
  {
   "cell_type": "markdown",
   "metadata": {
    "deletable": false,
    "editable": false,
    "run_control": {
     "frozen": true
    }
   },
   "source": [
    "Du tek imot fisk frå kjente og nye fiskebåtar. Fiskaren registrerer ein ny båt gjennom å taste inn nummeret til båten i samsvar med fiskeriregisteret. I bakgrunnen kallar datasystemet opp ein funksjon\n",
    "kalla **check_registration** med *regnummer* som parameter. Funksjonen returnerer True eller False alt etter om registreringsnummeret følgjer retningslinjene i registeret. Reglane er som følgjer: *Nummer i fiskeriregisteret har forma bokstav-tal-bokstav, til dømes N64Ø («Solbris»). Første bokstav svarar til fylkesbokstaven som vart brukt på bilskilt fram til omkring 1970. Tala vert fortlaupande gitte til fiskarar i kvar enkelt kommune, og kan derfor ha anten eit eller to siffer. Til slutt står ein eller to bokstavar som angir kommune. Dømet N64Ø som er oppgitt viser at dette var fiskefartøy nummer 64 i Øksnes kommune i Nordland. Vi gjentar: <1 bokstav><1-2 siffer><1-2 bokstavar>.*\n",
    "\n",
    "Skriv funksjonen **check_registration** som skal ta imot eit registreringsnummer og returnere om det er skrive i samsvar med retningslinjene i fiskeriregisteret.\n",
    "\n",
    "**Døme:**\n",
    "\n",
    "\n",
    "\n",
    ">```python\n",
    ">>>> print(check_registration('N64Ø'))\n",
    "True\n",
    ">>>> print(check_registration('NN4Ø'))\n",
    "False\n",
    "```\n",
    "\n",
    "Døma over er berre døme - ein skal ikkje 'hardkode' sjekk mot akkurat desse.\n",
    "\n",
    "Følgjande registreringsnummer skal til dømes òg returnere True: N4A, B46MC, P53V, Z4HB.\n",
    "\n",
    "Følgjande registreringsnummer skal returnere False: NR5H, P557J, 672NH."
   ]
  },
  {
   "cell_type": "code",
   "execution_count": 20,
   "metadata": {},
   "outputs": [
    {
     "data": {
      "text/plain": [
       "False"
      ]
     },
     "execution_count": 20,
     "metadata": {},
     "output_type": "execute_result"
    }
   ],
   "source": [
    "# Skriv svaret ditt her...\n",
    "\n",
    "def check_registration(regnummer):\n",
    "    if regnummer[0].isalpha():\n",
    "        if regnummer[1:3].isdigit() and regnummer[3:].isalpha() and len(regnummer[3:])<=2:\n",
    "            return True\n",
    "        elif regnummer[1:2].isdigit() and regnummer[2:].isalpha() and len(regnummer[2:])<=2:\n",
    "            return True\n",
    "    return False\n"
   ]
  },
  {
   "cell_type": "markdown",
   "metadata": {
    "deletable": false,
    "editable": false,
    "run_control": {
     "frozen": true
    }
   },
   "source": [
    "## Oppgave 3b - Hvor mye av en viss fisk (8%)\n",
    "\n",
    "Kvar båt har lagra fisken i ei todimensjonal liste. Det kan vere fint å finne ut kor mykje av ein enkelt fiskeart som er lagra. Her kan vi ta for gitt at lagra fisk for ein gitt fiskar er tilgjengeleg gjennom parameteren store, mens fisketypen er ein streng gitt i parameteren kind. Viss det ikkje finst noko fisk av denne typen skal funksjonen returnere talet 0.\n",
    "\n",
    "Skriv funksjonen **fish_amount** som tek parameterane store og kind.\n",
    "\n",
    "**Døme:**\n",
    "\n",
    ">```python\n",
    ">>>> store = [['torsk', 200], ['sei', 100]]\n",
    ">>>> print(fish_amount(store, 'torsk'))\n",
    "200\n",
    ">>>> print(fish_amount(store, 'månefisk'))\n",
    "0\n",
    "```\n"
   ]
  },
  {
   "cell_type": "code",
   "execution_count": 25,
   "metadata": {},
   "outputs": [
    {
     "name": "stdout",
     "output_type": "stream",
     "text": [
      "0\n"
     ]
    }
   ],
   "source": [
    "# Skriv svaret ditt her...\n",
    "\n",
    "def fish_amount(store, kind):\n",
    "    return max([antall_fisk if fisk_type==kind else 0 for fisk_type, antall_fisk in store])\n",
    "\n",
    "store=[[\"torsk\", 200], [\"sei\", 100]]\n",
    "print(fish_amount(store, \"månefisk\"))"
   ]
  },
  {
   "cell_type": "markdown",
   "metadata": {
    "deletable": false,
    "editable": false,
    "run_control": {
     "frozen": true
    }
   },
   "source": [
    "## Oppgave 3c - Legg til fisk (7%)\n",
    "\n",
    "Lageret skal oppdaterast når det kjem inn meir fisk. Dette vert oppgitt som ei liste med fiskeslag og talet på kilo: ['torsk', 200]. Lag eit nytt element viss fisketypen ikkje allereie finst i lageret.\n",
    "\n",
    "Skriv funksjonen **add_fish**, som tar *store* og ei *liste* som inputparameterar og returnerer det oppdaterte lageret.\n",
    "\n",
    "**Døme:**\n",
    ">```python\n",
    ">>>> print(store)\n",
    "[['torsk', 200], ['sei', 100]]\n",
    ">>>> add_fish(store, ['torsk', 100]) # Already in store\n",
    ">>>> add_fish(store, ['hyse', 70]) # Not in store\n",
    ">>>> print(store)\n",
    "[['torsk', 300], ['sei', 100], ['hyse', 70]]\n",
    "```"
   ]
  },
  {
   "cell_type": "code",
   "execution_count": 26,
   "metadata": {},
   "outputs": [],
   "source": [
    "# Skriv svaret ditt her...\n",
    "\n",
    "def add_fish(store, lst):               #Antar bare en en-dimensjonal liste bestående av to elementer\n",
    "    if fish_amount(store,lst[0]):\n",
    "        store.append(lst)\n",
    "        print(store)\n",
    "    else:\n",
    "        store=[gammel_antall+lst[1] if type==lst[0] else gammel_antall for type, gammel_antall in store]\n",
    "\n",
    "    return store"
   ]
  },
  {
   "cell_type": "markdown",
   "metadata": {
    "deletable": false,
    "editable": false,
    "run_control": {
     "frozen": true
    }
   },
   "source": [
    "## Oppgave 3d - Lagre masse fisk (7%)\n",
    "\n",
    "Ein fiskar kan fange mange typar fisk på ein gong - og ynskjer dermed å rapportere inn dette. Fleire typer fisk vert rapportert inn som ei todimensjonal liste, på same format som store: [['type', mengde], ['type',\n",
    "mengde], ['type', mengde]]\n",
    "\n",
    "Skriv funksjonen **add_much_fish** som tek *store* og ei *2D-liste* som inputparameterar.\n",
    "\n",
    "**Døme:**\n",
    "\n",
    ">```python\n",
    ">>>> print(store)\n",
    "[['torsk', 300], ['sei', 100], ['hyse', 70]]\n",
    ">>>> add_much_fish(store, [['kveite', 120], ['torsk', 200]])\n",
    ">>>> print(store)\n",
    "[['torsk', 500], ['sei', 100], ['hyse', 70], ['kveite', 120]]\n",
    "```"
   ]
  },
  {
   "cell_type": "code",
   "execution_count": null,
   "metadata": {},
   "outputs": [],
   "source": [
    "# Skriv svaret ditt her...\n",
    "\n",
    "def add_much_fish(store, lst):\n",
    "    for fish in lst:\n",
    "        store=add_fish(store,fish)\n",
    "\n",
    "    return store"
   ]
  },
  {
   "cell_type": "markdown",
   "metadata": {
    "deletable": false,
    "editable": false,
    "run_control": {
     "frozen": true
    }
   },
   "source": [
    "## Oppgave 3e - Fjerne fisk (7%)\n",
    "\n",
    "Fisk vert fjerna frå lista av to grunner - anten har han vorte for gammal, eller så har han vorte seld (meir om det seinare). Kva og kor mykje som skal fjernast vert sende med som parameter, på formatet ['type', mengde].\n",
    "\n",
    "Lag funksjonen **remove_fish** som har parameterane *store* og *remove*.\n",
    "\n",
    "Funksjonen skal fjerne den gitte mengda fisk frå lageret (*store*). Dersom det skulle gjerast eit forsøk på å fjerne meir frå lageret enn det faktisk finst, så skal det givast beskjed om dette. I så fall skal ingen fisk fjernast når funksjonen vert kalla. Du finn eit eksempel på dette ved spørjing etter kveite under.\n",
    "\n",
    "\n",
    "**Døme:**\n",
    "\n",
    ">```python\n",
    ">>>> print(store)\n",
    "[['torsk', 500], ['sei', 100], ['hyse', 70], ['kveite', 120]]\n",
    ">>>> remove_fish(store, ['torsk', 300])\n",
    ">>>> print(store)\n",
    "[['torsk', 200], ['sei', 100], ['hyse', 70], ['kveite', 120]]\n",
    ">>>> remove_fish(store, ['kveite', 200])\n",
    "There's not enough kveite left\n",
    ">>>> print(store)\n",
    "[['torsk', 200], ['sei', 100], ['hyse', 70], ['kveite', 120]]\n",
    "```"
   ]
  },
  {
   "cell_type": "code",
   "execution_count": 40,
   "metadata": {},
   "outputs": [
    {
     "name": "stdout",
     "output_type": "stream",
     "text": [
      "[['torsk', 150], ['sei', 100], ['hyse', 70], ['kveite', 120]]\n"
     ]
    }
   ],
   "source": [
    "# Skriv svaret ditt her...\n",
    "\n",
    "store=[[\"torsk\", 200], [\"sei\", 100], [\"hyse\", 70], [\"kveite\", 120]]\n",
    "\n",
    "def remove_fish(store, remove):\n",
    "    if fish_amount(store, remove[0])<remove[1]:\n",
    "        print(f\"There is not enough {remove[0]} left\")\n",
    "        print(store)\n",
    "        return store\n",
    "    \n",
    "    return [[fish, antall-remove[1]] if fish==remove[0] else [fish, antall] for fish, antall in store]\n",
    "\n",
    "print(remove_fish(store, [\"torsk\", 50]))"
   ]
  },
  {
   "cell_type": "markdown",
   "metadata": {
    "deletable": false,
    "editable": false,
    "run_control": {
     "frozen": true
    }
   },
   "source": [
    "## Oppgave 3f - Lese inn fisk fra fil (7%)\n",
    "Fiskebåtane er aktive på natta. Under oppteljing rapporterar dei inn fangstmengda av ulike fiskeslag gjennom nettsida di, dette vert lagra rett i ei fil. Når du kjem på kontoret køyrer du funksjonen **read_fish_from_file**. Denne funksjonen les innhaldet i fila *fishy.txt* og oppdaterer eit register med båtar og kva fisketyper og mengder dei har tilgjengelig. Fila består av eit sett med liner på forma båtnamn:fisketype:mengde. (Andre og sjette innslag her er feil).\n",
    "\n",
    "<img src=\"img/fish_file.png\" width=\"150px\">\n",
    "\n",
    "\n",
    "Skriv funksjonen **read_fish_from_file**. Funksjonen tek inn ein dictionary *register* - denne er beskriven i første del av oppgåveteksta. Dersom det ikkje eksisterer ein båt med båtnamnet i registeret frå før, og båtnamnet stemmer med namnesjekken i oppgåve a skal det opprettast ein ny nøkkel på denne og fangsten som er rapportert skal leggjast inn. Dersom båtnavnet ikkje er korrekt bygd opp skal det ikkje leggjast til i registeret, men funksjonen skal i staden skrive ut:\n",
    "\n",
    "'Båtkode' var ugyldig - hopper over fangstrapportering.\n",
    "\n",
    "**Døme:**\n",
    "\n",
    "\n",
    ">```python\n",
    ">>>> register = {}\n",
    ">>>> read_fish_from_file(register)\n",
    "N434 was illegal - skipping catch report\n",
    "NB4A was illegal - skipping catch report\n",
    ">>>> print(register)\n",
    "{'N64Ø': [['torsk', 543], ['hyse', 110], ['kveite', 300]], 'Z4F': [['torsk', 120], ['hyse', 120]]}\n",
    "```"
   ]
  },
  {
   "cell_type": "code",
   "execution_count": 44,
   "metadata": {},
   "outputs": [],
   "source": [
    "# Skriv svaret ditt her...\n",
    "\n",
    "def read_fish_from_file(register):\n",
    "    with open(\"file.txt\", \"r\") as f:\n",
    "        for line in f.readlines():\n",
    "            line=line.strip(\"\\n\").split(\":\")\n",
    "\n",
    "            key=line[0]\n",
    "            val=line[1:]\n",
    "\n",
    "            if key not in register.keys():\n",
    "                if check_registration(key):\n",
    "                    register[key]=val\n",
    "                else:\n",
    "                    print(\"'Båtkode' var ugyldig - hopper over fangstrapportering\")\n",
    "                    continue\n",
    "            else:\n",
    "                add_fish(register[key], key)\n",
    "\n",
    "    return register\n",
    "\n",
    "register={\"N64Ø\": [[\"torsk\", 543], [\"hyse\", 110], [\"kveite\", 300]], \"Z4F\": [[\"torsk\", 120], [\"hyse\", 120]]}"
   ]
  },
  {
   "cell_type": "markdown",
   "metadata": {
    "deletable": false,
    "editable": false,
    "run_control": {
     "frozen": true
    }
   },
   "source": [
    "## Oppgave 3g - Send kjøpere til fiskerne som har rett type (7%)\n",
    "\n",
    "Gjennom nettsida di sender kjøparar deg førespurnadar om dei kan kjøpe fisk av ulik type og mengde, men berre ein type av gongen.\n",
    "\n",
    "Funksjonen **handle_customer** med parameterane *register* og *need* handterer dette. Kundane skal få vite kva for båtar dei må kontakta, og kor mykje fisk av ulikt slag dei kan kjøpe frå kvar av båtane. Dei skal i tillegg få veskjed om kor mykje dette kostar, og få vite det dersom det ikkje er nok fisk av typen til å dekke behovet. Han skal òg beregne *din inntekt* av videreformidlinga.\n",
    "\n",
    "Skriv funksjonn **handle_customer** som beskrive.\n",
    "\n",
    "Variabelen *register* inneheld den fisken som er tilgjengeleg hos alle fiskeseljarane akkurat no, medan *need* er fiskearten og mengda som kunden vil ha. Formatet på *need* er ei liste ['type', mengde]. Dette behovet skal så fyllast av ein eller fleire fiskebåtar, viss mogleg. Du treng ikkje tenke på rettferdig fordeling av sal mellom fiskebåtane. Viss det ikkje er mogleg å samle nok fisk til å dekke behovet til kunden skal det *skrivast* ut ein beskjed , se dømet under. Dersom behovet er dekt skal tilsvarande mengder av fisk som kunden skal ha frå kvar båt *fjernast* frå registeret til båtane.\n",
    "\n",
    "Viss eit behov ikkje kan dekkast skal ingen fisk fjernast. Viss eit sal lykkast skal du ha *betalt frå kunden*. Du tar ein fast pris på ti kroner per kilo for all fisk som vert omsett, og femti kroner for kvar båt som det skal handlast frå. Det skal skrivast ut til kunden kor mykje handelen kostar samstundes som dei får beskjed om kva for båtar dei kan handle frå.\n",
    "\n",
    "**Døme:**\n",
    "\n",
    "<img src=\"img/3g_ex.png\">"
   ]
  },
  {
   "cell_type": "code",
   "execution_count": 59,
   "metadata": {},
   "outputs": [
    {
     "name": "stdout",
     "output_type": "stream",
     "text": [
      "280 N64Ø\n",
      "The following boats have kveite: [['N64Ø', 280]]. The total cost is 2850\n"
     ]
    }
   ],
   "source": [
    "# Skriv svaret ditt her...\n",
    "def handle_customer(register, need):\n",
    "\n",
    "    fish_needed=need[0]\n",
    "    amount_needed=need[1]\n",
    "    original_needed=amount_needed\n",
    "\n",
    "    dictionary_fish_register=dict()\n",
    "\n",
    "    for key, val in register.items():\n",
    "        for fish, amount in val:\n",
    "            dictionary_fish_register[fish]=dictionary_fish_register.get(fish, [])\n",
    "            dictionary_fish_register[fish].append([key, amount])\n",
    "\n",
    "    if sum([amount for boat, amount in dictionary_fish_register[fish_needed]])<amount_needed:\n",
    "        print(f\"There is not enough {fish_needed} left to cover your requirement\")\n",
    "        return register\n",
    "\n",
    "\n",
    "    values=dictionary_fish_register[fish_needed]\n",
    "    boats_bought_from=[]\n",
    "    i=0\n",
    "    while amount_needed>0:\n",
    "        print(amount_needed, values[i][0])\n",
    "        if amount_needed//values[i][1]==0:\n",
    "            boats_bought_from.append([values[i][0], amount_needed%values[i][1]])\n",
    "        else:\n",
    "            boats_bought_from.append([values[i][0], values[i][1]])\n",
    "            \n",
    "        amount_needed-=values[i][1]\n",
    "        i+=1\n",
    "    \n",
    "    print(f\"The following boats have {fish_needed}: {boats_bought_from}. The total cost is {10*original_needed+50*len(boats_bought_from)}\")\n",
    "\n",
    "handle_customer(register, [\"kveite\", 280])"
   ]
  }
 ],
 "metadata": {
  "kernelspec": {
   "display_name": "Python 3.10.8 64-bit",
   "language": "python",
   "name": "python3"
  },
  "language_info": {
   "codemirror_mode": {
    "name": "ipython",
    "version": 3
   },
   "file_extension": ".py",
   "mimetype": "text/x-python",
   "name": "python",
   "nbconvert_exporter": "python",
   "pygments_lexer": "ipython3",
   "version": "3.10.8"
  },
  "vscode": {
   "interpreter": {
    "hash": "027dafada3abe8dc4a182f169788952473bcfe25476b5b72d11846b514d53347"
   }
  }
 },
 "nbformat": 4,
 "nbformat_minor": 4
}
