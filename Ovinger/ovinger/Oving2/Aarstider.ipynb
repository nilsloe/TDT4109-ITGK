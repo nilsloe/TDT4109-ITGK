{
 "cells": [
  {
   "cell_type": "markdown",
   "metadata": {
    "deletable": false,
    "editable": false,
    "run_control": {
     "frozen": true
    }
   },
   "source": [
    "<nav class=\"navbar navbar-default\">\n",
    "  <div class=\"container-fluid\">\n",
    "    <div class=\"navbar-header\">\n",
    "      <a class=\"navbar-brand\" href=\"_Oving2.ipynb\">Øving 2</a>\n",
    "    </div>\n",
    "    <ul class=\"nav navbar-nav\">\n",
    "    <li><a href=\"Ulike%20typer%20if-setninger.ipynb\">Ulike typer if-setninger</a></li>\n",
    "    <li><a href=\"Sammenligning%20av%20strenger.ipynb\">Sammenligning av strenger</a></li>\n",
    "    <li><a href=\"Logiske%20operatorer%20og%20logiske%20uttrykk.ipynb\">Logiske operatorer og logiske uttrykk</a></li>\n",
    "    <li><a href=\"Forbrytelse%20og%20straff.ipynb\">Forbrytelse og straff</a></li>\n",
    "    <li class=\"active\"><a href=\"Aarstider.ipynb\">Årstider</a></li>\n",
    "        <li ><a href=\"Tekstbasert%20spill.ipynb\">Tekstbasert spill</a></li>\n",
    "    <li><a href=\"Sjakkbrett.ipynb\">Sjakkbrett</a></li>\n",
    "    <li><a href=\"Billettpriser%20og%20rabatter.ipynb\">Billettpriser og rabatter</a></li>\n",
    "    <li><a href=\"Skatteetaten.ipynb\">Skatteetaten</a></li>\n",
    "    <li><a href=\"Epletigging.ipynb\">Datamaskinen som tigget epler</a></li>\n",
    "    <li><a href=\"Andregradsligning.ipynb\">Andregradsligning</a></li>\n",
    "    </ul>\n",
    "  </div>\n",
    "</nav>\n",
    "\n",
    "\n",
    "# Årstider\n",
    "\n",
    "**Læringsmål:**\n",
    "- Betingelser\n",
    "- Logiske uttrykk\n",
    "\n",
    "**Starting Out with Python:**\n",
    "- Kap. 3.3-3.5\n",
    "\n",
    "I denne oppgaven skal en bruker skrive inn dag og måned og få ut hvilken årstid datoen tilhører.\n",
    "\n",
    "Et år har (offisielt) fire årstider, og i denne oppgaven tar vi utgangspunkt i at årstidsskiftene følger tabellen nedenfor. **(Merk deg datoene)**\n",
    "\n",
    "\n",
    "Årstid | Første dag\n",
    "--- | ---\n",
    "Vår | 20. mars\n",
    "Sommer | 21. juni\n",
    "Høst | 22. september\n",
    "Vinter | 21. desember"
   ]
  },
  {
   "cell_type": "markdown",
   "metadata": {
    "deletable": false,
    "editable": false,
    "run_control": {
     "frozen": true
    }
   },
   "source": [
    "**Oppgave:** Lag et program som tar inn en måned som en streng og en dag i denne måneden som et tall fra brukeren. Programmet skal så skrive ut årstiden assosiert med denne datoen.\n",
    "\n",
    "Du kan anta at inputen er en gyldig dato.\n",
    "\n",
    "**Eksempel på kjøring:**\n",
    "```\n",
    "Måned: mars\n",
    "Dag: 20\n",
    "Vår\n",
    "```  \n",
    "  \n",
    "```\n",
    "Måned: mars\n",
    "Dag: 19\n",
    "Vinter\n",
    "```  \n",
    "  \n",
    "```\n",
    "Måned: november\n",
    "Dag: 20\n",
    "Høst\n",
    "```\n",
    "\n",
    "___Skriv din kode her:___"
   ]
  },
  {
   "cell_type": "code",
   "execution_count": 18,
   "metadata": {},
   "outputs": [
    {
     "name": "stdin",
     "output_type": "stream",
     "text": [
      "Måned:  desember\n",
      "Dag:  30\n"
     ]
    },
    {
     "name": "stdout",
     "output_type": "stream",
     "text": [
      "vinter\n"
     ]
    }
   ],
   "source": [
    "maaneder=[\"januar\", \"februar\", \"mars\", \"april\", \"mai\", \"juni\", \"juli\", \"august\", \"september\", \"oktober\", \"november\", \"desember\"]\n",
    "\n",
    "curr_month=input(\"Måned: \")\n",
    "curr_day=int(input(\"Dag: \"))\n",
    "\n",
    "i=0\n",
    "while True:\n",
    "    if(curr_month==maaneder[i]):\n",
    "        break\n",
    "    i+=1\n",
    "\n",
    "if (i==12 or i<=1):\n",
    "    aarstid=\"vinter\"\n",
    "elif (i<=4):\n",
    "    aarstid=\"vår\"\n",
    "elif (i<=7):\n",
    "    aarstid=\"sommer\"\n",
    "else:\n",
    "    aarstid=\"høst\"\n",
    "\n",
    "print(aarstid)"
   ]
  }
 ],
 "metadata": {
  "kernelspec": {
   "display_name": "Python 3 (ipykernel)",
   "language": "python",
   "name": "python3"
  },
  "language_info": {
   "codemirror_mode": {
    "name": "ipython",
    "version": 3
   },
   "file_extension": ".py",
   "mimetype": "text/x-python",
   "name": "python",
   "nbconvert_exporter": "python",
   "pygments_lexer": "ipython3",
   "version": "3.9.7"
  },
  "toc": {
   "base_numbering": 1,
   "nav_menu": {},
   "number_sections": false,
   "sideBar": true,
   "skip_h1_title": false,
   "title_cell": "Table of Contents",
   "title_sidebar": "Contents",
   "toc_cell": false,
   "toc_position": {},
   "toc_section_display": true,
   "toc_window_display": false
  }
 },
 "nbformat": 4,
 "nbformat_minor": 4
}
