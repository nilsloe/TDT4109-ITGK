{
 "cells": [
  {
   "cell_type": "markdown",
   "metadata": {
    "deletable": false,
    "editable": false,
    "run_control": {
     "frozen": true
    }
   },
   "source": [
    "# Øving 2\n",
    "\n",
    "**Læringsmål:**\n",
    "\n",
    "- If-setninger, hvorfor og hvordan\n",
    "- Betingelser, Logiske uttrykk\n",
    "- IT/hardware i hverdagen\n",
    "\n",
    "**Starting Out with Python:**\n",
    "\n",
    "- Kap 3 - Decision Structures and Boolean Logic\n",
    "\n",
    "**Theory book**\n",
    "\n",
    "- Kap 1 - Defining information Technology\n",
    "- Kap 7 - Representing Information Digitally\n",
    "- Kap 9 - Principles of Computer Operations\n",
    " \n",
    "\n",
    "## Godkjenning:\n",
    "\n",
    "For å få godkjent øvingen må du gjøre ***4*** av ***11*** oppgaver.\n",
    "\n",
    "Oppgaver som er litt ekstra vanskelig er markert med stjerne. Oppgaver som går forbi det som er blitt forelest er markert med to stjerner.\n",
    "\n",
    "Alle oppgavene skal demonstreres til en læringsassistent på sal. I oppgaver der du skriver programkode skal også denne vises fram. Lykke til!\n",
    "\n",
    "\n",
    "Oppgave | Tema | Vanskelighetsgrad\n",
    "--- | --- | ---\n",
    "[Ulike typer if-setninger](Ulike%20typer%20if-setninger.ipynb) | Valg, forgreninger | \n",
    "[Sammenligning av strenger](Sammenligning%20av%20strenger.ipynb)|Betingelser|\n",
    "[Logiske operatorer og logiske uttrykk](Logiske%20operatorer%20og%20logiske%20uttrykk.ipynb)|Betingelser, logiske uttrykk|\n",
    "[Forbrytelse og straff](Forbrytelse%20og%20straff.ipynb)|Kodeforståelse, feilretting|\n",
    "[Årstider](Aarstider.ipynb)|Betingelser, logiske uttrykk|\n",
    "[Tekstbasert spill](Tekstbasert%20spill.ipynb)|Betingelser|![img](../../../Resources/Images/star_yellow.svg)\n",
    "[Sjakkbrett](Sjakkbrett.ipynb)|Betingelser, logiske uttrykk|![img](../../../Resources/Images/star_yellow.svg)\n",
    "[Billettpriser og rabatter](Billettpriser%20og%20rabatter.ipynb)|Betingelser|![img](../../../Resources/Images/star_yellow.svg)\n",
    "[Skatteetaten](Skatteetaten.ipynb)|Betingelser|![img](../../../Resources/Images/star_yellow.svg)\n",
    "[Datamaskinen som tigget epler](Epletigging.ipynb)|Feilretting, betingelser|![img](../../../Resources/Images/star_yellow.svg)\n",
    "[Andregradsligning](Andregradsligning.ipynb)|Betingelser avrundingsfeil|![img](../../../Resources/Images/star_yellow.svg)"
   ]
  }
 ],
 "metadata": {
  "kernelspec": {
   "display_name": "Python 3.9.13 ('base')",
   "language": "python",
   "name": "python3"
  },
  "language_info": {
   "codemirror_mode": {
    "name": "ipython",
    "version": 3
   },
   "file_extension": ".py",
   "mimetype": "text/x-python",
   "name": "python",
   "nbconvert_exporter": "python",
   "pygments_lexer": "ipython3",
   "version": "3.9.13"
  },
  "toc": {
   "base_numbering": 1,
   "nav_menu": {},
   "number_sections": false,
   "sideBar": true,
   "skip_h1_title": false,
   "title_cell": "Table of Contents",
   "title_sidebar": "Contents",
   "toc_cell": false,
   "toc_position": {},
   "toc_section_display": true,
   "toc_window_display": false
  },
  "vscode": {
   "interpreter": {
    "hash": "f05a986ba9b7ef90082f46a82802a347e8bf98d05eda311516ee131e0e17234d"
   }
  }
 },
 "nbformat": 4,
 "nbformat_minor": 4
}
