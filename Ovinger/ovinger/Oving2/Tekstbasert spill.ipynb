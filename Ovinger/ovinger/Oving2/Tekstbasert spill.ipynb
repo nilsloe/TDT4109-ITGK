{
 "cells": [
  {
   "cell_type": "markdown",
   "metadata": {
    "deletable": false,
    "editable": false,
    "run_control": {
     "frozen": true
    }
   },
   "source": [
    "<nav class=\"navbar navbar-default\">\n",
    "  <div class=\"container-fluid\">\n",
    "    <div class=\"navbar-header\">\n",
    "      <a class=\"navbar-brand\" href=\"_Oving2.ipynb\">Øving 2</a>\n",
    "    </div>\n",
    "    <ul class=\"nav navbar-nav\">\n",
    "    <li><a href=\"Ulike%20typer%20if-setninger.ipynb\">Ulike typer if-setninger</a></li>\n",
    "    <li><a href=\"Sammenligning%20av%20strenger.ipynb\">Sammenligning av strenger</a></li>\n",
    "    <li><a href=\"Logiske%20operatorer%20og%20logiske%20uttrykk.ipynb\">Logiske operatorer og logiske uttrykk</a></li>\n",
    "    <li><a href=\"Forbrytelse%20og%20straff.ipynb\">Forbrytelse og straff</a></li>\n",
    "    <li ><a href=\"Aarstider.ipynb\">Årstider</a></li>\n",
    "    <li class=\"active\"><a href=\"Tekstbasert%20spill.ipynb\">Tekstbasert spill</a></li>\n",
    "    <li><a href=\"Sjakkbrett.ipynb\">Sjakkbrett</a></li>\n",
    "    <li><a href=\"Billettpriser%20og%20rabatter.ipynb\">Billettpriser og rabatter</a></li>\n",
    "    <li><a href=\"Skatteetaten.ipynb\">Skatteetaten</a></li>\n",
    "    <li><a href=\"Epletigging.ipynb\">Datamaskinen som tigget epler</a></li>\n",
    "    <li><a href=\"Andregradsligning.ipynb\">Andregradsligning</a></li>\n",
    "    </ul>\n",
    "  </div>\n",
    "</nav>\n",
    "\n",
    "\n",
    "# Tekstbasert spill\n",
    "\n",
    "\n",
    "**Læringsmål:**\n",
    "\n",
    "- Betingelser\n",
    "\n",
    "**Starting Out with Python:**\n",
    "\n",
    "- Kap. 3.1- 3.2\n",
    "- Kap. 3.4\n",
    "\n",
    "Noe gøy vi kan gjøre med if-setninger er å lage et enkelt tekstbasert spill. Her er et eksempel fra starten av et av de mest kjente tekstbaserte spillene, Zork:\n",
    "```\n",
    "West of House\n",
    "This is an open field west of a white house, with a boarded front door.\n",
    "There is a small mailbox here.\n",
    "A rubber mat saying 'Welcome to Zork!' lies by the door.\n",
    "\n",
    ">open mailbox\n",
    "You open the mailbox, revealing a small leaflet.\n",
    "\n",
    ">read leaflet\n",
    "(first taking the small leaflet)\n",
    "                          WELCOME TO ZORK\n",
    "\n",
    "    ZORK is a game of adventure, danger, and low cunning.  In it you will explore some of the most amazing territory ever seen by mortal man.  Hardened adventurers have run screaming from the terrors contained within!\n",
    "    ...\n",
    "    ```\n",
    "    \n",
    "Som du ser gjør man kommandoer i spillet ved å skrive inn hva man ønsker å gjøre. Da må man passe på at programmet klarer å kjenne igjen flere kommandoer en bruker kan tenke å skrive inn."
   ]
  },
  {
   "cell_type": "markdown",
   "metadata": {
    "deletable": false,
    "editable": false,
    "run_control": {
     "frozen": true
    }
   },
   "source": [
    "### a)"
   ]
  },
  {
   "cell_type": "markdown",
   "metadata": {
    "deletable": false,
    "editable": false,
    "run_control": {
     "frozen": true
    }
   },
   "source": [
    "Skriv en intro til spillet ditt på en eller to setninger. La så brukeren skrive inn hva den ønsker å gjøre, og lag feedback for minst tre forskjellige muligheter ved hjelp av if-setninger. (Ønsker brukeren å åpne en dør, hva skjer? Ønsker brukeren å løpe vekk, hva skjer? Se på Zork eksempelet over eller test det ut selv [her](http://zorkonline.net/) om du trenger inspirasjon.) Husk å skriv kode for minst tre forskjellige scenarioer. I denne deloppgaven trenger du ikke ta hensyn til om brukeren skrev inn noe annet enn du forventet.\n",
    "\n",
    "Eksempel:\n",
    "```python\n",
    "Du står utenfor en dør.\n",
    ">gå inn\n",
    "Døren er låst.\n",
    "\n",
    "Du står utenfor en dør.\n",
    ">bank på\n",
    "Ingen svarer\n",
    "\n",
    "Du står utenfor en dør.\n",
    ">lås opp\n",
    "Du låser opp døren\n",
    "```\n",
    "\n",
    "***Skriv koden din her:***"
   ]
  },
  {
   "cell_type": "code",
   "execution_count": 2,
   "metadata": {},
   "outputs": [
    {
     "name": "stdout",
     "output_type": "stream",
     "text": [
      "Du står utenfor en dør.\n"
     ]
    },
    {
     "name": "stdin",
     "output_type": "stream",
     "text": [
      "> Gå inn\n"
     ]
    },
    {
     "name": "stdout",
     "output_type": "stream",
     "text": [
      "Døren er låst.\n"
     ]
    }
   ],
   "source": [
    "print(\"Du står utenfor en dør.\")\n",
    "kommando=input(\">\")\n",
    "\n",
    "kommando_lowercase=str.lower(kommando)\n",
    "\n",
    "if(kommando_lowercase==\"gå inn\" or kommando_lowercase==\"gå inn døren\" or kommando_lowercase==\"går inn\"):\n",
    "    print(\"Døren er låst.\")\n",
    "elif(kommando_lowercase==\"bank på\" or kommando_lowercase==\"bank på døren\" or kommando_lowercase==\"banker på\"):\n",
    "    print(\"Ingen svarer\")\n",
    "elif(kommando_lowercase==\"lås opp\" or kommando_lowercase==\"lås opp døren\" or kommando_lowercase==\"låser opp\"):\n",
    "    print(\"Du låser opp døren\")"
   ]
  },
  {
   "cell_type": "markdown",
   "metadata": {
    "deletable": false,
    "editable": false,
    "run_control": {
     "frozen": true
    }
   },
   "source": [
    "### b)"
   ]
  },
  {
   "cell_type": "markdown",
   "metadata": {
    "deletable": false,
    "editable": false,
    "run_control": {
     "frozen": true
    }
   },
   "source": [
    "I visse tilfeller vil brukeren skrive inn noe annet enn vi forventer. Ta hensyn til dette i spillet ved å si \n",
    "i fra dersom noe brukeren skriver ikke støttes.\n",
    "\n",
    "Eksempel: \n",
    "```python\n",
    "Du står utenfor en dør.\n",
    ">gå inn\n",
    "Døren er låst.\n",
    "\n",
    "Du står utenfor en dør.\n",
    ">bank på\n",
    "Ingen svarer\n",
    "\n",
    "Du står utenfor en dør.\n",
    ">løp og gjem deg\n",
    "Dette er ikke en støttet kommando\n",
    "```\n",
    "\n",
    "***Skriv koden i samme blokk som oppgave a***"
   ]
  },
  {
   "cell_type": "markdown",
   "metadata": {
    "deletable": false,
    "editable": false,
    "run_control": {
     "frozen": true
    }
   },
   "source": [
    "### c)"
   ]
  },
  {
   "cell_type": "markdown",
   "metadata": {
    "deletable": false,
    "editable": false,
    "run_control": {
     "frozen": true
    }
   },
   "source": [
    "Endre spillet så det ikke spiller noen rolle om brukeren skriver inn store eller små bokstaver i kommandoen sin.\n",
    "\n",
    "Eksempel:\n",
    "```python\n",
    "Du står utenfor en dør.\n",
    ">gå inn\n",
    "Døren er låst.\n",
    "\n",
    "Du står utenfor en dør.\n",
    ">Gå Inn\n",
    "Døren er låst.\n",
    "```\n",
    "***Skriv koden i samme blokk som oppgave a***"
   ]
  },
  {
   "cell_type": "markdown",
   "metadata": {
    "deletable": false,
    "editable": false,
    "run_control": {
     "frozen": true
    }
   },
   "source": [
    "### d)"
   ]
  },
  {
   "cell_type": "markdown",
   "metadata": {
    "deletable": false,
    "editable": false,
    "run_control": {
     "frozen": true
    }
   },
   "source": [
    "Ofte når vi driver med denne slags kommandoer vil det være nesten like formuleringer som betyr det samme, men siden vi nå programmerer må svaret være eksakt det samme som vi forventer. **For hvert scenario, ta hensyn til at brukeren kan formulere kommandoen på minst to måter.**\n",
    "\n",
    "Eksempel:\n",
    "```python\n",
    "#scenario 1\n",
    "Du står utenfor en dør.\n",
    ">gå inn\n",
    "Døren er låst.\n",
    "\n",
    "Du står utenfor en dør.\n",
    ">gå inn døra\n",
    "Døren er låst.\n",
    "\n",
    "#scenario 2\n",
    "Du står utenfor en dør.\n",
    ">bank på\n",
    "Ingen svarer\n",
    "\n",
    "Du står utenfor en dør.\n",
    ">banker på\n",
    "Ingen svarer\n",
    "```\n",
    "\n",
    "***Skriv koden i samme blokk som oppgave a***"
   ]
  }
 ],
 "metadata": {
  "kernelspec": {
   "display_name": "Python 3 (ipykernel)",
   "language": "python",
   "name": "python3"
  },
  "language_info": {
   "codemirror_mode": {
    "name": "ipython",
    "version": 3
   },
   "file_extension": ".py",
   "mimetype": "text/x-python",
   "name": "python",
   "nbconvert_exporter": "python",
   "pygments_lexer": "ipython3",
   "version": "3.9.7"
  }
 },
 "nbformat": 4,
 "nbformat_minor": 4
}
