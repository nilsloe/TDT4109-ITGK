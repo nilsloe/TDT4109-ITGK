{
 "cells": [
  {
   "cell_type": "markdown",
   "metadata": {
    "deletable": false,
    "editable": false,
    "run_control": {
     "frozen": true
    }
   },
   "source": [
    "<nav class=\"navbar navbar-default\">\n",
    "  <div class=\"container-fluid\">\n",
    "    <div class=\"navbar-header\">\n",
    "      <a class=\"navbar-brand\" href=\"_Oving2.ipynb\">Øving 2</a>\n",
    "    </div>\n",
    "    <ul class=\"nav navbar-nav\">\n",
    "    <li class=\"active\"><a href=\"Ulike%20typer%20if-setninger.ipynb\">Ulike typer if-setninger</a></li>\n",
    "    <li><a href=\"Sammenligning%20av%20strenger.ipynb\">Sammenligning av strenger</a></li>\n",
    "    <li><a href=\"Logiske%20operatorer%20og%20logiske%20uttrykk.ipynb\">Logiske operatorer og logiske uttrykk</a></li>\n",
    "    <li><a href=\"Forbrytelse%20og%20straff.ipynb\">Forbrytelse og straff</a></li>\n",
    "    <li><a href=\"Aarstider.ipynb\">Årstider</a></li>\n",
    "    <li ><a href=\"Tekstbasert%20spill.ipynb\">Tekstbasert spill</a></li>\n",
    "    <li><a href=\"Sjakkbrett.ipynb\">Sjakkbrett</a></li>\n",
    "    <li><a href=\"Billettpriser%20og%20rabatter.ipynb\">Billettpriser og rabatter</a></li>\n",
    "    <li><a href=\"Skatteetaten.ipynb\">Skatteetaten</a></li>\n",
    "    <li><a href=\"Epletigging.ipynb\">Datamaskinen som tigget epler</a></li>\n",
    "    <li><a href=\"Andregradsligning.ipynb\">Andregradsligning</a></li>\n",
    "    </ul>\n",
    "  </div>\n",
    "</nav>\n",
    "\n",
    "# Ulike typer if-setninger\n",
    "\n",
    "**Læringsmål:**\n",
    "\n",
    "- Betingelser\n",
    "\n",
    "**Starting Out with Python:**\n",
    "\n",
    "- Kap. 3.1- 3.2\n",
    "- Kap. 3.4"
   ]
  },
  {
   "cell_type": "markdown",
   "metadata": {
    "deletable": false,
    "editable": false,
    "heading_collapsed": true,
    "run_control": {
     "frozen": true
    }
   },
   "source": [
    "## Generelt om if-setninger\n",
    "Dette er ikke en del av oppgaven, men kan være lurt å lese før du begynnner. **Trykk på pilen til venstre for å lese**"
   ]
  },
  {
   "cell_type": "markdown",
   "metadata": {
    "ExecuteTime": {
     "end_time": "2019-07-01T08:54:49.298821Z",
     "start_time": "2019-07-01T08:54:49.289265Z"
    },
    "deletable": false,
    "editable": false,
    "hidden": true,
    "run_control": {
     "frozen": true
    }
   },
   "source": [
    "I oppgavene i øving 1 har det vært slik at alle setningene i programmet skulle utføres hver gang programmet kjørte. De fleste nyttige programmer er ikke så enkle. Ofte skal visse programsetninger kun utføres under gitte betingelser. Overtidslønn skal utbetales bare hvis det har vært jobbet overtid. Monsteret du kjemper mot i et spill, skal miste liv bare hvis skuddet eller sverdslaget ditt har truffet. En alarm skal aktiveres bare hvis pasientens hjerterytme er blitt unormal. En sosial app på mobilen skal gi et spesielt varsel bare hvis du har fått nye meldinger der. Kodeblokken nedenfor viser et eksempel hvor alle linjene blir utført - dette programmet vil anbefale paraply uansett hvordan været er."
   ]
  },
  {
   "cell_type": "code",
   "execution_count": null,
   "metadata": {
    "ExecuteTime": {
     "end_time": "2019-07-01T08:54:49.298821Z",
     "start_time": "2019-07-01T08:54:49.289265Z"
    },
    "hidden": true
   },
   "outputs": [],
   "source": [
    "regn = float(input(\"Hvor mange mm regn er det meldt? \"))\n",
    "print(\"Da anbefaler jeg paraply!\")\n",
    "print(\"Ha en fin tur til universitetet!\")"
   ]
  },
  {
   "cell_type": "markdown",
   "metadata": {
    "ExecuteTime": {
     "end_time": "2019-07-01T08:54:49.298821Z",
     "start_time": "2019-07-01T08:54:49.289265Z"
    },
    "deletable": false,
    "editable": false,
    "hidden": true,
    "run_control": {
     "frozen": true
    }
   },
   "source": [
    "Paraply bør anbefales bare ved behov, f.eks. hvis det var meldt mer enn 0.2 mm regn. Det oppnår vi med en if-setning:"
   ]
  },
  {
   "cell_type": "code",
   "execution_count": null,
   "metadata": {
    "ExecuteTime": {
     "end_time": "2019-07-01T08:54:49.298821Z",
     "start_time": "2019-07-01T08:54:49.289265Z"
    },
    "code_folding": [],
    "hidden": true
   },
   "outputs": [],
   "source": [
    "regn = float(input(\"Hvor mange mm regn er det meldt? \"))\n",
    "if regn > 0.2:\n",
    "    print(\"Da anbefaler jeg paraply!\")\n",
    "print(\"Ha en fin tur til universitetet!\")"
   ]
  },
  {
   "cell_type": "markdown",
   "metadata": {
    "ExecuteTime": {
     "end_time": "2019-07-01T08:54:49.298821Z",
     "start_time": "2019-07-01T08:54:49.289265Z"
    },
    "deletable": false,
    "editable": false,
    "hidden": true,
    "run_control": {
     "frozen": true
    }
   },
   "source": [
    "Den ovenstående kodeblokken viser en if-setning. Den har følgende struktur:\n",
    "\n",
    "- starter med ordet `if`, dette er et beskyttet ord i Python og kan derfor ikke brukes som variabelnavn e.l.\n",
    "- bak if kommer en logisk betingelse - i dette tilfellet `regn > 0.2` - som vil være enten sann (`True`) eller usann (`False`), her avhengig av innholdet i variabelen regn\n",
    "- bak betingelsen **må** if-setningen ha `:` **(kolon)** - hvis du glemmer kolon vil du få syntaksfeil. \n",
    "- kodelinjen like under if har et innrykk (tabulator), dette betyr at denne linjen - `print(\"Da anbefaler jeg paraply\")` - er del av if-setningen. Den vil bli utført **kun hvis betingelsen i if-setningen er sann**, som vil inntreffe hvis brukeren skriver inn et større tall enn 0.2\n",
    "\n",
    "Siste setning, `print(\"Ha en fin tur til universitetet!\")` , har derimot ikke innrykk, denne vil derfor bli utført uansett og er ikke knyttet til if-setningen.\n",
    "\n"
   ]
  },
  {
   "cell_type": "markdown",
   "metadata": {
    "ExecuteTime": {
     "end_time": "2019-07-01T08:54:49.298821Z",
     "start_time": "2019-07-01T08:54:49.289265Z"
    },
    "deletable": false,
    "editable": false,
    "hidden": true,
    "run_control": {
     "frozen": true
    }
   },
   "source": [
    "Det er mulig å ha flere programsetninger som del av if-setningen, for eksempel:"
   ]
  },
  {
   "cell_type": "code",
   "execution_count": null,
   "metadata": {
    "ExecuteTime": {
     "end_time": "2019-07-01T08:54:49.298821Z",
     "start_time": "2019-07-01T08:54:49.289265Z"
    },
    "hidden": true
   },
   "outputs": [],
   "source": [
    "regn = float(input(\"Hvor mange mm regn er det meldt? \"))\n",
    "if regn > 0.2:\n",
    "    print(\"Da anbefaler jeg paraply!\")\n",
    "    print(\"Gjerne en paraply med NTNU-logo.\")\n",
    "print(\"Ha en fin tur til universitetet!\")"
   ]
  },
  {
   "cell_type": "markdown",
   "metadata": {
    "ExecuteTime": {
     "end_time": "2019-07-01T08:54:49.298821Z",
     "start_time": "2019-07-01T08:54:49.289265Z"
    },
    "deletable": false,
    "editable": false,
    "hidden": true,
    "run_control": {
     "frozen": true
    }
   },
   "source": [
    "Her vil begge \"print\"-setningene om paraply kun bli utført hvis betingelsen er sann, mens \"fin tur\"-setningen fortsatt blir utført uansett utfall av if-setningen.\n",
    "\n",
    "**Altså: I Python viser innrykk hvor mange av de påfølgende setningene som styres av if-betingelsen.** Det er derfor viktig å være nøye med innrykkene og få alle programsetninger på korrekt indentasjonsnivå.\n",
    "\n",
    "Test gjerne ut koden over med forskjellige svar på mm regn for å se hvordan den virker."
   ]
  },
  {
   "cell_type": "markdown",
   "metadata": {
    "deletable": false,
    "editable": false,
    "run_control": {
     "frozen": true
    }
   },
   "source": [
    "## a)"
   ]
  },
  {
   "cell_type": "markdown",
   "metadata": {
    "deletable": false,
    "editable": false,
    "run_control": {
     "frozen": true
    }
   },
   "source": [
    "Du lager en banankake som skal stå minst 50 min i ovnen. Ta utgangspunkt i følgende program, som har den svakheten at det sier at kaken skal ut uansett hvor lenge den har stekt.\n",
    "\n",
    "___Endre programmet slik at \"Kaken kan tas ut av ovnen\" kun printes hvis kaken har stått minst 50 minutt. \"Større eller lik\" skrives i Python >=___  \n",
    "___Tips til servering... skal derimot printes uansett.___"
   ]
  },
  {
   "cell_type": "code",
   "execution_count": 3,
   "metadata": {
    "ExecuteTime": {
     "end_time": "2019-07-01T15:44:45.569935Z",
     "start_time": "2019-07-01T15:44:42.453083Z"
    }
   },
   "outputs": [
    {
     "name": "stdin",
     "output_type": "stream",
     "text": [
      "Hvor mange minutt har kaken stått i ovnen?  51\n"
     ]
    },
    {
     "name": "stdout",
     "output_type": "stream",
     "text": [
      "Kaken kan tas ut av ovnen.\n",
      "Tips til servering: vaniljeis.\n"
     ]
    }
   ],
   "source": [
    "tid = int(input(\"Hvor mange minutt har kaken stått i ovnen? \"))\n",
    "if tid>=50:\n",
    "    print(\"Kaken kan tas ut av ovnen.\")\n",
    "print(\"Tips til servering: vaniljeis.\")"
   ]
  },
  {
   "cell_type": "markdown",
   "metadata": {
    "deletable": false,
    "editable": false,
    "run_control": {
     "frozen": true
    }
   },
   "source": [
    "Eksempel på utskrift fra tre ulike kjøringer, hvis du har fått det til riktig:\n",
    "```\n",
    "Hvor mange minutt har kaken stått i ovnen? 35  \n",
    "Tips til servering: vaniljeis.  \n",
    ">>>  \n",
    "  \n",
    "Hvor mange minutt har kaken stått i ovnen? 50  \n",
    "Kaken kan tas ut av ovnen.  \n",
    "Tips til servering: vaniljeis.  \n",
    ">>>\n",
    "  \n",
    "Hvor mange minutt har kaken stått i ovnen? 65  \n",
    "Kaken kan tas ut av ovnen.  \n",
    "Tips til servering: vaniljeis.\n",
    ">>>\n",
    "```"
   ]
  },
  {
   "cell_type": "markdown",
   "metadata": {
    "deletable": false,
    "editable": false,
    "run_control": {
     "frozen": true
    }
   },
   "source": [
    "## b)"
   ]
  },
  {
   "cell_type": "markdown",
   "metadata": {
    "ExecuteTime": {
     "end_time": "2019-07-01T10:03:17.573938Z",
     "start_time": "2019-07-01T10:03:17.564290Z"
    },
    "deletable": false,
    "editable": false,
    "run_control": {
     "frozen": true
    }
   },
   "source": [
    "Ta utgangspunkt i følgende program, som ber brukeren taste inn antall epler og antall barn og deretter regner ut hvor mange epler det blir på hver."
   ]
  },
  {
   "cell_type": "code",
   "execution_count": 4,
   "metadata": {
    "ExecuteTime": {
     "end_time": "2019-07-01T10:06:41.706832Z",
     "start_time": "2019-07-01T10:06:37.363889Z"
    }
   },
   "outputs": [
    {
     "name": "stdin",
     "output_type": "stream",
     "text": [
      "Hvor mange epler har du?  0\n",
      "Hvor mange barn passer du?  0\n"
     ]
    },
    {
     "name": "stdout",
     "output_type": "stream",
     "text": [
      "Takk for i dag!\n"
     ]
    }
   ],
   "source": [
    "epler = int(input(\"Hvor mange epler har du? \"))\n",
    "barn = int(input(\"Hvor mange barn passer du? \"))\n",
    "if barn>0:\n",
    "    print(\"Da blir det\", epler // barn, \"epler til hvert barn\")\n",
    "    print(\"og\", epler % barn, \"epler til overs til deg selv.\")\n",
    "print(\"Takk for i dag!\")"
   ]
  },
  {
   "cell_type": "markdown",
   "metadata": {
    "deletable": false,
    "editable": false,
    "run_control": {
     "frozen": true
    }
   },
   "source": [
    "Under vises to kjøreeksempler:\n",
    "```\n",
    "Hvor mange epler har du? 14  \n",
    "Hvor mange barn passer du? 3  \n",
    "Da blir det 4 epler til hvert barn  \n",
    "og 2 epler til overs til deg selv.  \n",
    "Takk for i dag!\n",
    ">>>>```\n",
    "  \n",
    "```\n",
    "Hvor mange epler har du? 4  \n",
    "Hvor mange barn passer du? 0  \n",
    "Traceback (most recent call last):  \n",
    "  ...  \n",
    "ZeroDivisionError: integer division or modulo by zero  \n",
    ">>>```\n",
    "\n",
    "\n",
    "Det første, hvor brukeren skriver inn tallene 14 og 3, funker fint. Hvis brukeren derimot svarer 0 barn, vil programmet gi feilmelding (`ZeroDivisionError`) fordi det er umulig å dele på null. Negativt antall barn vil \"funke\", men ikke gi mening.\n",
    "\n",
    "___Endre koden slik at de to print-setningene som forteller hvor mange epler det blir til barna og deg selv KUN utføres hvis barn > 0. \"Takk for i dag!\" skal derimot printes uansett.___\n",
    "\n",
    " Kjøring med barn > 0 skal gi samme resultat som eksemplet øverst. Eksemplet under viser kjøring hvis det skrives 0 for barn:\n",
    " \n",
    " ```\n",
    "Hvor mange epler har du? 4  \n",
    "Hvor mange barn passer du? 0  \n",
    "Takk for i dag!\n",
    "```\n",
    " "
   ]
  },
  {
   "cell_type": "markdown",
   "metadata": {
    "deletable": false,
    "editable": false,
    "heading_collapsed": true,
    "run_control": {
     "frozen": true
    }
   },
   "source": [
    "## Generelt om if-else-setninger\n",
    "Dette er ikke en del av oppgaven, men kan være lurt å lese før du går videre. **Trykk på pilen til venstre for å lese**"
   ]
  },
  {
   "cell_type": "markdown",
   "metadata": {
    "deletable": false,
    "editable": false,
    "hidden": true,
    "run_control": {
     "frozen": true
    }
   },
   "source": [
    "I eksemplene knyttet til (a) og (b) skulle vi gjøre noe ekstra hvis en betingelse var sann, ellers la være. I andre tilfeller kan vi ønske å gjøre en handling hvis betingelsen er sann, og en alternativ handling hvis den er usann.\n",
    "\n",
    "Det kan vi oppnå med en **if-else**-setning. Eksemplet nedenfor bygger videre på tilsvarende eksempel for if-setninger."
   ]
  },
  {
   "cell_type": "code",
   "execution_count": null,
   "metadata": {
    "ExecuteTime": {
     "start_time": "2019-07-01T10:30:04.105Z"
    },
    "hidden": true
   },
   "outputs": [],
   "source": [
    "regn = float(input(\"Hvor mange mm regn er det meldt? \"))\n",
    "if regn > 0.2:\n",
    "    print(\"Da anbefaler jeg paraply!\")\n",
    "    print(\"Gjerne en paraply med NTNU-logo.\")\n",
    "else:\n",
    "    print(\"Hva med ei T-skjorte med NTNU-logo?\")\n",
    "print(\"Ha en fin tur til universitetet!\")"
   ]
  },
  {
   "cell_type": "markdown",
   "metadata": {
    "deletable": false,
    "editable": false,
    "hidden": true,
    "run_control": {
     "frozen": true
    }
   },
   "source": [
    "I dette eksemplet vil følgende skje hvis vi svarer mer enn 0.2 mm nedbør slik at betingelsen blir sann:\n",
    "\n",
    "**Eksempel på kjøring med over 0.2 mm nedbør:**\n",
    "```\n",
    "Hvor mange mm regn er det meldt? 0.5\n",
    "Da anbefaler jeg paraply!\n",
    "Gjerne en paraply med NTNU-logo.\n",
    "Ha en fin tur til universitetet!\n",
    "```\n",
    "\n",
    "Svares det derimot et lavere tall, slik at betingelsen blir usann, skjer følgende:\n",
    "\n",
    "**Eksempel på kjøring med under 0.2 mm nedbør:**  \n",
    "```\n",
    "Hvor mange mm regn er det meldt? 0.0\n",
    "Hva med ei T-skjorte med NTNU-logo?\n",
    "Ha en fin tur til universitetet!\n",
    "```\n",
    "\n",
    "Altså:\n",
    "- De to setningene som står på innrykk under `if` blir utført bare hvis betingelsen er sann.\n",
    "- Setningen som står på innrykk under `else` blir utført bare hvis betingelsen er usann (kunne også hatt flere setninger på innrykk etter `else`).\n",
    "- Den siste printen, som ikke har innrykk (Ha en fin tur...), blir utført uansett."
   ]
  },
  {
   "cell_type": "markdown",
   "metadata": {
    "deletable": false,
    "editable": false,
    "run_control": {
     "frozen": true
    }
   },
   "source": [
    "## c)"
   ]
  },
  {
   "cell_type": "markdown",
   "metadata": {
    "deletable": false,
    "editable": false,
    "run_control": {
     "frozen": true
    }
   },
   "source": [
    "I denne deloppgaven skal det lages et program som sjekker om en person kan stemme, altså om personen er 18 år eller eldre. Man må da spørre brukeren om alder og lagre svaret i en variabel, for deretter å sjekke om brukerens alder er 18 eller mer.\n",
    "\n",
    "**Eksempel på kjøring**\n",
    "\n",
    "```\n",
    "Skriv inn din alder: 19\n",
    "Du kan stemme:)\n",
    "```\n",
    "  \n",
    "```\n",
    "Skriv inn din alder: 18\n",
    "Du kan stemme:)\n",
    "```\n",
    "  \n",
    "```\n",
    "Skriv inn din alder: 2\n",
    "Du kan ikke stemme ennå\n",
    "```\n",
    "\n",
    "***Skriv din kode her:***"
   ]
  },
  {
   "cell_type": "code",
   "execution_count": 5,
   "metadata": {},
   "outputs": [
    {
     "name": "stdin",
     "output_type": "stream",
     "text": [
      "Skriv inn din alder:  17\n"
     ]
    },
    {
     "name": "stdout",
     "output_type": "stream",
     "text": [
      "Du kan ikke stemme ennå :'(\n"
     ]
    }
   ],
   "source": [
    "alder=float(input(\"Skriv inn din alder: \"))\n",
    "if alder>=18:\n",
    "    print(\"Du kan stemme:)\")\n",
    "else:\n",
    "    print(\"Du kan ikke stemme ennå :'(\")"
   ]
  },
  {
   "cell_type": "markdown",
   "metadata": {
    "deletable": false,
    "editable": false,
    "heading_collapsed": true,
    "run_control": {
     "frozen": true
    }
   },
   "source": [
    "#### Fremgangsmåte\n",
    "Trykk på pilen til venstre for å lese"
   ]
  },
  {
   "cell_type": "markdown",
   "metadata": {
    "deletable": false,
    "editable": false,
    "hidden": true,
    "run_control": {
     "frozen": true
    }
   },
   "source": [
    "1. Lag en variabel kalt `alder` ved å skrive: \n",
    "2. `alder = int(input(\"Skriv inn din alder: \"))`\n",
    "3. Sjekk, vha. if, om personens alder er større eller lik 18 (`alder >= 18`). Om dette er tilfelle skal \"Du kan stemme:)\" skrives ut til skjerm\n",
    "Lag en `else`-blokk med koden `print(\"Du kan ikke stemme ennå\")`\n",
    "\n",
    "(Det er flere mulige løsninger på denne oppgaven.)"
   ]
  },
  {
   "cell_type": "markdown",
   "metadata": {
    "deletable": false,
    "editable": false,
    "heading_collapsed": true,
    "run_control": {
     "frozen": true
    },
    "tags": []
   },
   "source": [
    "## Generelt om if-elif-else-setninger\n",
    "Les gjerne denne før du går videre. **Trykk på pilen til venstre for å lese**"
   ]
  },
  {
   "cell_type": "markdown",
   "metadata": {
    "deletable": false,
    "editable": false,
    "hidden": true,
    "run_control": {
     "frozen": true
    }
   },
   "source": [
    "I eksemplene vi har sett hittil, har det vært kun to mulige utfall på betingelsene - kaken har stått >= 50 minutt, eller ikke; antall barn er > 0, eller ikke; alder er over 18, eller ikke. I mange praktiske situasjoner kan det være tre eller flere mulige utfall.\n",
    "\n",
    "F.eks. hvis det var meldt mer enn 3 mm nedbør er kanskje ikke paraply tilstrekkelig, vi ville heller anbefale støvler og regntøy.  Vårt tidligere eksempel kunne da utvides som følger:"
   ]
  },
  {
   "cell_type": "code",
   "execution_count": null,
   "metadata": {
    "hidden": true
   },
   "outputs": [],
   "source": [
    "# EKSEMPEL 1\n",
    "regn = float(input(\"Hvor mange mm regn er det meldt? \"))\n",
    "if regn > 3.0:\n",
    "    print(\"Da anbefaler jeg støvler og regntøy!\")\n",
    "elif regn > 0.2:\n",
    "    print(\"Da anbefaler jeg paraply!\")\n",
    "    print(\"Gjerne en paraply med NTNU-logo.\")\n",
    "else:\n",
    "    print(\"Hva med ei T-skjorte med NTNU-logo?\")\n",
    "print(\"Ha en fin tur til universitetet!\")"
   ]
  },
  {
   "cell_type": "markdown",
   "metadata": {
    "deletable": false,
    "editable": false,
    "hidden": true,
    "run_control": {
     "frozen": true
    }
   },
   "source": [
    "Under vises tre kjøringer av denne koden:\n",
    "\n",
    "```\n",
    "Hvor mange mm regn er det meldt? 4.2\n",
    "Da anbefaler jeg støvler og regntøy!\n",
    "Ha en fin tur til universitetet!\n",
    ">>>\n",
    "```\n",
    "\n",
    "```\n",
    "Hvor mange mm regn er det meldt? 0.5\n",
    "Da anbefaler jeg paraply!\n",
    "Gjerne en paraply med NTNU-logo.\n",
    "Ha en fin tur til universitetet!\n",
    ">>>\n",
    "```\n",
    "\n",
    "```\n",
    "Hvor mange mm regn er det meldt? 0.0\n",
    "Hva med ei T-skjorte med NTNU-logo?\n",
    "Ha en fin tur til universitetet!\n",
    "```"
   ]
  },
  {
   "cell_type": "markdown",
   "metadata": {
    "deletable": false,
    "editable": false,
    "hidden": true,
    "run_control": {
     "frozen": true
    }
   },
   "source": [
    "Hvis betingelsen `regn > 3.0` er sann, utføres kun printen som anbefaler støvler og regntøy, deretter går programmet til første setning etter hele if-elif-else-setningen (\"Ha en fin tur...\")\n",
    "\n",
    "Hvis betingelsen `regn > 3.0` er usann, utføres **ikke** printen om støvler, programmet sjekker i stedet betingelsen på `elif`. Hvis denne er sann, skrives setningene om paraply, ellers T-skjorte som tidligere.\n",
    "\n",
    "Det er mulig å klare seg uten if-elif-else-setninger og i stedet bare putte if-else-setninger inni hverandre for å oppnå det samme. Eksemplet ovenfor kunne alternativt skrives:"
   ]
  },
  {
   "cell_type": "code",
   "execution_count": null,
   "metadata": {
    "hidden": true
   },
   "outputs": [],
   "source": [
    "# EKSEMPEL 2\n",
    "regn = float(input(\"Hvor mange mm regn er det meldt? \"))\n",
    "if regn > 3.0:\n",
    "    print(\"Da anbefaler jeg støvler og regntøy!\")\n",
    "else:\n",
    "    if regn > 0.2:\n",
    "        print(\"Da anbefaler jeg paraply!\")\n",
    "        print(\"Gjerne en paraply med NTNU-logo.\")\n",
    "    else:\n",
    "        print(\"Hva med ei T-skjorte med NTNU-logo?\")\n",
    "print(\"Ha en fin tur til universitetet!\")"
   ]
  },
  {
   "cell_type": "markdown",
   "metadata": {
    "deletable": false,
    "editable": false,
    "hidden": true,
    "run_control": {
     "frozen": true
    }
   },
   "source": [
    "Særlig i tilfeller hvor det dreier seg om tre eller flere alternative utfall basert på verdien av den **samme variabelen** (f.eks. `regn` her) vil de fleste oppfatte **if-elif-else**-setninger som både lettere å skrive og lettere å forstå, enn flere nøstede if-else-setninger.\n",
    "\n",
    "Ett typisk eksempel er antall oppnådde poeng på en eksamen, som kan transformeres til en bokstavkarakter A-F etter gitte grenser. Det er da 6 mulige utfall, dette gir mye innrykk og blir vanskelig å lese med nøstede if-setninger:"
   ]
  },
  {
   "cell_type": "code",
   "execution_count": null,
   "metadata": {
    "hidden": true
   },
   "outputs": [],
   "source": [
    "# EKSEMPEL 3\n",
    "score = int(input(\"Antall poeng: \"))\n",
    "  \n",
    "if score >= 89:\n",
    "    karakter = \"A\"\n",
    "else:\n",
    "    if score >= 77:\n",
    "        karakter = \"B\"\n",
    "    else:\n",
    "        if score >= 65:\n",
    "            karakter = \"C\"\n",
    "        else:\n",
    "            if score >= 53:\n",
    "                karakter = \"D\"\n",
    "            else:\n",
    "                if score >= 41:\n",
    "                    karakter = \"E\"\n",
    "                else:\n",
    "                    karakter = \"F\"\n",
    "  \n",
    "print(\"Du fikk\", karakter)"
   ]
  },
  {
   "cell_type": "markdown",
   "metadata": {
    "deletable": false,
    "editable": false,
    "hidden": true,
    "run_control": {
     "frozen": true
    }
   },
   "source": [
    "if-elif-else-setning vil være klart å foretrekke i en slik situasjon; det er mye lettere å se at koden her tar en beslutning med 6 alternativer basert på verdien av en enkelt variabel:"
   ]
  },
  {
   "cell_type": "code",
   "execution_count": null,
   "metadata": {
    "hidden": true
   },
   "outputs": [],
   "source": [
    "# EKSEMPEL 4\n",
    "score = int(input(\"Antall poeng: \"))\n",
    "  \n",
    "if score >= 89:\n",
    "    karakter = \"A\"\n",
    "elif score >= 77:\n",
    "    karakter = \"B\"\n",
    "elif score >= 65:\n",
    "    karakter = \"C\"\n",
    "elif score >= 53:\n",
    "    karakter = \"D\"\n",
    "elif score >= 41:\n",
    "    karakter = \"E\"\n",
    "else:\n",
    "    karakter = \"F\"\n",
    " \n",
    "print(\"Du fikk\", karakter)"
   ]
  },
  {
   "cell_type": "markdown",
   "metadata": {
    "deletable": false,
    "editable": false,
    "hidden": true,
    "run_control": {
     "frozen": true
    }
   },
   "source": [
    "Ved bruk av if-elif-else er det avgjørende at betingelsene kommer i riktig rekkefølge. Anta at vi hadde gjort karaktereksemplet motsatt:"
   ]
  },
  {
   "cell_type": "code",
   "execution_count": null,
   "metadata": {
    "hidden": true
   },
   "outputs": [],
   "source": [
    "# EKSEMPEL 5\n",
    "# HER HAR VI MED VILJE HAR GJORT FEIL\n",
    "score = int(input(\"Antall poeng: \"))\n",
    " \n",
    "if score >= 0:\n",
    "    karakter = \"F\"\n",
    "elif score >= 41:\n",
    "    karakter = \"E\"\n",
    "elif score >= 53:\n",
    "    karakter = \"D\"\n",
    "elif score >= 65:\n",
    "    karakter = \"C\"\n",
    "elif score >= 77:\n",
    "    karakter = \"B\"\n",
    "elif score >= 89:\n",
    "    karakter = \"A\"\n",
    " \n",
    "print(\"Du fikk\", karakter)"
   ]
  },
  {
   "cell_type": "markdown",
   "metadata": {
    "deletable": false,
    "editable": false,
    "hidden": true,
    "run_control": {
     "frozen": true
    }
   },
   "source": [
    "Her vil øverste betingelse vil være sann for alle eksamensbesvarelser - og alle ender opp med karakteren F.\n",
    "\n",
    "Det er også viktig når det er snakk om alternativt ekskluderende utfall av samme beslutning at vi bruker **if-elif-else**-setning; **IKKE en serie med frittstående if-setninger**.\n",
    "\n",
    "Eksempel 6 under ser nesten ut som Eksempel 4, bare at vi kun skriver `if` der vi før skrev `elif`:"
   ]
  },
  {
   "cell_type": "code",
   "execution_count": null,
   "metadata": {
    "hidden": true
   },
   "outputs": [],
   "source": [
    "# EKSEMPEL 6\n",
    "# HER HAR VI MED VILJE HAR GJORT FEIL\n",
    "score = int(input(\"Antall poeng: \"))\n",
    "  \n",
    "if score >= 89:\n",
    "    karakter = \"A\"\n",
    "if score >= 77:\n",
    "    karakter = \"B\"\n",
    "if score >= 65:\n",
    "    karakter = \"C\"\n",
    "if score >= 53:\n",
    "    karakter = \"D\"\n",
    "if score >= 41:\n",
    "    karakter = \"E\"\n",
    "else:\n",
    "    karakter = \"F\"\n",
    " \n",
    "print(\"Du fikk\",karakter)"
   ]
  },
  {
   "cell_type": "markdown",
   "metadata": {
    "deletable": false,
    "editable": false,
    "hidden": true,
    "run_control": {
     "frozen": true
    }
   },
   "source": [
    "En student som har fått 92 poeng vil her komme riktig ut av den første if-setningen, og karakter settes til A. Men 92 > 77 er også sant, så karakter omgjøres deretter til B. Så til C, så til D, så til E.\n",
    "\n",
    "De eneste tilfellene som dette programmet vil takle korrekt blir dermed studenter som skal ha E eller F.\n",
    "\n",
    "Feilen her er at vi bruker nye frittstående if-setninger (dvs. som ikke er relatert til hverandre), mens vi egentlig har å gjøre med gjensidig ekskluderende alternativer som skulle vært løst med if-elif-else.\n",
    "\n",
    "Hvor er det eventuelt riktig å bruke frittstående if-setninger? Jo, hvis det er snakk om flere uavhengige beslutninger. I eksempel 7 under er det to uavhengige beslutninger, den ene om man skal ta paraply eller ikke, den andre om brodder eller ikke. Hver beslutning tas uavhengig av den andre, da blir det riktig med to frittstående if-setninger.\n",
    "\n",
    "Hadde vi i stedet brukt if-elif her, ville programmet ikke ha virket som det skulle, da det kun ville ha vært i stand til å anbefale brodder i oppholdsvær (mens det jo kan være minst like glatt om det regner)."
   ]
  },
  {
   "cell_type": "code",
   "execution_count": null,
   "metadata": {
    "ExecuteTime": {
     "start_time": "2019-07-01T11:00:12.045Z"
    },
    "hidden": true
   },
   "outputs": [],
   "source": [
    "# EKSEMPEL 7\n",
    "regn = float(input(\"Hvor mange mm regn er det meldt? \"))\n",
    "glatt = int(input(\"Hvor glatt er det, fra 0 (ikke) til 10 (blank is)? \"))\n",
    "if regn > 0.2:\n",
    "    print(\"Da anbefaler jeg paraply.\")\n",
    "if glatt > 8:\n",
    "    print(\"Da anbefaler jeg sko med brodder eller pigger.\")"
   ]
  },
  {
   "cell_type": "markdown",
   "metadata": {
    "deletable": false,
    "editable": false,
    "hidden": true,
    "run_control": {
     "frozen": true
    }
   },
   "source": [
    "I andre tilfeller kan en beslutning være avhengig av en annen, f.eks. kun være aktuell ved et visst utfall av en foregående if-setning. Som i eksempel 8 under:"
   ]
  },
  {
   "cell_type": "code",
   "execution_count": null,
   "metadata": {
    "hidden": true
   },
   "outputs": [],
   "source": [
    "# EKSEMPEL 8\n",
    "regn = float(input(\"Hvor mange mm regn er det meldt? \"))\n",
    "vind = float(input(\"Hvor mange m/s vind er det meldt? \"))\n",
    "if regn > 0.2:\n",
    "    if vind < 7.0:\n",
    "        print(\"Da anbefaler jeg paraply.\")\n",
    "    else:\n",
    "        print(\"Anbefaler regntøy, for mye vind for paraply.\")"
   ]
  },
  {
   "cell_type": "markdown",
   "metadata": {
    "deletable": false,
    "editable": false,
    "hidden": true,
    "run_control": {
     "frozen": true
    }
   },
   "source": [
    "Her ville if `regn > 0.2:` .....`elif vind < 7.0` ha blitt feil.\n",
    "\n",
    "Programmet ville da ha gjort vurderinger av vinden kun hvis det ikke regnet, og dermed ha vært ute av stand til å fraråde paraply hvis det regner og samtidig blåser kraftig.\n",
    "\n",
    "**Oppsummert:**\n",
    "\n",
    "- flere helt uavhengige beslutninger: bruk frittstående if-setninger\n",
    "- beslutning med gjensidig utelukkende handlingsalternativer: bruk if-else (2 alternativer) eller if-elif-else (3 eller flere alternativer)\n",
    "- beslutninger relatert på annen måte, f.eks. at en betingelse (som `vind < 7.0` ovenfor) kun er aktuell gitt et visst utfall av en annen betingelse: kan løses ved å nøste flere if-setninger inni hverandre\n"
   ]
  },
  {
   "cell_type": "markdown",
   "metadata": {
    "deletable": false,
    "editable": false,
    "run_control": {
     "frozen": true
    }
   },
   "source": [
    "## d)"
   ]
  },
  {
   "cell_type": "markdown",
   "metadata": {
    "deletable": false,
    "editable": false,
    "run_control": {
     "frozen": true
    }
   },
   "source": [
    "Lag en utvidet versjon av programmet fra (c) som sier om personen kan stemme eller ikke, med følgende regler:\n",
    "\n",
    "- `alder >= 18`: Kan stemme både ved lokalvalg og Stortingsvalg\n",
    "- `alder >= 16`: Kan stemme ved lokalvalg, men ikke ved Stortingsvalg\n",
    "- ellers (`alder < 16`): Kan ikke stemme.\n",
    "\n",
    "Eksempel på kjøring:\n",
    "\n",
    "```\n",
    "Skriv inn din alder: 19\n",
    "Du kan stemme både ved lokalvalg og Stortingsvalg\n",
    ">>>>\n",
    "```\n",
    "\n",
    "```\n",
    "Skriv inn din alder: 17\n",
    "Du kan stemme ved lokalvalg, men ikke ved Stortingsvalg\n",
    ">>>>\n",
    "```\n",
    "\n",
    "```\n",
    "Skriv inn din alder: 12\n",
    "Du kan ikke stemme ennå\n",
    "```\n",
    "\n",
    "___Skriv din kode her:___"
   ]
  },
  {
   "cell_type": "code",
   "execution_count": 8,
   "metadata": {},
   "outputs": [
    {
     "name": "stdin",
     "output_type": "stream",
     "text": [
      "Skriv inn din alder:  18\n"
     ]
    },
    {
     "name": "stdout",
     "output_type": "stream",
     "text": [
      "Du kan stemme både ved lokalvalg og Stortingsvalg\n"
     ]
    }
   ],
   "source": [
    "alder=float(input(\"Skriv inn din alder: \"))\n",
    "if alder>=18:\n",
    "    print(\"Du kan stemme både ved lokalvalg og Stortingsvalg\")\n",
    "elif alder>=16:\n",
    "    print(\"Du kan stemme ved lokalvalg, men ikke ved Stortingsvalg\")\n",
    "else:\n",
    "    print(\"Du kan ikke stemme ennå\")"
   ]
  },
  {
   "cell_type": "markdown",
   "metadata": {
    "deletable": false,
    "editable": false,
    "run_control": {
     "frozen": true
    }
   },
   "source": [
    "## e)"
   ]
  },
  {
   "cell_type": "markdown",
   "metadata": {
    "deletable": false,
    "editable": false,
    "run_control": {
     "frozen": true
    }
   },
   "source": [
    "Du skal lage et program som sjekker hvilken billettpris en person skal betale ut ifra alderen til personen.\n",
    "\n",
    "Oversikt over alder og tilhørende billettpriser:\n",
    "\n",
    "Aldersgruppe | Billettpris\n",
    "--- | ---\n",
    "Under 3 år | Gratis\n",
    "3-11 år | 30 kr\n",
    "12-25 år | 50 kr\n",
    "26-66 år | 80 kr\n",
    "67 år og over | 40 kr"
   ]
  },
  {
   "cell_type": "markdown",
   "metadata": {
    "deletable": false,
    "editable": false,
    "run_control": {
     "frozen": true
    }
   },
   "source": [
    "___Skriv din kode her:___"
   ]
  },
  {
   "cell_type": "code",
   "execution_count": 15,
   "metadata": {},
   "outputs": [
    {
     "name": "stdin",
     "output_type": "stream",
     "text": [
      "Din alder:  2\n"
     ]
    },
    {
     "name": "stdout",
     "output_type": "stream",
     "text": [
      "Gratis\n"
     ]
    }
   ],
   "source": [
    "alder = int(input(\"Din alder: \"))\n",
    "if alder < 3:\n",
    "  print(\"Gratis\")\n",
    "elif alder < 12:\n",
    "  print(\"30kr\")\n",
    "elif alder<26:\n",
    "  print(\"50kr\")\n",
    "elif alder<67:\n",
    "  print(\"80kr\")\n",
    "else:\n",
    "    print(\"40kr\")"
   ]
  },
  {
   "cell_type": "markdown",
   "metadata": {
    "deletable": false,
    "editable": false,
    "heading_collapsed": true,
    "run_control": {
     "frozen": true
    }
   },
   "source": [
    "#### Fremgangsmåte\n",
    "Trykk på pilen til venstre"
   ]
  },
  {
   "cell_type": "markdown",
   "metadata": {
    "deletable": false,
    "editable": false,
    "hidden": true,
    "run_control": {
     "frozen": true
    }
   },
   "source": [
    "1. Først må man ta inn alderen til personen. Dette gjøres ved å lage en variabel og ta inn input fra brukeren: `alder = int(input(\"Din alder: \"))`\n",
    "2. Videre skal man sjekke hvilken billett personen skal ha, og dette gjøres med en if-elif-else-setning:\n",
    "\n",
    "```\n",
    "if alder < 3:\n",
    "  ...\n",
    "elif alder < 12:\n",
    "  ...\n",
    "elif ...:\n",
    "  ...\n",
    "elif ...:\n",
    "  ...\n",
    "else:\n",
    "  ...\n",
    "```"
   ]
  }
 ],
 "metadata": {
  "kernelspec": {
   "display_name": "Python 3 (ipykernel)",
   "language": "python",
   "name": "python3"
  },
  "language_info": {
   "codemirror_mode": {
    "name": "ipython",
    "version": 3
   },
   "file_extension": ".py",
   "mimetype": "text/x-python",
   "name": "python",
   "nbconvert_exporter": "python",
   "pygments_lexer": "ipython3",
   "version": "3.9.7"
  },
  "toc": {
   "base_numbering": 1,
   "nav_menu": {},
   "number_sections": false,
   "sideBar": true,
   "skip_h1_title": false,
   "title_cell": "Table of Contents",
   "title_sidebar": "Contents",
   "toc_cell": false,
   "toc_position": {
    "height": "calc(100% - 180px)",
    "left": "10px",
    "top": "150px",
    "width": "265px"
   },
   "toc_section_display": true,
   "toc_window_display": false
  }
 },
 "nbformat": 4,
 "nbformat_minor": 4
}
