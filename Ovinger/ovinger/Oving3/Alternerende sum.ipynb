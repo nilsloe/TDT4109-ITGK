{
 "cells": [
  {
   "cell_type": "markdown",
   "metadata": {
    "deletable": false,
    "editable": false,
    "run_control": {
     "frozen": true
    }
   },
   "source": [
    "<nav class=\"navbar navbar-default\">\n",
    "  <div class=\"container-fluid\">\n",
    "    <div class=\"navbar-header\">\n",
    "      <a class=\"navbar-brand\" href=\"_Oving3.ipynb\">Øving 3</a>\n",
    "    </div>\n",
    "    <ul class=\"nav navbar-nav\">\n",
    "      <li ><a href=\"Intro%20til%20lokker.ipynb\">Intro til løkker</a></li>\n",
    "    <li ><a href=\"Mer%20om%20lokker.ipynb\">Mer om løkker</a></li>\n",
    "    <li><a href=\"Nostede%20lokker.ipynb\">Intro til nøstede løkker</a></li>\n",
    "    <li ><a href=\"Kodeforstaelse.ipynb\">Kodeforståelse</a></li>\n",
    "    <li ><a href=\"Gjett%20tallet.ipynb\">Gjett tallet</a></li>\n",
    "    <li ><a href=\"Geometrisk%20rekke.ipynb\">Geometrisk rekke</a></li>\n",
    "        <li ><a href=\"Tekstbasert%20spill%202.ipynb\">Tekstbasert spill 2</a></li>\n",
    "    <li ><a href=\"Fibonacci.ipynb\">Fibonacci</a></li>\n",
    "    <li class=\"active\"><a href=\"Alternerende%20sum.ipynb\">Alternerende sum</a></li>\n",
    "    <li ><a href=\"Hangman.ipynb\">Hangman</a></li>\n",
    "    <li ><a href=\"Doble%20lokker.ipynb\">Doble løkker</a></li>\n",
    "    </ul>\n",
    "  </div>\n",
    "</nav>\n",
    "\n",
    "# Alternerende sum\n",
    "\n",
    "**Læringsmål:**\n",
    "\n",
    "* Løkker\n",
    "\n",
    "**Starting Out with Python:**\n",
    "\n",
    "* Kap. 4.2-4.3\n",
    "\n",
    "I denne oppgaven skal du ved hjelp av løkker summere sammen tall, basert på brukerinput. "
   ]
  },
  {
   "cell_type": "markdown",
   "metadata": {
    "deletable": false,
    "editable": false,
    "run_control": {
     "frozen": true
    }
   },
   "source": [
    "**a)** Skriv et program som leser inn et heltall n fra bruker og legger sammen tallserien under.\n",
    "\n",
    "**$1^{2}-2^{2}+3^{2}-4^{2}+5^{2}-\\cdot \\cdot \\cdot \\pm n^{2}$**\n",
    "\n",
    "Legg merke til at alle partallene har negativt fortegn og alle oddetallene har positivt fortegn. Husk at navnet på variabelen din ***ikke*** kan være **sum**, ettersom dette er navnet på en funksjon i python. Husk også at range() bare går til et tall og ikke til og med.\n",
    "\n",
    "Eksempel på kjøring:\n",
    "```python\n",
    "n = 7\n",
    "Summen av tallserien er 28\n",
    "```\n",
    "\n",
    "***Skriv koden din her:***"
   ]
  },
  {
   "cell_type": "code",
   "execution_count": null,
   "metadata": {
    "ExecuteTime": {
     "end_time": "2019-07-03T06:12:01.940513Z",
     "start_time": "2019-07-03T06:12:01.928036Z"
    }
   },
   "outputs": [],
   "source": [
    "n=int(input(\"n: \"))\n",
    "fortegn=1\n",
    "sum_rekke=0\n",
    "\n",
    "for i in range(1, n+1):\n",
    "    sum_rekke+=fortegn*i**2\n",
    "    fortegn*=-1\n",
    "    \n",
    "print(f\"Summen av tallserien er {sum_rekke}\")"
   ]
  },
  {
   "cell_type": "markdown",
   "metadata": {
    "deletable": false,
    "editable": false,
    "run_control": {
     "frozen": true
    }
   },
   "source": [
    "**b)** Skriv et nytt program slik at det avslutter iterasjonen **før** summen av tallene er større enn det positive heltallet k. Dette vil si at resultatet som skal skrives ut er summen på siste ledd før summen går over tallet k.\n",
    "\n",
    "Hold styr på hvor mange ledd fra tallserien som er brukt i summen og skriv dette ut sammen med resultatet.\n",
    "\n",
    "Eksempel på kjøring:\n",
    "\n",
    "```python\n",
    "k = 6\n",
    "Summen av tallene før summen blir større enn k er -10. Antall iterasjoner: 4\n",
    "```\n",
    "```python\n",
    "k = 12\n",
    "Summen av tallene før summen blir større enn k er -10. Antall iterasjoner: 4\n",
    "```\n",
    "```python\n",
    "k = 15\n",
    "Summen av tallene før summen blir større enn k er -21. Antall iterasjoner: 6\n",
    "```\n",
    "\n",
    "***Skriv koden din her:***"
   ]
  },
  {
   "cell_type": "code",
   "execution_count": 13,
   "metadata": {},
   "outputs": [
    {
     "name": "stdout",
     "output_type": "stream",
     "text": [
      "0\n",
      "1\n",
      "-3\n",
      "6\n",
      "-10\n",
      "15\n",
      "-21\n",
      "28\n",
      "Summen av tallene før summen blir større enn k er -21. Antall iterasjoner: 6\n"
     ]
    }
   ],
   "source": [
    "k=int(input(\"k: \")) #Antar at bruker bare skrive inn heltall\n",
    "sum_rekke, n = 0, 0\n",
    "\n",
    "while True:\n",
    "    gammel_verdi=sum_rekke\n",
    "    sum_rekke+=(-1)**(n+1)*n**2\n",
    "    print(sum_rekke)\n",
    "\n",
    "    if sum_rekke>k:\n",
    "        break\n",
    "    \n",
    "    n+=1\n",
    "\n",
    "print(f\"Summen av tallene før summen blir større enn k er {gammel_verdi}. Antall iterasjoner: {n-1}\")"
   ]
  }
 ],
 "metadata": {
  "kernelspec": {
   "display_name": "Python 3.9.13 ('base')",
   "language": "python",
   "name": "python3"
  },
  "language_info": {
   "codemirror_mode": {
    "name": "ipython",
    "version": 3
   },
   "file_extension": ".py",
   "mimetype": "text/x-python",
   "name": "python",
   "nbconvert_exporter": "python",
   "pygments_lexer": "ipython3",
   "version": "3.9.13"
  },
  "toc": {
   "base_numbering": 1,
   "nav_menu": {},
   "number_sections": false,
   "sideBar": true,
   "skip_h1_title": false,
   "title_cell": "Table of Contents",
   "title_sidebar": "Contents",
   "toc_cell": false,
   "toc_position": {},
   "toc_section_display": true,
   "toc_window_display": false
  },
  "vscode": {
   "interpreter": {
    "hash": "f05a986ba9b7ef90082f46a82802a347e8bf98d05eda311516ee131e0e17234d"
   }
  }
 },
 "nbformat": 4,
 "nbformat_minor": 4
}
