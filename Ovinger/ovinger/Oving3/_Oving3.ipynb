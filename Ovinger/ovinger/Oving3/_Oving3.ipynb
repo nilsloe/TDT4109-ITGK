{
 "cells": [
  {
   "cell_type": "markdown",
   "metadata": {
    "deletable": false,
    "editable": false,
    "run_control": {
     "frozen": true
    }
   },
   "source": [
    "# Øving 3\n",
    "\n",
    "**Læringsmål:**\n",
    "\n",
    "* Løkker\n",
    "* Betingelser\n",
    "* Strenger\n",
    "* Datamaskiners virkemåte\n",
    "\n",
    "**Starting Out with Python:**\n",
    "\n",
    "* Kap. 4: Repetition Structures\n",
    "\n",
    "**Theory book:**\n",
    "\n",
    "* Kap. 9: Principles of Computer Operations\n",
    " \n",
    "\n",
    "## Godkjenning:\n",
    "\n",
    "For å få godkjent øvingen må du gjøre ***4*** av ***11*** oppgaver. ***1*** av de ***4*** må være en oppgave merket med stjerne.\n",
    "\n",
    "Oppgaver som er litt ekstra vanskelig er markert med stjerne. Oppgaver som går forbi det som er blitt forelest er markert med to stjerner.\n",
    "\n",
    "Alle oppgavene skal demonstreres til en læringsassistent på sal. I oppgaver der du skriver programkode skal også denne vises fram. Lykke til!\n",
    "\n",
    "Oppgave | Tema | Vanskelighetsgrad\n",
    "--- | --- | ---\n",
    "[Introduksjon til løkker](Intro%20til%20lokker.ipynb) |Løkker | \n",
    "[Mer om løkker](Mer%20om%20lokker.ipynb)|Løkker|\n",
    "[Intro til nøstede løkker](Nostede%20lokker.ipynb)|Nøstede løkker|\n",
    "[Kodeforståelse](Kodeforstaelse.ipynb)|Kodeforståelse|\n",
    "[Gjett tallet](Gjett%20tallet.ipynb)|Løkker og betingelse|\n",
    "[Geometrisk rekke](Geometrisk%20rekke.ipynb)|Løkker og betingelse|![img](../../../Resources/Images/star_yellow.svg)\n",
    "[Fibonacci](Fibonacci.ipynb)|Løkker|![img](../../../Resources/Images/star_yellow.svg)\n",
    "[Alternerende sum](Alternerende%20sum.ipynb)|Løkker|![img](../../../Resources/Images/star_yellow.svg)\n",
    "[Hangman](Hangman.ipynb)|Løkker|![img](../../../Resources/Images/star_yellow.svg)\n",
    "[Doble løkker](Doble%20lokker.ipynb)|Nøstede Løkker| ![img](../../../Resources/Images/star_yellow.svg)\n"
   ]
  }
 ],
 "metadata": {
  "kernelspec": {
   "display_name": "Python 3.9.13 ('base')",
   "language": "python",
   "name": "python3"
  },
  "language_info": {
   "codemirror_mode": {
    "name": "ipython",
    "version": 3
   },
   "file_extension": ".py",
   "mimetype": "text/x-python",
   "name": "python",
   "nbconvert_exporter": "python",
   "pygments_lexer": "ipython3",
   "version": "3.9.13"
  },
  "toc": {
   "base_numbering": 1,
   "nav_menu": {},
   "number_sections": false,
   "sideBar": true,
   "skip_h1_title": false,
   "title_cell": "Table of Contents",
   "title_sidebar": "Contents",
   "toc_cell": false,
   "toc_position": {},
   "toc_section_display": true,
   "toc_window_display": false
  },
  "vscode": {
   "interpreter": {
    "hash": "f05a986ba9b7ef90082f46a82802a347e8bf98d05eda311516ee131e0e17234d"
   }
  }
 },
 "nbformat": 4,
 "nbformat_minor": 4
}
