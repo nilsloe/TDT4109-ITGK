{
 "cells": [
  {
   "cell_type": "markdown",
   "metadata": {
    "deletable": false,
    "editable": false,
    "run_control": {
     "frozen": true
    }
   },
   "source": [
    "<nav class=\"navbar navbar-default\">\n",
    "  <div class=\"container-fluid\">\n",
    "    <div class=\"navbar-header\">\n",
    "      <a class=\"navbar-brand\" href=\"_Oving3.ipynb\">Øving 3</a>\n",
    "    </div>\n",
    "    <ul class=\"nav navbar-nav\">\n",
    "      <li ><a href=\"Intro%20til%20lokker.ipynb\">Intro til løkker</a></li>\n",
    "    <li ><a href=\"Mer%20om%20lokker.ipynb\">Mer om løkker</a></li>\n",
    "    <li><a href=\"Nostede%20lokker.ipynb\">Intro til nøstede løkker</a></li>\n",
    "    <li ><a href=\"Kodeforstaelse.ipynb\">Kodeforståelse</a></li>\n",
    "    <li ><a href=\"Gjett%20tallet.ipynb\">Gjett tallet</a></li>\n",
    "        <li ><a href=\"Tekstbasert%20spill%202.ipynb\">Tekstbasert spill 2</a></li>\n",
    "    <li ><a href=\"Geometrisk%20rekke.ipynb\">Geometrisk rekke</a></li>\n",
    "    <li class=\"active\"><a href=\"Fibonacci.ipynb\">Fibonacci</a></li>\n",
    "    <li><a href=\"Alternerende%20sum.ipynb\">Alternerende sum</a></li>\n",
    "    <li ><a href=\"Hangman.ipynb\">Hangman</a></li>\n",
    "    <li ><a href=\"Doble%20lokker.ipynb\">Doble løkker</a></li>\n",
    "    </ul>\n",
    "  </div>\n",
    "</nav>\n",
    "\n",
    "# Fibonacci\n",
    "\n",
    "**Læringsmål:**\n",
    "\n",
    "* Løkker\n",
    "\n",
    "**Starting Out with Python:**\n",
    "\n",
    "* Kap. 4.3\n",
    "\n",
    "<br><br>\n",
    "I denne oppgaven skal du bruke løkker til å regne ut fibonaccitall.  \n",
    "\n",
    "Fibonaccitallene er definert som følger: \n",
    "\n",
    "* **f(0)=0**\n",
    "* **f(1)=1**\n",
    "* **f(k)=f(k−1)+f(k−2)**\n",
    "\n",
    "Det vil si at de to første tallene i rekken er 0 og 1, deretter er det neste tallet summen av de to forrige tallene. Starten på rekken ser derfor slik ut: 0 1 1 2 3 5 8 13 ..."
   ]
  },
  {
   "cell_type": "markdown",
   "metadata": {
    "deletable": false,
    "editable": false,
    "run_control": {
     "frozen": true
    }
   },
   "source": [
    "**a)** Lag et program som regner ut og returnerer det k-te fibonaccitallet f(k) ved hjelp av iterasjon. Har du gjort det rett skal det 10-ende Fibonaccitallet bli 34. **Husk at det første tallet i rekken er tall nummer 0**\n",
    "\n",
    "***Skriv koden din her:***"
   ]
  },
  {
   "cell_type": "code",
   "execution_count": 1,
   "metadata": {
    "ExecuteTime": {
     "end_time": "2019-07-03T05:55:08.163277Z",
     "start_time": "2019-07-03T05:55:08.156436Z"
    }
   },
   "outputs": [
    {
     "name": "stdout",
     "output_type": "stream",
     "text": [
      "[0, 1, 1, 2, 3, 5, 8, 13, 21, 34, 55, 89, 144, 233, 377, 610, 987, 1597, 2584, 4181, 6765, 10946, 17711, 28657, 46368, 75025, 121393, 196418, 317811, 514229, 832040, 1346269, 2178309, 3524578]\n",
      "9227464\n"
     ]
    }
   ],
   "source": [
    "antall=int(input(\"Antall fibbonacci tall\"))\n",
    "\n",
    "fibb=[0,1]\n",
    "\n",
    "sum_fibb=1\n",
    "i=0\n",
    "while len(fibb)<antall:\n",
    "    fibb.append(fibb[i]+fibb[i+1])\n",
    "    i+=1\n",
    "    sum_fibb+=fibb[i+1]\n",
    "\n",
    "print(fibb)\n",
    "print(sum_fibb)"
   ]
  },
  {
   "cell_type": "markdown",
   "metadata": {},
   "source": [
    "**b)** Skriv om programmet i deloppgave a) slik at det også regner ut summen av alle fibonaccitallene. Har du gjort det rett det rett skal summen av Fibonaccitallene opp til 10 bli 88."
   ]
  },
  {
   "cell_type": "markdown",
   "metadata": {
    "deletable": false,
    "editable": false,
    "run_control": {
     "frozen": true
    }
   },
   "source": [
    "**c)** (**Frivillig**, vanskeligere oppgave) Modifiser programmet til å returnere en liste med alle fibonaccitallene opp til og med f(k).\n",
    "\n",
    "Husk å skrive ut svarene til skjerm."
   ]
  }
 ],
 "metadata": {
  "kernelspec": {
   "display_name": "Python 3.9.13 ('base')",
   "language": "python",
   "name": "python3"
  },
  "language_info": {
   "codemirror_mode": {
    "name": "ipython",
    "version": 3
   },
   "file_extension": ".py",
   "mimetype": "text/x-python",
   "name": "python",
   "nbconvert_exporter": "python",
   "pygments_lexer": "ipython3",
   "version": "3.9.13"
  },
  "toc": {
   "base_numbering": 1,
   "nav_menu": {},
   "number_sections": false,
   "sideBar": true,
   "skip_h1_title": false,
   "title_cell": "Table of Contents",
   "title_sidebar": "Contents",
   "toc_cell": false,
   "toc_position": {},
   "toc_section_display": true,
   "toc_window_display": false
  },
  "vscode": {
   "interpreter": {
    "hash": "f05a986ba9b7ef90082f46a82802a347e8bf98d05eda311516ee131e0e17234d"
   }
  }
 },
 "nbformat": 4,
 "nbformat_minor": 4
}
