{
 "cells": [
  {
   "cell_type": "markdown",
   "metadata": {
    "deletable": false,
    "editable": false,
    "run_control": {
     "frozen": true
    }
   },
   "source": [
    "# Øving 6\n",
    "\n",
    "**Læringsmål:**  \n",
    "\n",
    "* Lister\n",
    "* Tekstbehandling\n",
    "* Numpy\n",
    "\n",
    "**Starting Out with Python:**\n",
    "\n",
    "* Kap. 7: Lists and Tuples\n",
    "* Kap. 8: More About Strings\n",
    "\n",
    "**Theory book:**\n",
    "\n",
    "* Kap. 20: Internetworking: Concepts, Architecture, And Protocols \n",
    "* Kap. 21: IP - Internet Addressing\n",
    "\n",
    " * 21.1 - 21.13 (279 - 290)\n",
    " * 21.20 - 21.23 (295 - 299)\n",
    " \n",
    "\n",
    "## Godkjenning:\n",
    "\n",
    "For å få godkjent øvingen må du gjøre ***4*** av ***13*** oppgaver. \n",
    "\n",
    "Oppgaver som er litt ekstra vanskelig er markert med stjerne. Oppgaver som går forbi det som er blitt forelest er markert med to stjerner.\n",
    "\n",
    "Alle oppgavene skal demonstreres til en læringsassistent på sal. I oppgaver der du skriver programkode skal også denne vises fram. Lykke til!\n",
    "\n",
    "Oppgave | Tema | Vanskelighetsgrad\n",
    "--- | --- | ---\n",
    "[Aksessering av karakterer i streng](Aksessering.ipynb) |Strenger| \n",
    "[Strenger og konkatinering](Strenger%20og%20konkatinering.ipynb)|Strenger|\n",
    "[Slicing av strenger](Slicing.ipynb)|Strenger|\n",
    "[Tekstbehandling](Tekstbehandling.ipynb)|Strenger|\n",
    "[Strenghåndtering](Strenghandtering.ipynb)|Strenger, Løkker|\n",
    "[Innebygde funksjoner og lister](Innebygde%20funksjoner.ipynb)|Lister|\n",
    "[Fjesboka](Fjesboka.ipynb)|Lister, Strenger|\n",
    "[Akkorder og toner](Akkorder%20og%20toner.ipynb)|Lister|Bør ha noe kunnskap innen musikk\n",
    "[Ideel gasslov](Ideel%20gasslov.ipynb)|Lister, Løkker, Strenger| Kjemi-oppgave\n",
    "[Sammenhengende tallrekke](Sammenhengende%20tallrekke.ipynb)|Lister, løkker|\n",
    "[Sortering](Sortering.ipynb)|Lister, Algoritmer|![img](../../../Resources/Images/star_yellow.svg)\n",
    "[Strengmanipulasjon](Strengmanipulasjon.ipynb)|Strenger, Lister| ![img](../../../Resources/Images/star_yellow.svg)\n",
    "[Litt sjakk](Litt%20sjakk.ipynb)|2D-lister| ![img](../../../Resources/Images/star_yellow.svg)![img](../../../Resources/Images/star_yellow.svg)"
   ]
  }
 ],
 "metadata": {
  "kernelspec": {
   "display_name": "Python 3.9.13 ('base')",
   "language": "python",
   "name": "python3"
  },
  "language_info": {
   "codemirror_mode": {
    "name": "ipython",
    "version": 3
   },
   "file_extension": ".py",
   "mimetype": "text/x-python",
   "name": "python",
   "nbconvert_exporter": "python",
   "pygments_lexer": "ipython3",
   "version": "3.9.13"
  },
  "toc": {
   "base_numbering": 1,
   "nav_menu": {},
   "number_sections": false,
   "sideBar": true,
   "skip_h1_title": false,
   "title_cell": "Table of Contents",
   "title_sidebar": "Contents",
   "toc_cell": false,
   "toc_position": {},
   "toc_section_display": true,
   "toc_window_display": false
  },
  "vscode": {
   "interpreter": {
    "hash": "f05a986ba9b7ef90082f46a82802a347e8bf98d05eda311516ee131e0e17234d"
   }
  }
 },
 "nbformat": 4,
 "nbformat_minor": 2
}
