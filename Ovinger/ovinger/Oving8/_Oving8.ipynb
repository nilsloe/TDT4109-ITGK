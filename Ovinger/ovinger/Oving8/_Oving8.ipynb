{
 "cells": [
  {
   "cell_type": "markdown",
   "metadata": {
    "deletable": false,
    "editable": false,
    "run_control": {
     "frozen": true
    }
   },
   "source": [
    "# Øving 8\n",
    "\n",
    "**Læringsmål:**\n",
    "\n",
    "- Rekursjon\n",
    "- Sammensatte programmer\n",
    "\n",
    "**Starting Out with Python:**\n",
    "\n",
    "- Kap. 12: Recursion\n",
    "\n",
    "**Theory book**\n",
    "\n",
    "- Kap 5 - Algorithms\n",
    " \n",
    "\n",
    "## Godkjenning (LES DETTE NØYE):\n",
    "\n",
    " Oppgaven \"Rekursjon\" er obligatorisk for å få godkjent øvingen. I tillegg må man gjøre minst én av disse tre: \"Eksamen Python 2012\", \"Sudoku\" eller \"Sjakk\". Hvis man gjør mer enn én, vil dette tilsvare to øvinger godkjent. Sjakk-oppgaven teller som to øvinger.\n",
    "\n",
    "Man kan maksimalt få to godkjente øvinger ved å gjøre øving 8. \n",
    "\n",
    "Vanskelige oppgaver er markert med stjerne og ekstra vanskelige oppgaver er markert med to stjerner.\n",
    "\n",
    "Alle oppgavene skal demonstreres til en læringsassistent på sal. I oppgaver der du skriver programkode skal også denne vises fram. Lykke til!\n",
    "\n",
    "\n",
    "Oppgave | Tema | Vanskelighetsgrad\n",
    "--- | --- | ---\n",
    "[Rekursjon](Rekursjon.ipynb)| Rekursjon, Algoritmer| \n",
    "[Eksamen Python 2012](Eksamen%202012.ipynb)|Repetisjon|\n",
    "[Sudoku](Sudoku.ipynb)|Repetisjon, Sammensatte problemer|\n",
    "[Sjakk](Sjakk.ipynb)|Repetisjon, Sammensatte problemer|![img](../../../Resources/Images/star_yellow.svg) ![img](../../../Resources/Images/star_yellow.svg)"
   ]
  }
 ],
 "metadata": {
  "kernelspec": {
   "display_name": "Python 3.9.13 ('base')",
   "language": "python",
   "name": "python3"
  },
  "language_info": {
   "codemirror_mode": {
    "name": "ipython",
    "version": 3
   },
   "file_extension": ".py",
   "mimetype": "text/x-python",
   "name": "python",
   "nbconvert_exporter": "python",
   "pygments_lexer": "ipython3",
   "version": "3.9.13"
  },
  "vscode": {
   "interpreter": {
    "hash": "f05a986ba9b7ef90082f46a82802a347e8bf98d05eda311516ee131e0e17234d"
   }
  }
 },
 "nbformat": 4,
 "nbformat_minor": 4
}
