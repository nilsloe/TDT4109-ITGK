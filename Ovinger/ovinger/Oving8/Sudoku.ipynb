{
 "cells": [
  {
   "cell_type": "markdown",
   "metadata": {
    "deletable": false,
    "editable": false,
    "run_control": {
     "frozen": true
    }
   },
   "source": [
    " <nav class=\"navbar navbar-default\">\n",
    "  <div class=\"container-fluid\">\n",
    "    <div class=\"navbar-header\">\n",
    "      <a class=\"navbar-brand\" href=\"_Oving8.ipynb\">Øving 8</a>\n",
    "    </div>\n",
    "    <ul class=\"nav navbar-nav\">\n",
    "    <li ><a href=\"Rekursjon.ipynb\">Rekursjon </a></li>\n",
    "    <li class=\"active\"><a href=\"Eksamen%202012.ipynb\">Eksamen Python 2012</a></li>\n",
    "    <li ><a href=\"Sudoku.ipynb\">Sudoku</a></li>\n",
    "    <li ><a href=\"Sjakk.ipynb\">Sjakk</a></li>\n",
    "    </ul>\n",
    "  </div>\n",
    "</nav>\n",
    "\n",
    "\n",
    "# Sudoku\n",
    "\n",
    "**Læringsmål.**\n",
    "\n",
    "* Store problemstillinger\n",
    "\n",
    "**I denne oppgaven skal du skrive et større program. For denne typen oppgaver kan det være mer praktisk å laste ned python og eventuelt en IDE (Et område man programmerer i på sin egen maskin) som VS Code. Det er fortsatt mulig å gjøre oppgaven i Jupyter dersom du ikke ønsker å jobbe lokalt, selv om det ikke er anbefalt.**\n",
    " \n",
    "I denne oppgaven skal vi først lage et sudoku-spill (før vi lager en sudoku-løser om noen år). Om du ikke kjenner reglene til sudoku kan du lese deg opp på de selv [her](https://no.wikipedia.org/wiki/Sudoku). Del 1 tar seg av å lage et spillbart sudoku-brett.\n",
    "\n",
    "Du står fritt til å bygge opp brettet slik som du vil, men brettet skal oppfylle følgende krav:\n",
    "\n",
    "* Brukeren skal kunne skrive inn et tall i en valgfri celle. Dersom tallet ikke er gyldig, dvs. ikke mellom 1 og 9, skal en feilmelding skrives ut.\n",
    "* Brukeren skal ikke kunne fylle inn et tall som allerede finnes i den samme raden, kolonnen eller kvadratet.\n",
    "* Brukeren skal kunne slette et tall fra en celle.\n",
    "* Hver gang brukeren fyller inn eller sletter et tall skal det nye brettet skrives ut på en fin måte. Et eksempel kan være som vist under (tallene over og ved siden av brettet angir her henholdsvis kolonne- og radnummer).\n",
    "* Brukeren skal kunne laste inn et brett fra en tekstfil.\n",
    "* Et halvutfylt brett skal kunne lagres til fil, slik at man kan fullføre det senere.\n",
    "* Spillet skal skrive ut en hyggelig gratulasjonsmelding dersom man har klart brettet.\n",
    "* Alt skal utføres gjennom et brukervennlig grensesnitt. Det vil si at brukeren ikke skal trenge å kalle på funksjonene selv, men at alt gjøres via input eller ved å lese fra/skrive til fil.\n",
    "\n",
    "Eksempel på brett:\n",
    "> \n",
    "```python\n",
    "    0 1 2   3 4 5   6 7 8 \n",
    "  +-------+-------+-------+\n",
    "0 | 0 0 6 | 9 0 5 | 0 1 0 |\n",
    "1 | 9 7 0 | 0 1 2 | 3 0 5 |\n",
    "2 | 0 2 0 | 0 0 4 | 8 6 0 |\n",
    "  +-------+-------+-------+\n",
    "3 | 5 0 3 | 8 0 0 | 0 2 0 |\n",
    "4 | 0 0 0 | 0 0 0 | 0 0 0 |\n",
    "5 | 0 8 0 | 0 0 1 | 9 0 7 |\n",
    "  +-------+-------+-------+\n",
    "6 | 0 5 4 | 1 0 0 | 0 7 0 |\n",
    "7 | 2 0 7 | 4 5 0 | 0 9 3 |\n",
    "8 | 0 6 0 | 7 0 3 | 1 0 0 |\n",
    "  +-------+-------+-------+\n",
    "\n",
    "```"
   ]
  },
  {
   "cell_type": "markdown",
   "metadata": {},
   "source": [
    "### Bruker !\"#¤%&/() 'shift+tall' for å utrykke tall som spiller ikke kjenner till\n",
    "\n",
    "##### Problemer:\n",
    "\n",
    "* Dersom det finnes flere løsninger, kan bare en løsning benyttes av bruker."
   ]
  },
  {
   "cell_type": "code",
   "execution_count": 1,
   "metadata": {},
   "outputs": [],
   "source": [
    "conversion={\n",
    "    1 : '!',\n",
    "    2 : '\"',\n",
    "    3 : '#',\n",
    "    4 : '¤',\n",
    "    5 : '%',\n",
    "    6 : '&',\n",
    "    7 : '/',\n",
    "    8 : '(',\n",
    "    9 : ')'\n",
    "}"
   ]
  },
  {
   "cell_type": "markdown",
   "metadata": {},
   "source": [
    "### Lag brett fra fil\n",
    "\n",
    "Filen skal være lagret på format 9x9 ('.' representerer et tall/symbol)\n",
    "\n",
    "1. \".........\\n\"\n",
    "2. \".........\\n\"\n",
    "3. \".........\\n\"\n",
    "..."
   ]
  },
  {
   "cell_type": "code",
   "execution_count": 2,
   "metadata": {},
   "outputs": [],
   "source": [
    "def lag_brett_fra_fil(filnavn):\n",
    "    brett=list()\n",
    "\n",
    "    while True:\n",
    "        try:\n",
    "            with open(filnavn, \"r\") as f:\n",
    "                for line in f.readlines():\n",
    "                    line.strip(\"\\n\")\n",
    "                    column=list()\n",
    "                    for tall in line:\n",
    "                        column.append(tall)\n",
    "                    brett.append(column)\n",
    "            break\n",
    "        except:\n",
    "            print(\"Filen finnes ikke.\")\n",
    "            \n",
    "\n",
    "    return brett"
   ]
  },
  {
   "cell_type": "markdown",
   "metadata": {},
   "source": [
    "### Lagre fil fra brett\n",
    "\n",
    "Filen skal ha samme format som å hente brett fra fil"
   ]
  },
  {
   "cell_type": "code",
   "execution_count": 3,
   "metadata": {},
   "outputs": [],
   "source": [
    "def lagre_brett_til_fil(filnavn, brett):\n",
    "    with open(filnavn, \"w\") as f:\n",
    "        for lst in brett:\n",
    "            line=\"\".join(lst)\n",
    "            f.write(line)"
   ]
  },
  {
   "cell_type": "markdown",
   "metadata": {},
   "source": [
    "### Skriv ut brett på fint format"
   ]
  },
  {
   "cell_type": "code",
   "execution_count": 24,
   "metadata": {},
   "outputs": [],
   "source": [
    "def print_brett(brett):\n",
    "    print(\"    0 1 2   3 4 5   6 7 8 \")\n",
    "    line_br=\"  +-------+-------+-------+\"\n",
    "    for i, lst in enumerate(brett):\n",
    "        if i==0 or i%3==0:\n",
    "            print(line_br)\n",
    "        \n",
    "        line=str(i) + \" | \" + \" \".join(lst[0:3]) + \" | \" + \" \".join(lst[3:6]) + \" | \" + \" \".join(lst[6:9]) + \" | \"\n",
    "\n",
    "        for key, val in conversion.items():\n",
    "            line=line.replace(val, \" \")\n",
    "\n",
    "        print(line)\n",
    "        \n",
    "        if i==8:\n",
    "            print(line_br)"
   ]
  },
  {
   "cell_type": "markdown",
   "metadata": {},
   "source": [
    "##### Funksjone for å sjekke om spiller har fullført brettet"
   ]
  },
  {
   "cell_type": "code",
   "execution_count": 5,
   "metadata": {},
   "outputs": [],
   "source": [
    "def har_vunnet(brett):\n",
    "    symboler=set()\n",
    "    for lst in brett:\n",
    "        symboler.update(lst)\n",
    "\n",
    "    ukjent_vals=set([val for key, val in conversion.items()])\n",
    "    if len(ukjent_vals-symboler)==9:\n",
    "        return True\n",
    "    \n",
    "    return False"
   ]
  },
  {
   "cell_type": "markdown",
   "metadata": {},
   "source": [
    "### Bruker skriver posisjon"
   ]
  },
  {
   "cell_type": "code",
   "execution_count": 6,
   "metadata": {},
   "outputs": [],
   "source": [
    "def skriv_posisjon():\n",
    "    try:\n",
    "        x_pos=int(input(\"Skriv inn x posisjon: \"))\n",
    "        y_pos=int(input(\"skriv inn y posisjon\"))\n",
    "\n",
    "        if (x_pos<=8 and x_pos>=0 and y_pos>=0 and y_pos<=8):\n",
    "            return y_pos, x_pos\n",
    "        else:\n",
    "            print(\"Tallet må være mellom 0 til og med 8\")\n",
    "            return skriv_posisjon()\n",
    "    except:\n",
    "        print(\"Du må skrive et tall fra 0 til og med 8\")\n",
    "        return skriv_posisjon()"
   ]
  },
  {
   "cell_type": "markdown",
   "metadata": {},
   "source": [
    "### Slett eller legg till"
   ]
  },
  {
   "cell_type": "code",
   "execution_count": 7,
   "metadata": {},
   "outputs": [],
   "source": [
    "def slett():\n",
    "    svar=input(\"Vill du slette eller legge till? ['legg till'/'slett']\")\n",
    "\n",
    "    if str.lower(svar)==\"legg till\" or str.lower(svar)==\"slett\":\n",
    "        if str.lower(svar)==\"legg till\":\n",
    "            return False\n",
    "        return True\n",
    "    else:\n",
    "        print(\"Du må svare med 'legg till' eller 'slett'\")\n",
    "        return slett()"
   ]
  },
  {
   "cell_type": "markdown",
   "metadata": {},
   "source": [
    "### Skriv inn tall"
   ]
  },
  {
   "cell_type": "code",
   "execution_count": 8,
   "metadata": {},
   "outputs": [],
   "source": [
    "def tall(brett):\n",
    "    try:\n",
    "        svar=int(input(\"Skriv inn et tall\"))\n",
    "\n",
    "        if svar>=1 and svar <=9:\n",
    "            return svar\n",
    "        else:\n",
    "            print(\"Tallet må være mellom 1 til og med 9\")\n",
    "            return tall(brett)\n",
    "    except:\n",
    "        print(\"Det må være et tall mellom 1 til og med 9\")\n",
    "        return tall(brett)"
   ]
  },
  {
   "cell_type": "markdown",
   "metadata": {},
   "source": [
    "### Hent kvadrat\n",
    "\n",
    "Funksjonen skal hente 3x3 kvadratet boxen vi leter etter er i, i form av liste"
   ]
  },
  {
   "cell_type": "code",
   "execution_count": 9,
   "metadata": {},
   "outputs": [],
   "source": [
    "def hent_kvadrat(brett, x_pos, y_pos):\n",
    "    x_pos=x_pos//3\n",
    "    y_pos=y_pos//3\n",
    "\n",
    "    rtn_lst=list()\n",
    "\n",
    "    three_nths_lists=brett[y_pos*3:y_pos*3+3]\n",
    "\n",
    "    for lst in three_nths_lists:\n",
    "        for elem in lst[x_pos*3:x_pos*3+3]:\n",
    "            rtn_lst.append(elem)\n",
    "\n",
    "    return rtn_lst"
   ]
  },
  {
   "cell_type": "markdown",
   "metadata": {},
   "source": [
    "## Spillet"
   ]
  },
  {
   "cell_type": "code",
   "execution_count": 25,
   "metadata": {},
   "outputs": [
    {
     "name": "stdout",
     "output_type": "stream",
     "text": [
      "    0 1 2   3 4 5   6 7 8 \n",
      "  +-------+-------+-------+\n",
      "0 | / ) 3 | ( & 4 | 5 ! 2 | \n",
      "1 | & 5 ¤ | ! \" 3 | ( ) / | \n",
      "2 | ! \" 8 | ) / 5 | 3 6 ¤ | \n",
      "  +-------+-------+-------+\n",
      "3 | & ( & | 2 ! ) | 7 4 3 | \n",
      "4 | 2 7 ) | 3 ¤ & | ! 8 % | \n",
      "5 | 3 4 ! | 7 5 ( | & \" ) | \n",
      "  +-------+-------+-------+\n",
      "6 | ( # 5 | 4 ) ! | \" / 6 | \n",
      "7 | 9 ! 2 | & # / | ¤ 5 ( | \n",
      "8 | 4 & / | % ( 2 | 9 # ! | \n",
      "  +-------+-------+-------+\n",
      "Riktig\n",
      "    0 1 2   3 4 5   6 7 8 \n",
      "  +-------+-------+-------+\n",
      "0 | / ) 3 | ( & 4 | 5 ! 2 | \n",
      "1 | & 5 ¤ | ! \" 3 | ( ) / | \n",
      "2 | ! \" 8 | ) / 5 | 3 6 ¤ | \n",
      "  +-------+-------+-------+\n",
      "3 | & ( & | 2 ! ) | 7 4 3 | \n",
      "4 | 2 7 ) | 3 4 & | ! 8 % | \n",
      "5 | 3 4 ! | 7 5 ( | & \" ) | \n",
      "  +-------+-------+-------+\n",
      "6 | ( # 5 | 4 ) ! | \" / 6 | \n",
      "7 | 9 ! 2 | & # / | ¤ 5 ( | \n",
      "8 | 4 & / | % ( 2 | 9 # ! | \n",
      "  +-------+-------+-------+\n",
      "Det må være et tall mellom 1 til og med 9\n",
      "Riktig\n",
      "    0 1 2   3 4 5   6 7 8 \n",
      "  +-------+-------+-------+\n",
      "0 | 7 ) 3 | ( & 4 | 5 ! 2 | \n",
      "1 | & 5 ¤ | ! \" 3 | ( ) / | \n",
      "2 | ! \" 8 | ) / 5 | 3 6 ¤ | \n",
      "  +-------+-------+-------+\n",
      "3 | & ( & | 2 ! ) | 7 4 3 | \n",
      "4 | 2 7 ) | 3 4 & | ! 8 % | \n",
      "5 | 3 4 ! | 7 5 ( | & \" ) | \n",
      "  +-------+-------+-------+\n",
      "6 | ( # 5 | 4 ) ! | \" / 6 | \n",
      "7 | 9 ! 2 | & # / | ¤ 5 ( | \n",
      "8 | 4 & / | % ( 2 | 9 # ! | \n",
      "  +-------+-------+-------+\n",
      "Feil:\n",
      "    0 1 2   3 4 5   6 7 8 \n",
      "  +-------+-------+-------+\n",
      "0 | 7 ) 3 | ( & 4 | 5 ! 2 | \n",
      "1 | & 5 ¤ | ! \" 3 | ( ) / | \n",
      "2 | ! \" 8 | ) / 5 | 3 6 ¤ | \n",
      "  +-------+-------+-------+\n",
      "3 | & ( & | 2 ! ) | 7 4 3 | \n",
      "4 | 2 7 ) | 3 4 & | ! 8 % | \n",
      "5 | 3 4 ! | 7 5 ( | & \" ) | \n",
      "  +-------+-------+-------+\n",
      "6 | ( # 5 | 4 ) ! | \" / 6 | \n",
      "7 | 9 ! 2 | & # / | ¤ 5 ( | \n",
      "8 | 4 & / | % ( 2 | 9 # ! | \n",
      "  +-------+-------+-------+\n",
      "Endret\n",
      "Allerede ukjent\n",
      "Endret\n",
      "Allerede ukjent\n",
      "Allerede ukjent\n",
      "Du må svare med 'legg till' eller 'slett'\n",
      "Riktig\n",
      "    0 1 2   3 4 5   6 7 8 \n",
      "  +-------+-------+-------+\n",
      "0 | 7 ) 3 | ( & 4 | 5 ! 2 | \n",
      "1 | & 5 ¤ | ! \" 3 | ( ) / | \n",
      "2 | ! \" 8 | ) / 5 | 3 6 ¤ | \n",
      "  +-------+-------+-------+\n",
      "3 | & ( & | 2 ! ) | 7 4 3 | \n",
      "4 | 2 7 ) | 3 ¤ & | ! 8 % | \n",
      "5 | 3 4 ! | 7 5 ( | & \" ) | \n",
      "  +-------+-------+-------+\n",
      "6 | ( # 5 | 4 ) ! | \" / 6 | \n",
      "7 | 9 ! 2 | & # / | ¤ 5 ( | \n",
      "8 | 4 & / | % ( 2 | 9 # ! | \n",
      "  +-------+-------+-------+\n"
     ]
    }
   ],
   "source": [
    "def main():\n",
    "    brett=lag_brett_fra_fil(input(\"Hvilken fil vil du åpne? \"))\n",
    "\n",
    "    print_brett(brett)\n",
    "\n",
    "    while True:\n",
    "\n",
    "        svar=input(\"Vill du slutte og lagre til fil? [ja/nei] \")\n",
    "        if str.lower(svar)==\"ja\":\n",
    "            filnavn=input(\"Filnavn [uten filtype]: \") + \".txt\"\n",
    "            lagre_brett_til_fil(filnavn, brett)\n",
    "            break\n",
    "        \n",
    "        y_pos, x_pos=skriv_posisjon()\n",
    "\n",
    "        svar_slett=slett()\n",
    "\n",
    "        if svar_slett:\n",
    "            while True:\n",
    "                try:\n",
    "                    brett[y_pos][x_pos]=conversion[int(brett[y_pos][x_pos])]\n",
    "                    print(\"Endret\")\n",
    "                    filnavn=input(\"Filnavn [Uten '.txt']: \") + \".txt\"\n",
    "                    print_brett(filnavn, brett)\n",
    "                except:\n",
    "                    print(\"Allerede ukjent\")\n",
    "                finally:\n",
    "                    break\n",
    "            continue\n",
    "        \n",
    "        svar_tall=tall(brett)\n",
    "\n",
    "        if brett[y_pos][x_pos]==conversion[svar_tall]:\n",
    "            print(\"Riktig\")\n",
    "            brett[y_pos][x_pos]=str(svar_tall)\n",
    "        else:\n",
    "            print(\"Feil:\")\n",
    "            \n",
    "        print_brett(brett)\n",
    "\n",
    "        if har_vunnet(brett):\n",
    "            print(\"Du VANT!\")\n",
    "            break\n",
    "\n",
    "main()"
   ]
  }
 ],
 "metadata": {
  "kernelspec": {
   "display_name": "Python 3.9.13 ('base')",
   "language": "python",
   "name": "python3"
  },
  "language_info": {
   "codemirror_mode": {
    "name": "ipython",
    "version": 3
   },
   "file_extension": ".py",
   "mimetype": "text/x-python",
   "name": "python",
   "nbconvert_exporter": "python",
   "pygments_lexer": "ipython3",
   "version": "3.9.13"
  },
  "vscode": {
   "interpreter": {
    "hash": "f05a986ba9b7ef90082f46a82802a347e8bf98d05eda311516ee131e0e17234d"
   }
  }
 },
 "nbformat": 4,
 "nbformat_minor": 4
}
