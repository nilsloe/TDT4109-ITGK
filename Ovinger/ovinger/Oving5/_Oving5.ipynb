{
 "cells": [
  {
   "cell_type": "markdown",
   "metadata": {
    "deletable": false,
    "editable": false,
    "run_control": {
     "frozen": true
    }
   },
   "source": [
    "# Øving 5\n",
    "\n",
    "**Læringsmål:**  \n",
    "\n",
    "* Lister\n",
    "* Nettverk\n",
    "\n",
    "**Starting Out with Python:**\n",
    "\n",
    "* Kap. 7: Lists and Tuples\n",
    "\n",
    "**Theory Book:**\n",
    "\n",
    "* Kap. 2: Internet Trends (197 - 205)\n",
    "* Kap. 8: Reliability And Channel Coding\n",
    "* Kap. 13: Local Area Networks: Packets, Frames, And Topologies\n",
    "\n",
    "* Kap. 20: Internetworking: Concepts, Architecture, And Protocols \n",
    " \n",
    "\n",
    "## Godkjenning:\n",
    "\n",
    "For å få godkjent øvingen må du gjøre ***4*** av ***11*** oppgaver. \n",
    "\n",
    "Oppgaver som er litt ekstra vanskelig er markert med stjerne.\n",
    "\n",
    "Alle oppgavene skal demonstreres til en læringsassistent på sal. I oppgaver der du skriver programkode skal også denne vises fram. Lykke til!\n",
    "\n",
    "Oppgave | Tema | Vanskelighetsgrad\n",
    "--- | --- | ---\n",
    "[Generelt om lister](Generelt%20om%20lister.ipynb) |Lister| \n",
    "[Lett og blandet om lister](Lett%20og%20blandet.ipynb)|Lister|\n",
    "[Kodeforståelse](Kodeforstaelse.ipynb)|Kodeforståelse|\n",
    "[Vektorer](Vektorer.ipynb)|Lister|\n",
    "[Lister og løkker](Lister%20og%20lokker.ipynb)|Lister og løkker|\n",
    "[Teoridelen på eksamen](Teoridelen%20paa%20eksamen.ipynb)|Lister|\n",
    "[Gangetabell og lister](Gangetabell%20og%20lister.ipynb)|2D-Lister|\n",
    "[Lotto](Lotto.ipynb)|Lister|![img](../../../Resources/Images/star_yellow.svg)\n",
    "[Tannfeen](Tannfeen.ipynb)|2D-lister, Løkker|![img](../../../Resources/Images/star_yellow.svg)\n",
    "[Chattebot](Chattebot.ipynb)|Lister, Input| ![img](../../../Resources/Images/star_yellow.svg)\n",
    "[Matriseaddisjon](Matriseaddisjon.ipynb)|2D-Lister|![img](../../../Resources/Images/star_yellow.svg)"
   ]
  }
 ],
 "metadata": {
  "kernelspec": {
   "display_name": "Python 3 (ipykernel)",
   "language": "python",
   "name": "python3"
  },
  "language_info": {
   "codemirror_mode": {
    "name": "ipython",
    "version": 3
   },
   "file_extension": ".py",
   "mimetype": "text/x-python",
   "name": "python",
   "nbconvert_exporter": "python",
   "pygments_lexer": "ipython3",
   "version": "3.9.7"
  },
  "toc": {
   "base_numbering": 1,
   "nav_menu": {},
   "number_sections": false,
   "sideBar": true,
   "skip_h1_title": false,
   "title_cell": "Table of Contents",
   "title_sidebar": "Contents",
   "toc_cell": false,
   "toc_position": {},
   "toc_section_display": true,
   "toc_window_display": false
  }
 },
 "nbformat": 4,
 "nbformat_minor": 2
}
