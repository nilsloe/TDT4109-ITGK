{
 "cells": [
  {
   "cell_type": "markdown",
   "metadata": {
    "deletable": false,
    "editable": false,
    "run_control": {
     "frozen": true
    }
   },
   "source": [
    "<table style=\"font-size:15px; margin-left:0px\">\n",
    "  <tr>\n",
    "    <td><a href=\"../JN0.ipynb\">Tilbake til oversikt over notebooks</td>\n",
    "  </tr>\n",
    "\n",
    "</table>"
   ]
  },
  {
   "cell_type": "markdown",
   "metadata": {
    "deletable": false,
    "editable": false,
    "run_control": {
     "frozen": true
    }
   },
   "source": [
    "<h1> Bruk av Git for versjonskontroll og samarbeid</h1>"
   ]
  },
  {
   "cell_type": "markdown",
   "metadata": {
    "deletable": false,
    "editable": false,
    "run_control": {
     "frozen": true
    }
   },
   "source": [
    "**Forventet kunnskap:**\n",
    "- Ingen "
   ]
  },
  {
   "cell_type": "markdown",
   "metadata": {
    "deletable": false,
    "editable": false,
    "run_control": {
     "frozen": true
    }
   },
   "source": [
    "**Læringsmål:**\n",
    "- Forstå hva et versjonskontroll er og hvorfor det er nyttig\n",
    "- Ha kjennskap til hva Git er:\n",
    "    - Forstå hva \"working area\", \"staging area\" og \"repository\" er i Git\n",
    "    - Forstå hva en \"commit\" er\n",
    "    - Forstå hva konseptene \"branch\" og \"merge\" er\n",
    "- Kunne bruke kommandolinjen på datamaskinen til å navigere til en ønsket mappe med `cd`, skrive ut hva mappen inneholder med `ls`, skrive ut en filsti med `pwd` og kunne lage en ny mappe med `mkdir`.\n",
    "- Vite hvordan man lager et nytt \"repository\" med `git init`.\n",
    "- Vite hvordan man \"stager\" endringer som blir gjort på ulike filer i en mappe.\n",
    "- Vite hvordan man \"commiter\" en endring.\n",
    "- Bruke `git status` for å få oversikt over tilstanden til et prosjekt.\n",
    "- Kunne bruke kommandoen, `git branch` til å både lage en branch og få oversikt over alle branches (grener) som finnes.\n",
    "- Kunne bruke kommandoen, `git checkout` for å bytte mellom ulike branches (grener).\n",
    "- Kunne slå sammen \"branches\" med kommandoen `git merge`.\n",
    "- Forstå hvorfor \"merge conflict\" skjer, og hvordan man kan løse dette.\n",
    "- Kunne trekke tilbake en \"commit\", med `git reset` og angre en \"commit\" med `git revert`.\n",
    "- Kunne bruke `git log` til å få oversikt over en \"commithistorikk\".\n",
    "- Vite at du kan bruke `git diff` til å sammenligne filer, branches (grener) og \"commits\".\n",
    "- Vite at du kan bruke `git clean` for slette \"untracked\" (usporede) filer under \"working area\".\n",
    "- Få kjennskap til hvordan du får Git til å ignorere uønskede filer ved å lage en .gitignore fil og aktivere denne.\n",
    "- Forstå forskjellen på lokal versjonskontroll og \"remote\" versjonskontroll.\n",
    "- Vite hvordan man kan lage en remote repo på GitHub som et eksempel.\n",
    "- Forstå hvordan man kan samarbeide med andre via \"remote repositories\".\n",
    "- Hvordan lagre en \"remote repository\" lokalt på din datamaskin med kloning (*eng: cloning*).\n",
    "- Bruke `git push` for å publisere endringer til en remote repo og `git pull` for å hente endringer fra en remote repo.\n",
    "- Vite om andre programmer for å bruke Git utenom kommandolinjen som tilbyr et brukergrensesnitt."
   ]
  },
  {
   "cell_type": "markdown",
   "metadata": {
    "deletable": false,
    "editable": false,
    "run_control": {
     "frozen": true
    }
   },
   "source": [
    "I fremtiden kan det hende du skal skrive større programmer på f.eks. noen hundre kodelinjer, eller skal samarbeide med andre på et kodeprosjekt. Det er da versjonskontroll blir viktig. I denne notebooken skal vi se nærmere på hva en versjonskontroll er og hvorfor vi bruker versjonskontroll. Vi skal videre se nøyere på det distribuerte versjonskontrollssystemet, Git og hvordan man bruker Git i en arbeidsflyt og et samarbeid. "
   ]
  },
  {
   "cell_type": "markdown",
   "metadata": {},
   "source": [
    "# Introduksjon til versjonskontroll, Git og installasjon\n",
    "<a id = 'introduksjon_git'></a>"
   ]
  },
  {
   "cell_type": "markdown",
   "metadata": {},
   "source": [
    "## Om versjonskontroll og Git"
   ]
  },
  {
   "cell_type": "markdown",
   "metadata": {},
   "source": [
    "Når du skriver et program med en del kodefiler og gjør endringer på de ved f.eks. å legge til kode, endrer kode, eller slette kode, kan det være greit å holde styr på hver endring du gjør på koden din. Tidligere er du kanskje vant med å lagre nye kopier av koden din på PC-en din, men du er redd for å skrive over en tidligere versjon så du ender opp med ulike filer av koden din med ulike versjoner? Dette er ikke en optimal arbeidsflyt når du jobber med endringer. En ryddigere løsning kan være å bruke noe som heter versjonskontroll på filene dine i stedet. Versjonskontroll er et verktøy som sørger for å gi deg som bruker en oversikt over alle endringene du har gjort på en eller flere filer.\n",
    "\n",
    "Versjonskontroll forenkler også samarbeid på de samme filene. Når du bruker versjonskontroll, er det enklere å kombinere endringer som flere har gjort. Derfor er det anbefalt å bruke dette når dere er flere som jobber på de samme filene. Det gir alle gruppemedlemmene en ryddig oversikt over endringer som har blitt gjort og er i tillegg et verktøy som hjelper til å sammenstille endringer alle gruppemedlemmene gjør.  "
   ]
  },
  {
   "cell_type": "markdown",
   "metadata": {},
   "source": [
    "## Hva er Git?"
   ]
  },
  {
   "cell_type": "markdown",
   "metadata": {
    "deletable": false,
    "editable": false,
    "run_control": {
     "frozen": true
    }
   },
   "source": [
    "Git er et program som tilbyr et *distribuert versjonskontroll system*. Som nevnt i forrige seksjon, er et versjonskontrollsystem et verktøy som holder styr på filene dine som du velger å spore. Et versjonskontrollsystem gjør det mulig å lagre endringer og spore endringer i disse filene. Det er kjerneoppgaven til Git. Måten Git sporer endringene på, er at programmet lager en tidslinje av endringer som har blitt gjort på et arbeid inkludert beskrivende sjekkpunkter for hver versjon/endring av koden. Bildet under visualiserer et eksempel på en slik tidslinje. Et arbeid kan være en mappe som består av mange kodefiler.\n",
    "\n",
    "La oss si at du har en mappe på PC-en din som inneholder Python-filene du har laget for hver øving. Med Git kan du holde styr på endringer du gjør i filene dine og lage en tidslinje med sjekkpunkter slik at det er mulig å gå tilbake til eldre versjoner av filene og nyeste versjonen av filene. Dette gjør det mulig å bruke Git som et \"undo\" (angre) og \"redo\" (rulle tilbake angring) verktøy for endringene du gjør på arbeidet. Det er dette som menes med at Git er et versjonskontroll system. Det hjelper deg å kontrollere alle de ulike versjonene av et arbeid.  \n",
    "\n",
    "Det største bruksområdet for Git, er å bruke det som et verktøy til å samarbeide på et felles arbeid (en mappe med filer i). Git gjør det enklere å legge til endringer og hente ut endringer som andre har gjort i det arbeidet som er felles. Det er mulig å bruke Git når man samarbeider på et felles prosjekt (en samling av kodefiler) ved å publisere prosjektet og de ulike versjonene av det på en server. Da skylagrer Git de endringene som gruppemedlemmer gjør på prosjektet til en annen tjeneste utenom den lokale PC-en til de som samarbeider. På den måten kan alle få tilgang til det felles prosjektet med den nyeste versjonen av koden. Det er dette man bruker en *remote repository* til. Dette konseptet forklarer i mer detaljer i seksjonen, [Bruk Git i et samarbeid](#git_samarbeid). "
   ]
  },
  {
   "cell_type": "markdown",
   "metadata": {},
   "source": [
    "## Hvordan fungerer Git?"
   ]
  },
  {
   "cell_type": "markdown",
   "metadata": {
    "deletable": false,
    "editable": false,
    "run_control": {
     "frozen": true
    }
   },
   "source": [
    "Når du starter Git for første gang i prosjektet ditt, lager programmet et *repository* for filene dine. Da lages det en mappe i prosjektet ditt som heter .git/ når du startet Git. Merk at denne mappen ikke vil være synlig i filutforsker (Windows)/Finder(Mac) når du starter Git. \n",
    "Et repository, som vi forkorter som et repo, kan du tenke på som en lagringsplass for både filene dine og endringene på de, og det er filene dine som ligger i Git repoet som faktisk blir sporet av Git. Derfor må selve filene dine legges til i repoet for at Git skal kjenne de igjen og dermed spore endringene som blir gjort på dem. Når filene dine er lagt til i Git repoet, vil Git lage en tidslinje med ulike versjoner av filene dine som inkluderer ulike endringer som har blitt gjort på dem over tid. Du som bruker kommer ikke til å interagere direkte med Git repoet (.git mappen), så det viktigste er bare å ha en overordnet forståelse av hva et Git repo er. \n",
    "\n",
    "Endringer du gjør på filene dine i et prosjekt der du bruker Git som versjonskontroll, kan havne i tre ulike faser. Når du legger til filer, sletter filer eller endrer på filer i prosjektet ditt, havner disse endringene først i noe som kalles for *working area*. Du kan tenke på working area som en plass der endringene til prosjektet befinner seg i, men som foreløpig er en kladd. Endringene som befinner seg i working area, venter på å bli klargjort til godkjenning. På dette stadiet blir ikke endringene lagret i Git systemet. \n",
    "\n",
    "Før du kan lagre endringene som befinner seg i working area i Git repoet, må filene gjennom en fase til, kalt *staging area*. Som vist i bildet under, er det en prosess som går fra working area til staging area, og denne prosessen kalles for staging. Når du stager endringene dine, betyr dette at du klargjør disse til lagring i Git repoet. \n",
    "\n",
    "Når filene dine er i staging area, venter de på at du lagrer endringene i Git repoet (evt. sletter endringene siden du på dette stadiet kan angre endringene dine også). Når filene er staget, kan du endelig lagre endringene ved å *commite* og de vil til slutt havne i Git repoet til prosjektet ditt. Du må altså stage endringene dine før du kan commite endringene dine. En commit lager et øyeblikksbilde av endringen din i Git repoet. Når du commiter endringene dine, begynner Git å lage en tidslinje av endringene dine som det ble nevnt lenger oppe. Det er først når du har gjort en commit på en endring i prosjektet at du kan gå tilbake til denne ved en senere anledning om det skulle trenges. Neste gang du gjør endringer på filene som nå ligger i Git repoet ditt, vil de havne først i working area der du må stage dem igjen før du kan commite dem slik at de lagres i repoet. Og slik fortsetter det i en \"sykel\" hver gang du gjør endringer i prosjektet ditt. \n",
    "\n",
    "En fil vil være ukjent og regnes som *untracked* (uspored) av Git før du gjør din aller første commit på den, men etter den første commiten, regnes den som \"kjent\" for Git og da karakteriseres den ikke som \"untracked\" lenger. Det er da tidslinjen til de fremtidige versjonene av filen din starter.\n",
    "\n",
    "Det største bruksområdet for Git, er å bruke det som et verktøy til å samarbeide på et felles arbeid (en mappe med filer i). Git gjør det enklere å legge til endringer og hente ut endringer som andre har gjort i det arbeidet som er felles. Det er mulig å bruke Git når man samarbeider på et felles prosjekt (en samling av kodefiler) ved å publisere prosjektet og de ulike versjonene av det på en server. Da skylagrer Git de endringene som gruppemedlemmer gjør på prosjektet til en annen tjeneste utenom den lokale PC-en til de som samarbeider. På den måten kan alle få tilgang til det felles prosjektet med den nyeste versjonen av koden. Det er dette man bruker en *remote repository* til. Dette konseptet forklarer i mer detaljer i seksjonen, [Bruk Git i et samarbeid](#git_samarbeid). "
   ]
  },
  {
   "cell_type": "markdown",
   "metadata": {
    "deletable": false,
    "editable": false,
    "run_control": {
     "frozen": true
    }
   },
   "source": [
    "## Installer Git\n",
    "<a id = \"git_installasjon\"> </a>"
   ]
  },
  {
   "cell_type": "markdown",
   "metadata": {
    "deletable": false,
    "editable": false,
    "heading_collapsed": true,
    "run_control": {
     "frozen": true
    }
   },
   "source": [
    "### Linux"
   ]
  },
  {
   "cell_type": "markdown",
   "metadata": {
    "deletable": false,
    "editable": false,
    "hidden": true,
    "run_control": {
     "frozen": true
    }
   },
   "source": [
    "Git pakker er tilgjengelig via apt, yum og dnf. Last ned git pakken i din kommandolinje. Hvis du bruker f.eks Ubuntu, skriver du `sudo apt-get update` for å oppdatere apt og deretter\n",
    "`sudo apt-get install git` for å laste ned Git. "
   ]
  },
  {
   "cell_type": "markdown",
   "metadata": {
    "deletable": false,
    "editable": false,
    "heading_collapsed": true,
    "run_control": {
     "frozen": true
    }
   },
   "source": [
    "### Windows"
   ]
  },
  {
   "cell_type": "markdown",
   "metadata": {
    "deletable": false,
    "editable": false,
    "hidden": true,
    "run_control": {
     "frozen": true
    }
   },
   "source": [
    "<h4> Steg for steg beskrivelse av hvordan du laster ned Git </h4>\n",
    "\n",
    "* Innstaller Git ved å trykke [her](https://git-scm.com/downloads) og velg Windows som operativsystem.\n",
    "\n",
    "* Følg instruksene som dukker opp. La default valg stå og ikke velg noe annet enn de som er krysset av på forhånd (evt. med unntak av ønsket teksteditor). \n",
    "\n",
    "\n",
    "Du kan kontrollere at Git ble lastet ned ved å åpne Powershell ved å søke \"Powershell\" der du søker etter programmer på Windows. Sjekk deretter om du har lastet ned git ved å skrive: `git --version` i programmet som dukker opp, etterfulgt av enter tasten. \n",
    "Da bør det dukke opp `git version xx`som output der xx er versjonnummeret du har lastet ned.  "
   ]
  },
  {
   "cell_type": "markdown",
   "metadata": {
    "deletable": false,
    "editable": false,
    "heading_collapsed": true,
    "run_control": {
     "frozen": true
    }
   },
   "source": [
    "### MacOS"
   ]
  },
  {
   "cell_type": "markdown",
   "metadata": {
    "deletable": false,
    "editable": false,
    "hidden": true,
    "run_control": {
     "frozen": true
    }
   },
   "source": [
    "Åpne Terminal-programmet (som allerede er installert), som har dette symbolet:  <img  style=\"display:inline-block;\" width=\"50px\" src=\"img/terminal.png\"> ved å søke \"Terminal\" i \"Spotlight-søk\""
   ]
  },
  {
   "cell_type": "markdown",
   "metadata": {
    "deletable": false,
    "editable": false,
    "hidden": true,
    "run_control": {
     "frozen": true
    }
   },
   "source": [
    "Det er ganske sannsynlig at du har XCode og dermed også Git allerede lastet ned på Macen din. De nyeste modellene pleier å ha XCode. XCode er en pakke som gjør det mulig for deg å skrive kommandoer slik man gjør i Linux, og det er slike kommandoer vi skal bruke videre i denne notebooken også. XCode inkluderer også nødvendig pakker fra Git biblioteket som du kommer til å ha bruk for når du gjør oppgaver i denne notebooken og når du skal bruke Git senere i karrieren din/studiet ditt. \n",
    "\n",
    "Aller først bør du sjekke om du allerede har Git lastet ned på Macen din. \n",
    "\n",
    "Når du har åpnet terminalen, skriver du følgende i selve terminalen: \n",
    "`git --version` etterfulgt av enter.  \n",
    "\n",
    "Lignende output bør dukke opp da i linjen under: \n",
    "\n",
    "`git version 2.27.0` \n",
    "\n",
    "#### Laste ned Git med XCode\n",
    "\n",
    "Dersom du ikke har XCode på Macen din fra før av, anbefaler jeg på det sterkeste at du laster ned dette nå. Bruk følgende kommando for å laste ned de viktigste pakkene (kun command line tools og git):\n",
    "\n",
    "`xcode-select --install`\n",
    "\n",
    "På vinduet som dukker opp, velger du \"Install\" og lar installasjonen fullføres. Nå bør du kunne skrive \n",
    "`git --version` igjen og versjonen bør dukke opp på terminalen.\n",
    "\n",
    "\n",
    "#### Laste ned Git manuelt\n",
    "Dersom du ikke ønsker å laste ned XCode men kun Git, kan du gjøre dette manuelt via linken [her](https://sourceforge.net/projects/git-osx-installer/files/). Du kan også laste ned nyeste versjon fra linken dersom du ønsker å oppgradere den nåværende versjonen av Git som er på Macen din fra før. \n",
    "\n",
    "Følg instruksene som dukker opp. La default valg stå og ikke velg noe annet enn de som er krysset av på forhånd. \n",
    "\n",
    "Du kan sjekke om Git ble lastet ned ved å skrive `git --version` igjen og du bør få opp `git version xx`på neste linje der xx er versjonen du har lastet ned.    "
   ]
  },
  {
   "cell_type": "markdown",
   "metadata": {},
   "source": [
    "### Lagre brukerinformasjon på Git "
   ]
  },
  {
   "cell_type": "markdown",
   "metadata": {
    "deletable": false,
    "editable": false,
    "run_control": {
     "frozen": true
    }
   },
   "source": [
    "Etter at du har lastet ned Git, må du lagre informasjon om deg, slik at Git vet hvem som har gjort endringer. Det gjør du ved å skrive følgende i Terminalen (PowerShell på Windows): \n",
    "\n",
    "`git config --global user.name \"User\"`  \n",
    "\n",
    "Etterfulgt av enter. I stedet for \"User\" må du skrive det brukernavnet du ønsker å ha på Git mellom fnuttene. Deretter må du skrive: \n",
    "\n",
    "`git config --global user.email \"Din e-mail\"` \n",
    "\n",
    "og husk å skrive din faktiske e-mailadresse mellom fnuttene. Trykk deretter på enter tasten. "
   ]
  },
  {
   "cell_type": "markdown",
   "metadata": {},
   "source": [
    "**Fjernet mye unødvendig informasjon om filstruktur og kommandolinjen. Legg kanskje til en ekstern ressurs?**"
   ]
  },
  {
   "cell_type": "markdown",
   "metadata": {
    "deletable": false,
    "editable": false,
    "run_control": {
     "frozen": true
    }
   },
   "source": [
    "# Grunnleggende kommandoer i Git"
   ]
  },
  {
   "cell_type": "markdown",
   "metadata": {
    "deletable": false,
    "editable": false,
    "run_control": {
     "frozen": true
    }
   },
   "source": [
    "Nå skal vi se på hvordan vi faktisk bruker Git ved å bruke kommandolinjen. I denne videoen skal vi bruke eksempelmappen som heter \"git_introduksjon\" til dette. Vi skal lage en git repo på denne mappen slik at Git begynner å spore filene og vi kan dermed bruke Git som et verktøy til å lage sjekkpunkter av endringene våre som blir gjort i innholdet i mappen i en tidslinje. Du finner mappen som blir brukt som et gjennomgående eksempel i videoen her i samme mappe som du finner denne notebooken på serveren. Trykk [her](./) for å komme til mappen. Åpne denne og pakk ut filene dersom du ønsker å være med på å gjøre eksemplene i videoen.  \n",
    "\n",
    "**Videoen var litt tørr. Kanskje enklere å bare skrive om kommandoene og legge inn noen skjermdumper basert på det under.**\n",
    "\n",
    "- `git init` starter en ny \"repository\" i prosjektet ditt.\n",
    "- `git status`gir oversikt over tilstanden et prosjekt er i. Det vil si at endringene dine er synlig og Git forteller deg om endringene er \"untracked\" (usporet), staget eller commitet (lagret i systemet). \n",
    "- For å stage en fil med navnet, \"filename\" bruker du kommandoen `git add filename`.\n",
    "- Kommandoen `git add -all` stager alle filer og undermapper som det har blitt gjort en endring på. \n",
    "- `git add .` er en alternativ kommando som stager aller filer du har gjort en endring på, eksklusiv undermapper og slettinger som har blitt gjort. \n",
    "- Kommandoen, `git commit -m \"<melding>\"` brukes for å \"commite\" endringer der du erstatter`<melding>` med den commit-meldingen du ønsker å gi. Du må huske å oppgi fnutter rundt teksten som du gi som commit-melding. \n"
   ]
  },
  {
   "cell_type": "markdown",
   "metadata": {
    "deletable": false,
    "editable": false,
    "run_control": {
     "frozen": true
    }
   },
   "source": [
    "## Oppgaver"
   ]
  },
  {
   "cell_type": "markdown",
   "metadata": {
    "deletable": false,
    "editable": false,
    "run_control": {
     "frozen": true
    }
   },
   "source": [
    "Dersom du ikke allerede har gjort det, må du konfigurere Git ved å skrive \n",
    "\n",
    "`git config --global user.name \"Fornavn Etternavn\"`\n",
    "\n",
    "og \n",
    "\n",
    "`git config --global user.email \"din_epost\"`"
   ]
  },
  {
   "cell_type": "markdown",
   "metadata": {
    "deletable": false,
    "editable": false,
    "run_control": {
     "frozen": true
    },
    "solution2": "hidden",
    "solution2_first": true
   },
   "source": [
    "**Oppgave 1**\n",
    "\n",
    "Lag en ny mappe i kommandolinjen din ved å bruke kommandoen, `mkdir` og som du kaller `my_repo`. Naviger der deretter inn i den nye mappen du nettopp lagde. "
   ]
  },
  {
   "cell_type": "markdown",
   "metadata": {
    "deletable": false,
    "editable": false,
    "run_control": {
     "frozen": true
    },
    "solution2": "hidden"
   },
   "source": [
    "**Løsningsforslag 1**\n",
    "\n",
    "I kommandolinjen din skriver du\n",
    "\n",
    "`mkdir my_repo`\n",
    "\n",
    "for å lage mappa. For å gå inn i den skriver du\n",
    "\n",
    "`cd my_repo`"
   ]
  },
  {
   "cell_type": "markdown",
   "metadata": {
    "deletable": false,
    "editable": false,
    "run_control": {
     "frozen": true
    }
   },
   "source": [
    "**Oppgaver 2**\n",
    "\n",
    "Legg til filene som ligger i zip-filen, \"introduksjon_til_bruk_av_git_opg2.zip\" i \"my_repo\". Du finner zip-filen [her](./). "
   ]
  },
  {
   "cell_type": "markdown",
   "metadata": {
    "deletable": false,
    "editable": false,
    "run_control": {
     "frozen": true
    },
    "solution2": "hidden",
    "solution2_first": true
   },
   "source": [
    "**Oppgave 3**\n",
    "\n",
    "Lag en repository ved å bruke kommandoen, `git init` i kommandolinjen din. Legg til filene du lagde i oppgave 2 i staging area med kommandoen, `git add` og husk å spesifisere hvilke filer du ønsker å stage. Commit så endringene med kommandoen, `git commit` og husk å legg til en melding."
   ]
  },
  {
   "cell_type": "markdown",
   "metadata": {
    "deletable": false,
    "editable": false,
    "run_control": {
     "frozen": true
    },
    "solution2": "hidden"
   },
   "source": [
    "**Løsningsforslag 3**\n",
    "\n",
    "For å lage en ny \"repository\" skriver du\n",
    "\n",
    "`git init`\n",
    "\n",
    "Du får da ut en melding som starter med \"Initialized empty Git repository in ... \" (hvilken filsti avhenger av hvor på datamaskinen din du lagret mappa)\n",
    "\n",
    "For å legge til alle filene dine i staging area, skriver du følgende kommando: \n",
    "`git add --all`\n",
    "\n",
    "For å commite filene dine som ligger i staging area, bruker du følgende kommando: \n",
    "`git commit -m \"Initial commit\"` (Eller hvilken som helst annen melding som du skriver mellom fnuttene)"
   ]
  },
  {
   "cell_type": "markdown",
   "metadata": {
    "deletable": false,
    "editable": false,
    "run_control": {
     "frozen": true
    },
    "solution2": "hidden",
    "solution2_first": true
   },
   "source": [
    "**Oppgave 4**\n",
    "\n",
    "Legg til noe tekst tekstfilene, \"tekstfil.txt\" i mappa, og commit endringene du gjorde."
   ]
  },
  {
   "cell_type": "markdown",
   "metadata": {
    "deletable": false,
    "editable": false,
    "run_control": {
     "frozen": true
    },
    "solution2": "hidden"
   },
   "source": [
    "**Løsningsforslag 4**\n",
    "Etter at du har lagret endringen på tekstfilen, må du stage filen med kommandoen\n",
    "\n",
    "`git add tekstfil.txt`\n",
    "og deretter kan du commite endringen med\n",
    "\n",
    "`git commit -m \"melding\"`.\n",
    "Du kan velge å skrive en annen melding mellom fnuttene. "
   ]
  },
  {
   "cell_type": "markdown",
   "metadata": {
    "deletable": false,
    "editable": false,
    "run_control": {
     "frozen": true
    }
   },
   "source": [
    "## Få oversikt"
   ]
  },
  {
   "cell_type": "markdown",
   "metadata": {
    "deletable": false,
    "editable": false,
    "run_control": {
     "frozen": true
    }
   },
   "source": [
    "Git tilbyr spesielt to nyttige kommandoer som gir deg oversikt over endringer som blir gjort underveis. Disse er `git log` og `git status`. `git status` har allerede blitt nevnt og brukt i forrige seksjon men denne seksjonen repeterer kommandoen likevel og viser en output som kommer opp om du gjør andre endringer enn kun å legge til en fil. \n",
    "\n",
    "`git status` gir deg en liste over filer som enten er endret, lagt til eller slettet, der disse endringene ikke har blitt commitet eller staget enda. Bildet under viser et eksempel på en output som kan dukke opp om du *endrer* på filer. \n",
    "\n",
    "<img src = 'img/git_status.png' width = 600px>\n",
    "\n",
    "I eksempelet har filene \"oving.py\" og \"tekstfil.txt\" blitt endret på og derfor blitt markert som \"modified\". Det kommer også en tydelig markering dersom en fil er slettet. Disse markeres som \"Deleted\". I begge tilfeller vil filene havne under \"Changes not staged for commit\" før du stager dem og commiter. Som du antageligvis husker fra forrige seksjon, vil nye filer som er lagt til i prosjektet havne under \"Untracked files\" fordi de enda ikke har blitt sporet av Git før du begynner sporingen. \n",
    "\n",
    "Bildet under viser et eksempel der det har blitt slettet noen filer som Git sporer fra før av, og lagt til nye filer i et prosjekt som Git ikke har begynt å spore enda, og hva `git status` da viser i dette tilfellet. Som forventet havner slettede filer under \"Changes not staged for commit\" fordi disse ikke er staget eller commitet enda og filer som er nye i prosjektet havner under \"Untracked files\".\n",
    "\n",
    "<img src = 'img/deleted_and_untracked.png' width = 600px>\n",
    "\n",
    "`git log` gir deg en tekstlig liste over alle commits som har blitt gjort. ID-en, forfatter, dato og meldingen til commitene dukker opp. Denne kommandoen kan være greit å bruke for å få en oversikt over hvilke endringer det er som har blitt gjort. Gode commit meldinger er derfor svært viktige for at andre medlemmer klarer å forstå endringene som har blitt gjort på et prosjekt. Bildet under viser et eksempel på commits som har blitt gjort på et prosjekt. Det som står i parentes, er navnet til branchen der commiten ble gjort. Du kan foreløpig ignorere hva \"origin/master\" er.  \n",
    "\n",
    "<img src = 'img/git_log.png' width = 600px>\n",
    "\n",
    "Du kan få en finere format på outputen ved å legge til `--oneline` som flagg, altså blir hele kommandoen `git log --oneline`. \n",
    "\n",
    "*Hint: Om du ønsker å avslutte prosessen siden den bruker tid på å laste opp alle commitene dine, kan du taste inn `ctrl + c`.* "
   ]
  },
  {
   "cell_type": "markdown",
   "metadata": {
    "deletable": false,
    "editable": false,
    "run_control": {
     "frozen": true
    }
   },
   "source": [
    "## Slette endringer og rulle tilbake i commit historikken"
   ]
  },
  {
   "cell_type": "markdown",
   "metadata": {
    "deletable": false,
    "editable": false,
    "run_control": {
     "frozen": true
    }
   },
   "source": [
    "<h4> Rulle tilbake til gammel tilstand av prosjektet </h4>\n",
    "På samme måte som du kan velge branch med <code>git checkout</code> (<strong>Dette har ikke blitt nevnt</strong>), kan du også velge en commit du ønsker å gå tilbake til med samme kommando. Denne kommandonen kan hjelpe deg å finne fram til en sikker kopi av prosjektet i tidslinjen over alle endringer som har blitt gjort dersom du har støtt på uheldige endringer som på et vis har ødelagt prosjektets innhold. Du kan altså gå til en kjent tilstand som du vet er trygg. Dette gjør du ved å oppgi hash-verdien til commiten du vil gjøre en <code>checkout</code> på (altså flytte peker til). Du kan finne denne hash-verdien med <code>git log --oneline</code> som gir deg en liste over alle commits som har blitt gjort på den branchen du står i. Når du har gjort en <code>checkout</code> på en tidligere commit, vil innholdet i prosjektet ditt endre seg til hva den var da valgt commit ble gjort (den du velger med <code>checkout</code>). Merk at når du bruker <code>git checkout commit_id</code> der \"commit_id\" er hash-verdien til commiten du vil peke på, så vil ingen endringer du gjør bli lagret i Git repoet. Du kan komme tilbake til \"redigeringsmodus\" i Git ved å skrive <code>git checkout master</code> gitt at master holder nyeste versjon av prosjektet og master er \"hovedgrenen\" din (den du alltid bruker til å lagre siste versjon av koden din i). Da vil du også få nyeste commit i master dersom du nå commiter en ny endring. Da kan du f.eks lime inn den sikre kopien av prosjektet, eller bruke <code>git revert</code> eller <code>git reset</code> som er mer elegante løsninger.\n",
    "<strong>Føler at dette avsnittet var litt rotete (har allerede kortet det ned)</strong>\n",
    "\n",
    "\n",
    "<h4>Slette commits med <code>git reset</code> og <code>git revert </code> </h4>\n",
    "Du kan angre nyeste commit med kommandoen <code>git revert HEAD</code> som vil rulle tilbake den siste endringen som ble gjort i prosjektet. Da vil ikke prosjektet ha samme tilstand som den hadde under denne commiten lenger. Du sletter ikke hele commiten, den finnes i tidslinjen enda og det går an å se den under commithistorikken med kommandoen, <code>git log --oneline</code>. Du vil i praksis kun lage en ny commit som gjør om siste commit før du kalte på <code>git revert HEAD</code>. \n",
    "Du kan også angre andre commit ved å legge til ID-en til ønskelig commit i stedet for \"HEAD\". \n",
    "\n",
    "Når du skriver <code>git revert HEAD</code> og deretter enter, vil Git be deg om å gi en commit melding på handlingen, og dette dukker opp i en teksteditor. Du må skrive commit meldingen din og lagre når du får opp vinduet. Hvis du får opp en annen teksteditor og ikke vet hvordan du lagrer tekstfilen som dukker opp i teksteditoren, anbefales at du Googler hvordan du lagrer en fil der.  \n",
    "\n",
    "Dersom du har Vim som teksteditor, vil følgende vindu dukke opp:\n",
    "\n",
    "<img src = 'img/git_revert_head.png' width = 600px>\n",
    "\n",
    "Hvis et slikt vindu dukker opp, trykk på \"esc\" tasten etterfulgt av \":wq\" og enter. Da skal det dukke opp en commit melding i loggen hvor det står  \"Revert \"commit melding\"\" der \"commit melding\" er meldingen til commiten du angret på med <code>git revert</code>. I bildet under, har det blitt gjort en \"revert\" på commiten med ID-en, \"63c7dd7\", og det har blitt lagt til en ny commit melding hvor det står \"Revert \"Dårlig commit\"\".   \n",
    "\n",
    "<img src = 'img/revert_with_commit.png' width = 600px>\n",
    "\n",
    "Dersom du i tillegg ønsker å slette dine dårlige commits fra historien, kan du bruke <code>git reset --hard commit_id </code> i stedet der \"commit_id\" er hash-verdien til den siste commiten du ønsker å ha med i din nye tidslinje. Kommandoen sletter alle commits som kom *etter* den commiten du oppgir i kommandoen, mens resten beholdes. Skriver du <code>git log --oneline</code> nå, vil du se den oppdaterte tidslinjen din. \n",
    "\n",
    "Gitt følgende tidslinje over commits:\n",
    "\n",
    "<img src = 'img/eksempel_bad_commit.png' width = 600px>\n",
    "ønsker vi å slette commiten med meldingen, \"Dårlig commit\", altså den med ID, \"855241f\". \n",
    "Skriver vi nå <code>git reset --hard fb4c6a2</code>, vil commit med hash-verdien \"855241f\" bli slettet og HEAD (pekeren) vil peke på commiten med ID-en, \"fb4c6a2\" som vist i loggen under\n",
    "\n",
    "<img src = 'img/etter_reset.png' width = 600px>\n",
    "\n",
    "Denne kommandoen vil fungere dårlig dersom en commit du ønsker å slette allerede er pushet til en remote repo. For det er ikke mulig å pushe en ny \"tidslinje\" hvor du har brukt <code>git reset</code> hvis de slettede commitene ligger ute. Git vil fange opp dette og tro at din tidslinje ligger bak den som ligger ute. I slike tilfeller er det bedre å bruke <code>git revert</code> i stedet fordi denne kommandoen lager en ny tidslinje og vil ikke \"kutte\" en gammel tidslinje som ligger remote. Men du kan trygt bruke reset for å slette *lokale* commits som enda ikke har blitt lagt ute.\n",
    "\n",
    "#### Slette fil som er i working area\n",
    "Du kan bruke `git checkout <filename>` for å slette endringer som har blitt gjort på en fil, der `<filename>` er navnet på filen du ønsker å slette endrigner på. Da må filen være i working area. En alternativ kommando du kan bruke for å gjøre akkurat det samme, er `git restore \"filename\"` der \"filename\" er fila du vil angre endringer på.\n",
    "\n",
    "Dersom du har en staget fil du ikke ønsker å commite likevel men slette endringen til, kan du først bruke `git reset --mixed <filename>` der `<filename>` er navnet på filen, for å flytte filen tilbake til working area (eng:unstage). Deretter kan du bruke enten `git checkout` eller `git restore` for å slette endringen som ble gjort.     \n",
    "\n",
    "Du kan slette *usporede* filer som du har lagt til i prosjektet som fortsatt ligger i working area og som du ikke ønsker å ha med i prosjektet likevel. Disse vil ligge under \"Untracked files\" når du bruker kommandoen `git status`. Du kan slette disse filene med kommandoen `git clean -d -i`. Men før du bruker kommandoen kan det være lurt å se først hvilke filer den da kommer til å slette ved å skrive `git clean –d -n` i stedet. Sistnevnte kommando sletter ikke de usporede filene, men vil i stedet gi deg en liste over de filene som kommer til å bli slettet hvis du bruker kommandoen `git clean -d -i`.   "
   ]
  },
  {
   "cell_type": "markdown",
   "metadata": {
    "deletable": false,
    "editable": false,
    "run_control": {
     "frozen": true
    }
   },
   "source": [
    "## Git diff"
   ]
  },
  {
   "cell_type": "markdown",
   "metadata": {
    "deletable": false,
    "editable": false,
    "run_control": {
     "frozen": true
    }
   },
   "source": [
    "`git diff <filename>` der `<filename>` er navnet på filen du ønsker å inspisere, er en nyttig kommando som kan brukes både under merge conflicts (som kommer til å bli introdusert i en senere seksjon) og før man stager en fil. Du må huske å ha fnutter rundt filnavnet når du bruker kommandoen. \n",
    "Kommandoen printer ut endringer som har blitt gjort på filen du gir som argument på tekstlig format i kommandolinjen. Kommandoen vil vise deg linjer som har blitt slettet og linjer som har blitt lagt til i filen siden siste commit. Linjer som er markert med rødt minustegn er slettede linjer og de som er markert med grønt plusstegn er linjer som er lagt til. Bildet nedenfor viser et eksempel der `git diff` er brukt på en fil som heter 'oving1.py' \n",
    "\n",
    "<img src = 'img/git_diff.png' width = 600px>\n",
    "\n",
    "Alternativt kan du bruke `git difftool <filename>` for å få en annen visualisering av `git diff`. `git difftool` sammenstiller den eldre tilstanden til filen med den nye tilstanden der endringene er lagt til i teksteditoren du har satt som standard for kommandolinjen din. Med dette verktøyet kan du sammenligne linje for linje hva som har blitt slettet eller lagt til i en fil. Et eksempel er vist i bildet under \n",
    "\n",
    "<img src = 'img/git_difftool.png' width = 600px>\n",
    "\n",
    "Bildet over viser et eksempel der filen åpnes i Vim. Dette vil skje automatisk dersom du har Vim som en standard teksteditor. Om du skulle støte på problemer ved å bruke `git difftool` kommandoen, anbefales det at du bruke `git diff` i stedet.\n",
    "\n",
    "**Nevne noe om at endringer kan ses i VS Code?**"
   ]
  },
  {
   "cell_type": "markdown",
   "metadata": {
    "deletable": false,
    "editable": false,
    "run_control": {
     "frozen": true
    }
   },
   "source": [
    "## Ignorere endringer i et prosjekt"
   ]
  },
  {
   "cell_type": "markdown",
   "metadata": {
    "deletable": false,
    "editable": false,
    "run_control": {
     "frozen": true
    }
   },
   "source": [
    "Det er mulig å be Git om å se bort i fra visse filtyper som ikke er viktig å ha med i repoet. Du kan gi en liste over filer du ønsker at Git skal ignorere i noe som kalles for en .gitignore fil. En .gitignore fil, er en tekstfil som gir en liste over hvilke filtyper Git skal se bort i fra dersom de blir lagt til i prosjektet. Ofte, når du programmerer, kan det lages automatiske filer du ikke behøver i repoet ditt. Det går an å legge disse filene i en .gitignore fil for å sørge for at disse ikke blir fanget opp som \"Untracked files\". Eksempel på dette er checkpoint filer som dukker opp når du jobber på en jupyter notebook eller .DS_store som filsystemet til Mac lager. \n",
    "\n",
    "Du lager en .gitignore fil ved å legge til en vanlig tekstfil (på txt format) som du navngir \".gitignore\" i samme mappe som prosjektet ditt ligger i. I denne filen, skriver du filformatet til de type filene de ønsker å ignorere. Dette gjør du ved å enten skrive ut filnavnet (f.eks .DS_Store som er en fil som MacOSX genererer) eller * etterfulgt av endelsen som kommer med filnavnet, ofte på formatet \".fileformat\" der fileformat er formatet på filen du ønsker at Git skal ignorere. Hvis du f.eks. vil ignorere alle filer som slutter på  \".ipynb_checkpoints\" skriver du \"*.ipynb_checkpoints\" i .gitignore.\n",
    "\n",
    "Du må nå sørge for å legge til din nye .gitignore filen i Git repoet ditt med å først stage den med kommandoen `git add .` og commite med `git commit -m \".gitignore fungerer\"`. Nå vil Git sørge for å slutte å fange opp filer som er listet i .gitignore hver gang en slik fil blir lagt til i mappen din gitt at du aldri har staget og deretter commitet slike filer tidligere.\n",
    "\n",
    "Dersom du ønsker å ignorere filer som allerede har blitt commitet tidligere, hjelper det ikke å kun liste opp filen i .gitignore fordi Git vil ikke ignorere filen likevel. Du må slette filen fra repoet først og det er først da .gitignore fil fungere på filen. Du sletter en fil fra Git repoet med kommandoen `git rm --cached <filename>` der `<filename>` er navnet på filen du ønsker at Git skal slutte å spore.  \n",
    "\n",
    "Dersom det er mange filer du har commitet som du ønsker at Git skal ignorere, kan det være mer effektivt å først flytte alle filene som ligger i Git repoet til working area først med kommandoen, \n",
    "`git rm -r --cached` \n",
    "\n",
    "Deretter kan du bruke kommandoen, `git add .` som sørger for å stage filer som ikke er listet i .gitignore.\n",
    "Lag deretter en commit (husk å ha med flagget, -m, etterfulgt av commit-meldingen) og nå vil Git være oppdatert etter .gitignore. Nå vil filer som tidligere har blitt sporet av Git men som nå har blitt lagt til i .gitignore, faktisk bli ignorert neste gang.  "
   ]
  },
  {
   "cell_type": "markdown",
   "metadata": {
    "deletable": false,
    "editable": false,
    "run_control": {
     "frozen": true
    }
   },
   "source": [
    "# Om branching og merge\n",
    "<a id=\"om_branch_og_merge\"></a>"
   ]
  },
  {
   "cell_type": "markdown",
   "metadata": {
    "deletable": false,
    "editable": false,
    "run_control": {
     "frozen": true
    }
   },
   "source": [
    "<h3> Hva er branch og merge?</h3> \n",
    "\n",
    "Vi har nå sett på det mest grunnleggende i Git. Men det finnes enda mer, og nå skal vi se på hvordan vi kan dele opp i flere parallelle branches(grener), som vi kan arbeide på. Vi skal også se på hvordan vi kan slå sammen disse branchene slik at også endringene blir slått sammen ved en *merge*. \n",
    "\n",
    "En *branch* kan du tenke på som en tidslinje over ulike commits som har blitt gjort i prosjektet ditt. Hver commit er laget i ulik tid der hver av dem tilsvarer en versjon av koden. Den nyeste commiten i prosjektet ditt vil altså være den nyeste versjonen av koden din. Når du for første gang lager et Git repo og har tillatt Git å spore filene dine ved å stage innholdet i mappen din og deretter lage din første commit, lages det automatisk en branch for deg som kalles *master*. \n",
    "\n",
    "En branch tilsvarer en tidslinje over alle endringene du har gjort, og du kan ha flere tidslinjer separert fra hverandre ved å lage flere branches fra den branchen du er i som du kan jobbe videre i. Da vil den nye branchen du lager inneholde alle endringer som har blitt gjort i prosjektet hittil før branchen ble opprettet, men nye endringer du gjør fremover vil holde seg isolert fra den opprinnelige branchen du var i, som du kan tenke på som en egen tidslinje og et eget \"arbeidsmiljø\". Når du lager en branch, kan du tenke på denne som en oppsplitting av den første tidslinjen du hadde før du lagde den nye branchen din. Figuren under illustrerer denne metaforen.\n",
    "\n",
    "<img src = 'img/branches.svg' width = 600px>\n",
    "\n",
    "Når du endelig er fornøyd med de nyeste endringene du har lagt til i den nye tidslinjen (i den nye branchen), kan du endelig slå sammen den nye branchen med den opprinnelige ved å flette de sammen (*merge*). Da vil Git forsøke å sette sammen alle commits som har blitt gjort på begge branchene sammen. Når du gjør en merge (slår sammen) to branches, vil Git lage en ny commit i tidslinjen til den branchen du merger *til*. Figuren under illustrerer hva som skjer når du slår sammen to branches som heter master og developer.\n",
    "\n",
    "<img src = 'img/merge.svg' width = 600px>\n",
    "\n",
    "Tidslinjen til developer og master blir gjenforent når du merger developer inn i master. "
   ]
  },
  {
   "cell_type": "markdown",
   "metadata": {
    "deletable": false,
    "editable": false,
    "heading_collapsed": true,
    "run_control": {
     "frozen": true
    }
   },
   "source": [
    "## Oppsummering av video"
   ]
  },
  {
   "cell_type": "markdown",
   "metadata": {
    "deletable": false,
    "editable": false,
    "hidden": true,
    "run_control": {
     "frozen": true
    }
   },
   "source": [
    "- Vi skriver `git branch` for å se hvilke branches vi har, og hvilken branch vi er i.\n",
    "- Master branchen blir laget automatisk, og er den vi er i automatisk.\n",
    "- For å lage en ny branch skriver vi `git branch <branchname>` der du erstatter `<branchname>` med det navnet du ønsker å gi branchen (grenen) din.\n",
    "- Vi bytter branch ved å skrive `git checkout <branchname>` der du erstattet `<branchname>` med navnet på branchen du vil bytte til.\n",
    "- Du sletter en branch med navnet `branchname` ved å skrive kommandoen, `git branch -d <branchname>`.\n",
    "- For å merge to branches (grener), må vi først bytte branch til den vi skal merge med, og skriver så `git merge <branchname>`, hvor `<branchname>` er navnet til branchen vi merger med. \n",
    "- Ofte vil man da først bytte branch til master, også merge med branchen vi har arbeidet på.\n",
    "\n",
    "**Enda en video. Er nok bedre å bare utdype denne oppsummeringen litt (disse videoene er litt tørre)**"
   ]
  },
  {
   "cell_type": "markdown",
   "metadata": {
    "deletable": false,
    "editable": false,
    "run_control": {
     "frozen": true
    }
   },
   "source": [
    "## Oppgaver"
   ]
  },
  {
   "cell_type": "markdown",
   "metadata": {
    "deletable": false,
    "editable": false,
    "run_control": {
     "frozen": true
    },
    "solution2": "hidden",
    "solution2_first": true
   },
   "source": [
    "**Oppgave 1**\n",
    "\n",
    "Naviger til den samme mappa du lagde i \"Introduksjon til bruk av Git\" seksjonen. Lag en ny branch og kall den for `new_branch`."
   ]
  },
  {
   "cell_type": "markdown",
   "metadata": {
    "deletable": false,
    "editable": false,
    "run_control": {
     "frozen": true
    },
    "solution2": "hidden"
   },
   "source": [
    "**Løsningsforslag 1**\n",
    "\n",
    "Naviger til ønsket mappe ved å skrive kommandoen, `cd <filsti>` der du oppgir filstien til mappen du lagde i \"Introduksjon til bruk av Git\".\n",
    "\n",
    "Lag deretter branchen, \"new_branch\" ved å skrive `git branch new_branch` "
   ]
  },
  {
   "cell_type": "markdown",
   "metadata": {
    "deletable": false,
    "editable": false,
    "run_control": {
     "frozen": true
    },
    "solution2": "hidden",
    "solution2_first": true
   },
   "source": [
    "**Oppgave 2**\n",
    "\n",
    "Bytt branch til `new_branch`. "
   ]
  },
  {
   "cell_type": "markdown",
   "metadata": {
    "deletable": false,
    "editable": false,
    "run_control": {
     "frozen": true
    },
    "solution2": "hidden"
   },
   "source": [
    "**Løsningsforslag 2**\n",
    "\n",
    "Du bytter til \"new_branch\" ved å skrive følgende kommando\n",
    "`git checkout new_branch`"
   ]
  },
  {
   "cell_type": "markdown",
   "metadata": {
    "deletable": false,
    "editable": false,
    "run_control": {
     "frozen": true
    },
    "solution2": "hidden",
    "solution2_first": true
   },
   "source": [
    "**Oppgave 3**\n",
    "\n",
    "Gjør noen endringer i to av filene, stage disse filene, og commit endringene mens du står i `new_branch`. Bruk `git log --oneline` for å bekrefte at commiten ble gjort."
   ]
  },
  {
   "cell_type": "markdown",
   "metadata": {
    "deletable": false,
    "editable": false,
    "run_control": {
     "frozen": true
    },
    "solution2": "hidden"
   },
   "source": [
    "**Løsningsforslag 3** \n",
    "\n",
    "Du stager alle filene dine ved å bruke kommandoen\n",
    "`git add --all` \n",
    "og commiter med `git commit -m \"Gjorde noen endringer\"`"
   ]
  },
  {
   "cell_type": "markdown",
   "metadata": {
    "deletable": false,
    "editable": false,
    "run_control": {
     "frozen": true
    },
    "solution2": "hidden",
    "solution2_first": true
   },
   "source": [
    "**Oppgave 4**\n",
    "\n",
    "Bytt nå branch til master, og skriv `git log --oneline` for å bekrefte at commiten vi gjorde i den andre branchen ikke er her. Merge `new_branch` til `master`. Slett så branchen du lagde tidligere. Bruk kommandoen `git branch` for å sjekke om branchen ble slettet. Den bør nå ikke listes opp lenger under aktive grener i kommandolinjen din. "
   ]
  },
  {
   "cell_type": "markdown",
   "metadata": {
    "deletable": false,
    "editable": false,
    "run_control": {
     "frozen": true
    },
    "solution2": "hidden"
   },
   "source": [
    "**Løsningsforslag 4**\n",
    "\n",
    "For å bytte til master skriver du `git checkout master`. \n",
    "Nå merger du \"new_branch\" til master ved å skrive `git merge new_branch`. \n",
    "Slett \"new_branch\" ved å skrive kommandoen, `git branch -d new_branch`."
   ]
  },
  {
   "cell_type": "markdown",
   "metadata": {},
   "source": [
    "# Konflikter i Git"
   ]
  },
  {
   "cell_type": "markdown",
   "metadata": {
    "deletable": false,
    "editable": false,
    "run_control": {
     "frozen": true
    }
   },
   "source": [
    "Noen ganger kan det oppstå problemer når man skal \"merge\" to grener. Dette kalles for en \"merge conflict\" og oppstår fordi linjer i koden i de to grenene er ulike. Konflikten kan også oppstå om det har blitt gjort endringer på en fil i en branch mens filen har blitt slettet i en annen branch som man i ettertid prøver å merge til. Git vil da ikke tillate deg å gjøre en merge før du løser konflikten, som er noe vi skal se mer på i denne videoen.  "
   ]
  },
  {
   "cell_type": "code",
   "execution_count": 10,
   "metadata": {
    "hide_input": true
   },
   "outputs": [
    {
     "data": {
      "text/html": [
       "<iframe width=\"880\" height=\"495\" src=\"https://www.youtube.com/embed/zgkLdVtRPps\" frameborder=\"0\" allow=\"accelerometer; autoplay; encrypted-media; gyroscope; picture-in-picture\" allowfullscreen></iframe>"
      ],
      "text/plain": [
       "<IPython.core.display.HTML object>"
      ]
     },
     "execution_count": 10,
     "metadata": {},
     "output_type": "execute_result"
    }
   ],
   "source": [
    "HTML('<iframe width=\"880\" height=\"495\" src=\"https://www.youtube.com/embed/zgkLdVtRPps\" frameborder=\"0\" allow=\"accelerometer; autoplay; encrypted-media; gyroscope; picture-in-picture\" allowfullscreen></iframe>')"
   ]
  },
  {
   "cell_type": "markdown",
   "metadata": {
    "deletable": false,
    "editable": false,
    "heading_collapsed": true,
    "run_control": {
     "frozen": true
    }
   },
   "source": [
    "## Oppsummering av video"
   ]
  },
  {
   "cell_type": "markdown",
   "metadata": {
    "deletable": false,
    "editable": false,
    "hidden": true,
    "run_control": {
     "frozen": true
    }
   },
   "source": [
    "- Dersom linjer i en kode har ulikt innhold på ulike grener, får vi \"merge conflict\".\n",
    "- Git vil gi en melding der det står  \"CONFLICT (content): Merge conflict in filename\", hvor \"filename\" vil være filnavnet konflikten skjedde i.\n",
    "- Kan også se fra `git status` hvilken fil konflikten var i ved at de står under \"Unmerged paths\"\n",
    "- Vi må selv bestemme hvilken av linjene vi ønsker å beholde.\n",
    "- Må løse konflikten ved å fjerne linjen vi ikke vil ha med, og fjerne linjene hvor det står \"<<< HEAD\", \"======\" og \">>>>>> < branch name>\".\n",
    "- Når dette er fjernet, commiter vi filen, ved å skrive `git commit -m \"<melding på løst konflikt>\"`, og da ser Git på konflikten som løst. Det kan være lurt å skrive i meldingen at denne løser en konflikt."
   ]
  },
  {
   "cell_type": "markdown",
   "metadata": {
    "deletable": false,
    "editable": false,
    "run_control": {
     "frozen": true
    }
   },
   "source": [
    "## Mulige løsninger til \"merge conflicts\""
   ]
  },
  {
   "cell_type": "markdown",
   "metadata": {
    "deletable": false,
    "editable": false,
    "run_control": {
     "frozen": true
    }
   },
   "source": [
    "* Du kan se en logg over commits som har konflikt med hverandre med kommandoen `git log --merge`. Denne kan være grei for å kunne hente ut ID-en til commitene som er i konflikt med hverandre(består av en lang hash). Da kan man velge å rulle tilbake eventuelle dårlige commits. \n",
    "\n",
    "* Du kan evt. bruke `git diff <commit1> <commit2>` der `<commit1>` og `<commit2>` erstattes med hash-verdiene til commitene du ønsker å sammenligne for å se differansen mellom commits som er i konflikt med hverandre.  \n",
    "\n",
    "* Kommandoen `git diff <branch1> <branch2>` der `<branch1>` og `<branch2>` er navnet på branchene som er i konflikt, kan hjelpe deg å se forskjellen mellom to ulike branches. Dette kan du bruke for å se hva som er forskjellen mellom branchene som er i konflikt. \n",
    "\n",
    "* Du kan angre en forsøkt merge med kommandoen `git merge --abort`. \n",
    "\n",
    "* Kommandoen `git status` vil fortelle deg hvilke(n) fil(er) branchene har en konflikt på. Ved å bruke `git status` kan du finne de filene du må inspisere videre ved en merge conflict. "
   ]
  },
  {
   "cell_type": "markdown",
   "metadata": {
    "deletable": false,
    "editable": false,
    "run_control": {
     "frozen": true
    }
   },
   "source": [
    "# Bruke Git i et samarbeid\n",
    "\n",
    "<a id='git_samarbeid'></a>"
   ]
  },
  {
   "cell_type": "markdown",
   "metadata": {
    "deletable": false,
    "editable": false,
    "run_control": {
     "frozen": true
    }
   },
   "source": [
    "## Hva er remote repository?"
   ]
  },
  {
   "cell_type": "markdown",
   "metadata": {
    "deletable": false,
    "editable": false,
    "run_control": {
     "frozen": true
    }
   },
   "source": [
    "Som det ble nevnt under \"Introduksjon til versjonskontroll, Git og installasjon\", er Git et viktig samarbeidsverktøy for deling av kode. Det er her *remote repository* kommer til nytte. Et remote repository er et Git repository, altså et lager for koden du skriver, men i stedet for å ligge lokalt på PC-en din, ligger en remote repository på nettet. En remote repository fungerer som en skylagring for prosjektet ditt, og det finnes flere tjenester som tilbyr servere for prosjektet ditt og som er integrert med Git. To veldig populære eksempler som du mest sannsynlig vil støte på både videre i studiet ditt og i arbeidslivet, er GitHub og GitLab. I denne seksjonen skal vi bruke GitHub som et gjennomgående eksempel. Du kan lage en bruker på GitHub ved å trykke [her](https://github.com/). Hvis du ønsker å være med på å gjennomføre eksemplene gitt i videoen under, må du ha en bruker fra før. \n",
    "\n",
    "Når du lager en remote repository, vil du i praksis publisere et prosjekt på en nettside til den tjenesten du bruker. Bildet under viser GitHub som eksempel der den lokale repositoryen som ble laget i seksjonen, [Introduksjon til versjonskontroll, Git og installasjon](#introduksjon_git), er publisert. \n",
    "\n",
    "<img src = 'img/github_eksempel.png' width = 800px>\n",
    "\n",
    "Merk at når vi lager en remote repo av et prosjekt, vil ikke det nødvendigvis bety at vi *offentliggjør* koden, det er mulig å endre synligheten på prosjektet selv om det ligger ute på nettet. Det vi i praksis gjør, er å lagre koden på en ekstern server. \n",
    " \n",
    "En slik tjeneste fungerer nesten som Google Drive og OneDrive, der du kan skylagre endringene dine. Poenget med å bruke en slik tjeneste er å ha en felles lagringsplass som alle kan ha tilgang til. Flere kan gjøre endringer på det samme prosjektet lokalt på PC-en, publisere disse og hente ut siste versjon av prosjektet som ligger ute på tjenesten. Publisering av en versjon av koden kan du gjøre med `push` kommandoen og uthenting av nyeste versjon som ligger ute på nettet kan du gjøre med `pull` kommandoen. \n",
    "\n",
    "En god arbeidsflyt kan være å jobbe isolert med egen versjon av et prosjekt lokalt på PC-en. Dette kan man gjøre via den lokale kopien av repositoryen på en egen branch. I tillegg vil man holde de endringene av prosjektet som skal være endelige og som er regnet som *ferdige* i hovedbranchen som oftest er master. Dette er branchen som automatisk lages første gang noen lager en git repository som vi har sett på i forrige seksjon. Når man har lagret sin versjon av prosjektet ved å commite på sin gren og ønsker å få inn disse endringene inn i master der de endelige endringene fra de andre medlemmene ligger, kan man merge til master som vi så på i forrige seksjon. \n",
    "\n",
    "Bruk av disse kommandoene kommer til å bli illustrert i videoen under. "
   ]
  },
  {
   "cell_type": "code",
   "execution_count": 5,
   "metadata": {
    "hide_input": true,
    "init_cell": true
   },
   "outputs": [
    {
     "data": {
      "text/html": [
       "<iframe width=\"880\" height=\"495\" src=\"https://www.youtube.com/embed/X19Kvx31pcU\" frameborder=\"0\" allow=\"accelerometer; autoplay; encrypted-media; gyroscope; picture-in-picture\" allowfullscreen></iframe>"
      ],
      "text/plain": [
       "<IPython.core.display.HTML object>"
      ]
     },
     "execution_count": 5,
     "metadata": {},
     "output_type": "execute_result"
    }
   ],
   "source": [
    "HTML('<iframe width=\"880\" height=\"495\" src=\"https://www.youtube.com/embed/X19Kvx31pcU\" frameborder=\"0\" allow=\"accelerometer; autoplay; encrypted-media; gyroscope; picture-in-picture\" allowfullscreen></iframe>')"
   ]
  },
  {
   "cell_type": "markdown",
   "metadata": {
    "deletable": false,
    "editable": false,
    "heading_collapsed": true,
    "run_control": {
     "frozen": true
    }
   },
   "source": [
    "## Oppsummering av video"
   ]
  },
  {
   "cell_type": "markdown",
   "metadata": {
    "deletable": false,
    "editable": false,
    "hidden": true,
    "run_control": {
     "frozen": true
    }
   },
   "source": [
    "* For å koble sammen en remote repository på nettet med et prosjekt som ligger lokalt på pc-en for at man skal kunne publisere og hente endringer fra nettet på prosjektet, skriver man følgende kommando i terminalen:\n",
    "    `git remote add <name of remote repository> <url to remote repository>`\n",
    "    Bare husk å erstatte hva som står i mellom `<>`med det riktige navnet på remote repository og url-en.\n",
    "    Det vanligste er å gi navnet, 'origin' på den remote repositorien. \n",
    "    F.eks:\n",
    "\n",
    "    `git remote add origin github https://github.com/victorah96/git_tutorial.git`\n",
    "\n",
    "\n",
    "* For å publisere endringer som er gjort i et prosjekt lokalt på en PC på en nettjeneste som f.eks GitHub, brukes kommandoen `push`. Du må spesifisere navnet på den remote repoet du vil pushe *til* hvilken lokale branch du vil pushe endringene dine *fra*. Den fulle kommandoen du skriver i terminalen er:\n",
    "\n",
    "    `git push <name of remote repo> <the branch you want to push from>` \n",
    "    Husk også her å erstatte hva som står i `<>`med riktig navn på den remote repositorien (som oftest origin hvis du følger standarden) og navnet på branchen (master hvis du følger den vanlige arbeidsflyten som er anbefalt fra videoen) \n",
    "\n",
    "   Hvis du f.eks vil pushe fra din lokale branch som heter master til den remote branchen som heter origin, skriver du:    \n",
    "    `git push origin master`\n",
    "    \n",
    "* For å slå sammen endringene fra en branch til en annen, bruker du *merge*. Da må du stå i den branchen du vil flette endringene dine til. Bruk `checkout` kommandoen for å bytte branch. Den fulle kommandoen for merge er:\n",
    "    `git merge <branch to merge from>`\n",
    "\n",
    "* For å hente endringer som har blitt gjort på fra den remote repositorien, brukes kommandoen `pull`. Da må du spesifisere hvilken lokale branch du ønsker å hente endringene dine til, og navnet på den remote repositorien du vil hente kode fra. Den fulle kommandoen for å bruke pull er:\n",
    "\n",
    "    `git pull <remote branch> <local branch>`\n",
    "    Husk at du må erstatte hva som står i `<>` med korrekt navn på remote repository og navn på den lokale branchen du vil pulle til. Oftest henter man endringene til master og den remote repositorien heter origin hvis du bruker den standard konvensjonen. Da henter du endringene fra GitHub (evt. andre tjenester du bruker) til master som ligger lokalt på PC-en din ved å skrive: \n",
    "    \n",
    "    `git pull origin master`\n",
    "\n",
    "\n",
    "* Du kan hente en lokal kopi av et prosjekt som ligger på en remote repository på nettet (f.eks på GitHub). Dette kalles å klone et prosjekt. Du kloner et prosjekt med kommandoen, `clone`. Den fulle kommandoen blir:\n",
    "    `git clone <url to remote repository>`. \n",
    "    Hvis du f.eks vil klone prosjektet som ligger i følgende link: https://github.com/victorah96/git_tutorial.git \n",
    "    \n",
    "    skriver du:\n",
    "\n",
    "    `git clone https://github.com/victorah96/git_tutorial.git`\n",
    "\n"
   ]
  },
  {
   "cell_type": "markdown",
   "metadata": {
    "deletable": false,
    "editable": false,
    "run_control": {
     "frozen": true
    }
   },
   "source": [
    "## Oppgaver"
   ]
  },
  {
   "cell_type": "markdown",
   "metadata": {
    "deletable": false,
    "editable": false,
    "run_control": {
     "frozen": true
    },
    "solution2": "hidden",
    "solution2_first": true
   },
   "source": [
    "**Oppgave 1** \n",
    "\n",
    "Hvis du ikke har gjort det enda, lag en bruker på GitHub [her](https://github.com/).\n",
    "\n",
    "Logg inn og lag en remote repo på GitHub. "
   ]
  },
  {
   "cell_type": "markdown",
   "metadata": {
    "deletable": false,
    "editable": false,
    "run_control": {
     "frozen": true
    },
    "solution2": "hidden"
   },
   "source": [
    "**Løsningsforslag 1** \n",
    "\n",
    "Trykk på pluss-tegnet i navigasjonslinjen øverst og deretter på \"New repository\" som vist i bildet under:\n",
    "<img src = 'img/new_repo.png'>\n",
    "\n",
    "Fyll ut feltene som kommer opp. \n",
    "\n",
    "<img src = 'img/new_repo_fields.png' width = 500px>\n",
    "\n",
    "Det viktigste er å gi repoet et navn og velge synlighet. \n",
    "\n",
    "Kopier linken til repoet du nettop lagde ved å trykke på knappen markert i figuren under:\n",
    "<img src = 'img/copy_repo.png'>\n"
   ]
  },
  {
   "cell_type": "markdown",
   "metadata": {
    "deletable": false,
    "editable": false,
    "run_control": {
     "frozen": true
    },
    "solution2": "hidden",
    "solution2_first": true
   },
   "source": [
    "**Oppgave 2** \n",
    "\n",
    "Lag en mappe og lag en tekstfil ved navnet \"filnavn.txt\" som du plasserer i mappen din. Lag en lokal Git repo i mappen din. "
   ]
  },
  {
   "cell_type": "markdown",
   "metadata": {
    "deletable": false,
    "editable": false,
    "run_control": {
     "frozen": true
    },
    "solution2": "hidden"
   },
   "source": [
    "**Løsningsforslag 2** \n",
    "\n",
    "Åpne Terminalen/Powershell og bruk `mkdir` kommandoen til å lage en mappe. Husk å oppgi navn til mappen. Legg til en tekstfil enten ved å bruke Notepad (Windows) eller `touch` kommandoen (dersom du bruker Mac eller Linux) direkte i Terminalen (da skriver du `touch filnavn.txt` der du kan erstatte \"filnavn.txt\" med et annet navn på filen om du vil, men du må ha med .txt endelsen.) \n",
    "\n",
    "Naviger deg til mappen du nettopp lagde i Terminalen med kommandoen, `cd` og lag en Git repo med kommandoen:\n",
    "\n",
    "`git init`\n",
    "\n",
    "Stage og commit tekstfilen din ved å først skrive:\n",
    "\n",
    "`git add .`\n",
    "\n",
    "og deretter `git commit -m <melding>`, der du kan erstatte `<melding>` med den commit-meldingen du ønsker å gi. "
   ]
  },
  {
   "cell_type": "markdown",
   "metadata": {
    "deletable": false,
    "editable": false,
    "run_control": {
     "frozen": true
    },
    "solution2": "hidden",
    "solution2_first": true
   },
   "source": [
    "**Oppgave 3** \n",
    "\n",
    "Publiser innholdet i den lokale repoen du lagde i forrige oppgave, til den remote repoen som du lagde på GitHub. "
   ]
  },
  {
   "cell_type": "markdown",
   "metadata": {
    "deletable": false,
    "editable": false,
    "run_control": {
     "frozen": true
    },
    "solution2": "hidden"
   },
   "source": [
    "**Løsningsforslag 3** \n",
    "\n",
    "Sørg for at du har commitet alle endringene dine først. Sjekk om du har gjort det med `git status` kommandoen. \n",
    "Først må du koble den remote repoen på GitHub med din lokale repo. Dette gjør du med kommandoen \n",
    "`git remote add origin <url>` der du erstattet `<url>` med den linken du kopierte i oppgave 1 (linken til din repo på GitHub). \n",
    "For å publisere innholdet ditt på GitHub, skriver du\n",
    "`git push origin master`"
   ]
  },
  {
   "cell_type": "markdown",
   "metadata": {
    "solution2": "hidden",
    "solution2_first": true
   },
   "source": [
    "**Oppgave 4**\n",
    "\n",
    "*Kommentar: Denne oppgaven krever at du bruker en annen datamaskin enn den du brukte i oppgave 1-3. Det anbefales at dere jobber to stykker med denne oppgaven.*\n",
    "\n",
    "Klon prosjektet du lagde i oppgave 1-3 til en annen datamaskin enn den du brukte i oppgave 1-3. Legg til en ny linje i tekstfilen \"filnavn.txt\" mens du står i master branchen din. Push endringene dine til GitHub. Etter at du har gjort det, åpne Terminalen/Powershell på den datamaskinen du brukte i oppgave 1-3, naviger til riktig mappe (den du lagde i oppgave 1) og hent til slutt endringene fra GitHub til datamaskinen din med `pull` kommandoen. "
   ]
  },
  {
   "cell_type": "markdown",
   "metadata": {
    "deletable": false,
    "editable": false,
    "run_control": {
     "frozen": true
    },
    "solution2": "hidden"
   },
   "source": [
    "**Løsningsforslag 4** \n",
    "\n",
    "Du kloner et prosjekt med følgende kommando:\n",
    "`git clone <url>` der du må oppgi URL-en til prosjektet som ligger på GitHub. \n",
    "For å pulle siste endringene som ligger på GitHub til lokal master, skriver du \n",
    "\n",
    "`git pull origin master`"
   ]
  },
  {
   "cell_type": "markdown",
   "metadata": {},
   "source": [
    "## Forslag på arbeidsflyt ved samarbeid"
   ]
  },
  {
   "cell_type": "markdown",
   "metadata": {
    "deletable": false,
    "editable": false,
    "run_control": {
     "frozen": true
    }
   },
   "source": [
    "Når du begynner å bruke Git i samarbeid, er det viktig å velge en arbeidsflyt som fungerer både for deg og teammedlemmene dine. Du ønsker helst å passe på å slå sammen endringer med få konflikter som mulig når flere jobber på samme prosjekt. Denne seksjonen gir et forslag på en arbeidsflyt som er vanlig å bruke i store prosjekter. Det kan være greit for deg som er ny på Git og ny på å samarbeide på samme kode å ha sett på dette forslaget en gang for alle.  \n",
    "1. Før du begynner arbeidet ditt, sørg for å holde din lokale master oppdatert i forhold til den som ligger ute på nettet. Gå inn i master branchen din hvis du ikke er der allerede, og bruk kommandoen: \n",
    "\n",
    "     `git pull origin master` \n",
    "     \n",
    "     For å hente de siste endringene som ligger ute.  \n",
    "\n",
    " \n",
    "\n",
    "2. Det er svært viktig å jobbe i separate branches etter at man har fordelt arbeidsoppgavene i et prosjekt. Det er meningen at hver branch skal tilsvare en andel i prosjektet som er under arbeid.  Dette er typisk en ny funksjonalitet eller så kan det f.eks være en Python fil som svarer på en øvingsoppgave i ITGK. Poenget er at et arbeid skal gjøres på en egen branch. Sørg for å navngi branchen til noe som beskriver arbeidsoppgaven godt. F.eks 'oving1_itgk'. Å jobbe i branches, sørger for å isolere arbeidsmiljøet til hver bruker. På den måten sørger du for å holde uferdige endringer unna hovedgrenen (master) og passer på å holde en tidslinje som inneholder de endelige versjonene av prosjektet.  \n",
    "\n",
    "3. Commit så ofte som mulig for hver endring du gjør. Prøv å unngå å lage store commits på en gang. Sørg for å gi en beskrivende og passende melding på commiten. F.eks. `git commit –m 'Har lagt til en ny pythonfil for øving 1 i ITGK'`. Du må huske å stage endringene du ønsker å commite før du commiter. Du bruker `git add <file>` der `<file>` er filnavnet du skal stage, til dette. Evt. `git add .` for å ta med alle endringer. Små commits hjelper deg å holde en oversiktlig historie av endringene dine. Dette er viktig hvis du skulle trenge å gå tilbake til gamle commits senere. \n",
    "\n",
    "4. Når du har gjort deg ferdig for dagen og ønsker å ha med de siste endringene dine med i den siste versjonen av prosjektet, må du flette inn endringene dine i master branchen som ligger på nettet. Men det kan være lurt å få noen til å se gjennom endringene før du merger. På GitHub og GitLab kan du sende en forespørsel på at du ønsker å merge en branch til remote master (master branchen som ligger på nettsiden og ikke lokalt på PC-en). På GitHub kalles dette for en 'pull request' og på GitLab kalles det 'merge request'. Begge gjør det samme; spør om tillatelse på en merge. Trykk på drop down menyen under for å se en mer detaljert guide på hvordan du kan lage en pull request på GitHub.\n"
   ]
  },
  {
   "cell_type": "markdown",
   "metadata": {
    "deletable": false,
    "editable": false,
    "heading_collapsed": true,
    "run_control": {
     "frozen": true
    }
   },
   "source": [
    "### Hvordan lage en pull request på GitHub"
   ]
  },
  {
   "cell_type": "markdown",
   "metadata": {
    "deletable": false,
    "editable": false,
    "hidden": true,
    "run_control": {
     "frozen": true
    }
   },
   "source": [
    "Før du kan gjøre en pull request, må du sørge for at du pusher selve branchen du ønsker å merge på GitHub. Bruk kommandoen `git push origin <branch>` til dette og erstatt `<branch>`med navnet på branchen din. \n",
    "\n",
    "For å lage en pull request på GitHub, må du trykke på \"Pull Request\" og deretter \"create a pull request\". Disse knappene er markert på skjermbildet under:\n",
    "\n",
    "<img src = 'img/pull_request.png' width = 600px>\n",
    "\n",
    "Når du har trykket på \"create a pull request\", blir du tatt i en ny side der du må velge den branchen du ønsker å merge fra. Du velger hvilken branch du vil merge fra ved å trykke på drop down menyen som er sirklet i bildet under. Den valgte branchen til høyre, altså basen, er den du forespør å merge til. Oftest bruker man master som base branchen. Deretter må du trykke på 'Create pull request' som er markert i bildet under. På bildet ser du at du får en tilbakemelding fra GitHub om handlingen er trygg. I dette tilfellet er det en trygg handling fordi det står \"Able to merge\". Hadde det oppstått en merge konflikt, så ville det ikke stått \"Able to merge\".  \n",
    "\n",
    "<img src = 'img/make_pull_request.png' width = 600px>\n",
    "\n",
    "Da kan du skrive tittel på forespørselen og en beskrivelse av hva du prøver å merge, hvis du ønsker. På samme side kan du velge hvem som skal vurdere pull requesten din under \"Reviewers\". Et skjermbilde av siden som kommer opp etter at du har trykket på \"Create a pull request\" er vist under.\n",
    "\n",
    "<img src = 'img/open_pull_request.png' width = 600px>\n",
    "\n"
   ]
  }
 ],
 "metadata": {
  "celltoolbar": "Initialization Cell",
  "kernelspec": {
   "display_name": "Python 3.10.7 64-bit",
   "language": "python",
   "name": "python3"
  },
  "language_info": {
   "codemirror_mode": {
    "name": "ipython",
    "version": 3
   },
   "file_extension": ".py",
   "mimetype": "text/x-python",
   "name": "python",
   "nbconvert_exporter": "python",
   "pygments_lexer": "ipython3",
   "version": "3.10.7"
  },
  "toc": {
   "base_numbering": 1,
   "nav_menu": {},
   "number_sections": true,
   "sideBar": true,
   "skip_h1_title": false,
   "title_cell": "Table of Contents",
   "title_sidebar": "Contents",
   "toc_cell": false,
   "toc_position": {
    "height": "calc(100% - 180px)",
    "left": "10px",
    "top": "150px",
    "width": "353.075px"
   },
   "toc_section_display": true,
   "toc_window_display": true
  },
  "vscode": {
   "interpreter": {
    "hash": "b0fa6594d8f4cbf19f97940f81e996739fb7646882a419484c72d19e05852a7e"
   }
  }
 },
 "nbformat": 4,
 "nbformat_minor": 2
}
