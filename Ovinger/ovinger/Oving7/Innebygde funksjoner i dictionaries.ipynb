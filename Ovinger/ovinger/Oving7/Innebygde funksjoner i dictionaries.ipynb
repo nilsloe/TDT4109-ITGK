{
 "cells": [
  {
   "cell_type": "markdown",
   "metadata": {
    "deletable": false,
    "editable": false,
    "run_control": {
     "frozen": true
    }
   },
   "source": [
    "<nav class=\"navbar navbar-default\">\n",
    "  <div class=\"container-fluid\">\n",
    "    <div class=\"navbar-header\">\n",
    "      <a class=\"navbar-brand\" href=\"_Oving7.ipynb\">Øving 7</a>\n",
    "    </div>\n",
    "    <ul class=\"nav navbar-nav\">\n",
    "    <li ><a href=\"Generelt%20om%20dictionary.ipynb\">Generelt om dictionary</a></li>\n",
    "    <li class=\"active\"><a href=\"Innebygde%20funksjoner%20i%20dictionaries.ipynb\">Innebygde funksjoner</a></li>\n",
    "    <li ><a href=\"Generelt%20om%20sets.ipynb\">Generelt om sets</a></li>\n",
    "    <li ><a href=\"Generelt%20om%20filbehandling.ipynb\">Generelt om filbehandling</a></li>\n",
    "    <li ><a href=\"Osteviruset.ipynb\">Osteviruset</a></li>\n",
    "    <li ><a href=\"Bursdagsdatabasen.ipynb\">Bursdagsdatabasen</a></li>\n",
    "    <li ><a href=\"Tallak%20teller%20antall%20tall.ipynb\">Tallak teller antall tall</a></li>\n",
    "    <li ><a href=\"Opptaksgrenser.ipynb\">Opptaksgrenser</a></li>\n",
    "        <li ><a href=\"Soke%20i%20tekst.ipynb\">Søke i tekst</a></li>\n",
    "    <li ><a href=\"Tre%20paa%20rad.ipynb\">Tre på rad</a></li>\n",
    "    </ul>\n",
    "  </div>\n",
    "</nav>\n",
    "\n",
    "# Innebygde funksjoner i dictionaries\n",
    "\n",
    "**Læringsmål:**\n",
    "- Dictionaries\n",
    "- Innebygde funksjoner\n",
    "\n",
    "**Starting Out with Python:**\n",
    "- Kap. 9.1"
   ]
  },
  {
   "cell_type": "markdown",
   "metadata": {
    "deletable": false,
    "editable": false,
    "heading_collapsed": true,
    "run_control": {
     "frozen": true
    }
   },
   "source": [
    "## Info om innebygde innebygde funksjoner\n",
    "\n",
    "Det kan være lurt å lese gjennom dette før du går videre"
   ]
  },
  {
   "cell_type": "markdown",
   "metadata": {
    "deletable": false,
    "editable": false,
    "hidden": true,
    "run_control": {
     "frozen": true
    }
   },
   "source": [
    "Akkurat som at det eksisterer mange innebygde funksjoner for lister, eksisterer det også mange innebygde funksjoner for dictionaries. Fra øving 6 husker du kanskje at du ble introdusert for len() som returnerer lengden til en liste, dvs. antall elementer i listen. Denne funksjonen kan også benyttes på dictionaries. Kjør kodeblokken under og se hva som skjer."
   ]
  },
  {
   "cell_type": "code",
   "execution_count": 6,
   "metadata": {
    "hidden": true
   },
   "outputs": [
    {
     "name": "stdout",
     "output_type": "stream",
     "text": [
      "1\n",
      "3\n"
     ]
    }
   ],
   "source": [
    "dictionary = {}\n",
    "dictionary['red'] = 'primærfarge'\n",
    "num_items = len(dictionary) \n",
    "print(num_items)\n",
    "dictionary['blue'] = 'primærfarge'\n",
    "dictionary['green'] = 'sekunærfarge'\n",
    "num_items2 = len(dictionary)\n",
    "print(num_items2)"
   ]
  },
  {
   "cell_type": "markdown",
   "metadata": {
    "deletable": false,
    "editable": false,
    "hidden": true,
    "run_control": {
     "frozen": true
    }
   },
   "source": [
    "Dersom du prøver å få tak i en verdi fra en nøkkel som ikke er lagt inn, vil du få en feilmelding. For å hindre dette kan det være lurt å sjekke om nøkkelen er i dictionaryen."
   ]
  },
  {
   "cell_type": "code",
   "execution_count": 2,
   "metadata": {
    "hidden": true
   },
   "outputs": [
    {
     "ename": "KeyError",
     "evalue": "'yellow'",
     "output_type": "error",
     "traceback": [
      "\u001b[0;31m---------------------------------------------------------------------------\u001b[0m",
      "\u001b[0;31mKeyError\u001b[0m                                  Traceback (most recent call last)",
      "\u001b[0;32m/tmp/ipykernel_116/153187505.py\u001b[0m in \u001b[0;36m<module>\u001b[0;34m\u001b[0m\n\u001b[0;32m----> 1\u001b[0;31m \u001b[0mprint\u001b[0m\u001b[0;34m(\u001b[0m\u001b[0mdictionary\u001b[0m\u001b[0;34m[\u001b[0m\u001b[0;34m'yellow'\u001b[0m\u001b[0;34m]\u001b[0m\u001b[0;34m)\u001b[0m\u001b[0;34m\u001b[0m\u001b[0;34m\u001b[0m\u001b[0m\n\u001b[0m",
      "\u001b[0;31mKeyError\u001b[0m: 'yellow'"
     ]
    }
   ],
   "source": [
    "if 'yellow' in dictionary:\n",
    "    print(dictionary['yellow'])"
   ]
  },
  {
   "cell_type": "markdown",
   "metadata": {
    "deletable": false,
    "editable": false,
    "hidden": true,
    "run_control": {
     "frozen": true
    }
   },
   "source": [
    "Som du ser skjer det ingenting når man kjører koden over. Dette er fordi 'yellow' ikke finnes i dictionaryen. Hvis du vil kan du prøve å fjerne if-setningen og se hva som da skjer.\n",
    "\n",
    "Man kan også fjerne elementer ganske greit i en dictionary, ved bruk av del og pop() som under:"
   ]
  },
  {
   "cell_type": "markdown",
   "metadata": {
    "deletable": false,
    "editable": false,
    "hidden": true,
    "run_control": {
     "frozen": true
    }
   },
   "source": [
    "'Entry not found' er her en default-verdi som blir returnert dersom nøkkelen 'blue' ikke finnes i dictionaryen. Hvis du kjører kodeblokken over to ganger vil du se at 'Entry not found' blir printet den andre gangen. \n",
    "\n",
    "Dersom det er ønskelig å tømme hele dictionaryen kan en bruke `dictionary.clear()`."
   ]
  },
  {
   "cell_type": "markdown",
   "metadata": {
    "deletable": false,
    "editable": false,
    "hidden": true,
    "run_control": {
     "frozen": true
    }
   },
   "source": [
    "Ettersom en dictionary består av elementer som inneholder både en nøkkel og en verdi, er det litt mer avansert å iterere gjennom en dictionary enn en liste.\n",
    "\n",
    "La oss tenke oss at vi har følgende dictionary:"
   ]
  },
  {
   "cell_type": "code",
   "execution_count": 8,
   "metadata": {
    "hidden": true
   },
   "outputs": [],
   "source": [
    "my_family={'bror': 'Martin', 'søster': 'Helene', 'mor': 'Anne', 'far': 'Bob Bernt', 'hund': 'Lovise'}"
   ]
  },
  {
   "cell_type": "markdown",
   "metadata": {
    "deletable": false,
    "editable": false,
    "hidden": true,
    "run_control": {
     "frozen": true
    }
   },
   "source": [
    "Dersom du ønsker å iterere gjennom alle nøklene i dictionaryen, dvs. 'bror', 'søster', 'mor', 'far' og 'hund' kan du skrive for-løkken som under. **Kjør bare koden under dersom du har kjørt koden over først.**"
   ]
  },
  {
   "cell_type": "code",
   "execution_count": 9,
   "metadata": {
    "hidden": true
   },
   "outputs": [
    {
     "name": "stdout",
     "output_type": "stream",
     "text": [
      "bror\n",
      "søster\n",
      "mor\n",
      "far\n",
      "hund\n"
     ]
    }
   ],
   "source": [
    "for key in my_family:\n",
    "    print(key)"
   ]
  },
  {
   "cell_type": "markdown",
   "metadata": {
    "deletable": false,
    "editable": false,
    "hidden": true,
    "run_control": {
     "frozen": true
    }
   },
   "source": [
    "Dersom du ønsker å skrive ut alle nøklene samt navnene til familiemedlemmene kan du skrive:"
   ]
  },
  {
   "cell_type": "code",
   "execution_count": 10,
   "metadata": {
    "hidden": true
   },
   "outputs": [
    {
     "name": "stdout",
     "output_type": "stream",
     "text": [
      "bror Martin\n",
      "søster Helene\n",
      "mor Anne\n",
      "far Bob Bernt\n",
      "hund Lovise\n"
     ]
    }
   ],
   "source": [
    "for key in my_family:\n",
    "    print(key, my_family[key])"
   ]
  },
  {
   "cell_type": "markdown",
   "metadata": {
    "deletable": false,
    "editable": false,
    "hidden": true,
    "run_control": {
     "frozen": true
    }
   },
   "source": [
    "En annen måte å få denne utskriften på, altså en iterering som itererer gjennom både verdier og nøkler samtidig, er ved å bruke følgende format:"
   ]
  },
  {
   "cell_type": "code",
   "execution_count": 13,
   "metadata": {
    "hidden": true
   },
   "outputs": [
    {
     "name": "stdout",
     "output_type": "stream",
     "text": [
      "bror Martin\n",
      "søster Helene\n",
      "mor Anne\n",
      "far Bob Bernt\n",
      "hund Lovise\n"
     ]
    }
   ],
   "source": [
    "for key, value in my_family.items():\n",
    "    print(key, value)"
   ]
  },
  {
   "cell_type": "markdown",
   "metadata": {
    "deletable": false,
    "editable": false,
    "hidden": true,
    "run_control": {
     "frozen": true
    }
   },
   "source": [
    "`items()` returnerer alle nøklene i en dictionary samt deres tilhørende verdier.\n",
    "\n",
    "Dersom det hadde vært ønskelig å kun printe ut verdiene, dvs. navnene, kunne man benyttet seg av `values()`:"
   ]
  },
  {
   "cell_type": "code",
   "execution_count": 14,
   "metadata": {
    "hidden": true
   },
   "outputs": [
    {
     "name": "stdout",
     "output_type": "stream",
     "text": [
      "Martin\n",
      "Helene\n",
      "Anne\n",
      "Bob Bernt\n",
      "Lovise\n"
     ]
    }
   ],
   "source": [
    "for val in my_family.values():\n",
    "    print(val)"
   ]
  },
  {
   "cell_type": "markdown",
   "metadata": {
    "deletable": false,
    "editable": false,
    "run_control": {
     "frozen": true
    }
   },
   "source": [
    "## a)"
   ]
  },
  {
   "cell_type": "markdown",
   "metadata": {
    "deletable": false,
    "editable": false,
    "run_control": {
     "frozen": true
    }
   },
   "source": [
    "Gitt følgende dictionary:\n",
    "\n",
    "```python\n",
    "scores = {'Amanda': [88, 92, 100], 'Kennet': [30, 45, 50], 'Einstein': [100,100,100]}\n",
    "```\n",
    "\n",
    "1. hva skrives ut dersom vi skriver `print(scores['Amanda'])`\n",
    "2. hva skrives ut dersom vi skriver `print(scores['Amanda'][2])`"
   ]
  },
  {
   "cell_type": "markdown",
   "metadata": {},
   "source": [
    "**Ditt svar:** \n",
    "\n",
    "print(scores['Amanda']) => [89,92,100] //En liste\n",
    "print(scores['Amanda']) => 100 //Et heltall"
   ]
  },
  {
   "cell_type": "markdown",
   "metadata": {
    "deletable": false,
    "editable": false,
    "run_control": {
     "frozen": true
    }
   },
   "source": [
    "## b)"
   ]
  },
  {
   "cell_type": "markdown",
   "metadata": {
    "deletable": false,
    "editable": false,
    "run_control": {
     "frozen": true
    }
   },
   "source": [
    "Opprett en tom dictionary som kalles fruit, for så å legge til tre frukter du liker som nøkler, og antall frukt av denne typen du pleier å spise hver dag som verdi.\n",
    "\n",
    "**Eksempel**\n",
    "```python\n",
    "fruit = {'epler': 2, 'pærer': 3, 'appelsiner': 1}\n",
    "```\n",
    "\n",
    "***Skriv koden i kodeblokken under***"
   ]
  },
  {
   "cell_type": "code",
   "execution_count": 16,
   "metadata": {},
   "outputs": [],
   "source": [
    "fruit = {'epler': 2, 'pærer': 3, 'appelsiner': 1}"
   ]
  },
  {
   "cell_type": "markdown",
   "metadata": {
    "deletable": false,
    "editable": false,
    "run_control": {
     "frozen": true
    }
   },
   "source": [
    "## c)"
   ]
  },
  {
   "cell_type": "markdown",
   "metadata": {
    "deletable": false,
    "editable": false,
    "run_control": {
     "frozen": true
    }
   },
   "source": [
    "Legg til to frukter som du misliker og fjern de tre fruktene du liker. Benytt deg av de innebygde funksjonene `del()` og `dict[key]=value`.\n",
    "\n",
    "***Skriv koden i kodeblokken under***"
   ]
  },
  {
   "cell_type": "code",
   "execution_count": 22,
   "metadata": {},
   "outputs": [],
   "source": [
    "fruit.clear()\n",
    "\n",
    "fruit['dragonfruit']=0\n",
    "fruit['grapefruit']=0"
   ]
  },
  {
   "cell_type": "markdown",
   "metadata": {
    "deletable": false,
    "editable": false,
    "run_control": {
     "frozen": true
    }
   },
   "source": [
    "## d)"
   ]
  },
  {
   "cell_type": "markdown",
   "metadata": {
    "deletable": false,
    "editable": false,
    "run_control": {
     "frozen": true
    }
   },
   "source": [
    "Skriv ut begge verdiene (antall frukt du spiser hver dag som du misliker) i dictionaryen.\n",
    "\n",
    "***Skriv koden i kodeblokken under***"
   ]
  },
  {
   "cell_type": "code",
   "execution_count": 23,
   "metadata": {},
   "outputs": [
    {
     "name": "stdout",
     "output_type": "stream",
     "text": [
      "0\n",
      "0\n"
     ]
    }
   ],
   "source": [
    "for i in fruit.values():\n",
    "    print(i)"
   ]
  },
  {
   "cell_type": "markdown",
   "metadata": {
    "deletable": false,
    "editable": false,
    "run_control": {
     "frozen": true
    }
   },
   "source": [
    "Eksempel på kjøring dersom `fruit = {'bananer': 0, 'druer': 1}`:\n",
    "```\n",
    "0\n",
    "1\n",
    "```"
   ]
  },
  {
   "cell_type": "markdown",
   "metadata": {
    "deletable": false,
    "editable": false,
    "run_control": {
     "frozen": true
    }
   },
   "source": [
    "## e)"
   ]
  },
  {
   "cell_type": "markdown",
   "metadata": {
    "deletable": false,
    "editable": false,
    "run_control": {
     "frozen": true
    }
   },
   "source": [
    "Sjekk om 'bananer' er i dictionaryen, og fjern 'bananer' fra dictionaryen dersom den er oppført.\n",
    "\n",
    "***Skriv koden din på angitt plass i kodeblokken under***"
   ]
  },
  {
   "cell_type": "code",
   "execution_count": 27,
   "metadata": {},
   "outputs": [
    {
     "name": "stdout",
     "output_type": "stream",
     "text": [
      "{'bananer': 0, 'druer': 1}\n",
      "{'druer': 1}\n"
     ]
    }
   ],
   "source": [
    "fruit = {'bananer': 0, 'druer': 1}\n",
    "print(fruit)\n",
    "\n",
    "if 'bananer' in fruit:\n",
    "    fruit.pop('bananer')\n",
    "\n",
    "#DIN KODE HER\n",
    "print(fruit)"
   ]
  },
  {
   "cell_type": "markdown",
   "metadata": {
    "deletable": false,
    "editable": false,
    "run_control": {
     "frozen": true
    }
   },
   "source": [
    "Hvis du har gjort alt riktig skal output fra koden over være:\n",
    "```\n",
    "{'bananer': 0, 'druer': 1}\n",
    "{'druer': 1}\n",
    "```"
   ]
  },
  {
   "cell_type": "markdown",
   "metadata": {
    "deletable": false,
    "editable": false,
    "run_control": {
     "frozen": true
    }
   },
   "source": [
    "## f)"
   ]
  },
  {
   "cell_type": "markdown",
   "metadata": {
    "deletable": false,
    "editable": false,
    "run_control": {
     "frozen": true
    }
   },
   "source": [
    "Legg til et par bær som du liker i dictionaryen og skriv ut både verdiene og nøklene i dictionaryen på et greit format.\n",
    "\n",
    "***Skriv koden din i kodeblokken under***"
   ]
  },
  {
   "cell_type": "code",
   "execution_count": 30,
   "metadata": {},
   "outputs": [
    {
     "name": "stdout",
     "output_type": "stream",
     "text": [
      "druer: 1\n",
      "jordbær: 10\n",
      "blåbær: 50\n"
     ]
    }
   ],
   "source": [
    "fruit['jordbær'] = 10\n",
    "fruit['blåbær'] = 50\n",
    "\n",
    "for key, val in fruit.items():\n",
    "    print(f\"{key}: {val}\")"
   ]
  },
  {
   "cell_type": "markdown",
   "metadata": {
    "deletable": false,
    "editable": false,
    "run_control": {
     "frozen": true
    }
   },
   "source": [
    "**Eksempel på utskrift:**\n",
    "```\n",
    "epler 2\n",
    "pærer 0\n",
    "jordbær 10\n",
    "blåbær 50\n",
    "```"
   ]
  },
  {
   "cell_type": "markdown",
   "metadata": {
    "deletable": false,
    "editable": false,
    "heading_collapsed": true,
    "run_control": {
     "frozen": true
    }
   },
   "source": [
    "#### Hint"
   ]
  },
  {
   "cell_type": "markdown",
   "metadata": {
    "deletable": false,
    "editable": false,
    "hidden": true,
    "run_control": {
     "frozen": true
    }
   },
   "source": [
    "Benytt deg av for key, value in fruit.items()."
   ]
  }
 ],
 "metadata": {
  "kernelspec": {
   "display_name": "Python 3 (ipykernel)",
   "language": "python",
   "name": "python3"
  },
  "language_info": {
   "codemirror_mode": {
    "name": "ipython",
    "version": 3
   },
   "file_extension": ".py",
   "mimetype": "text/x-python",
   "name": "python",
   "nbconvert_exporter": "python",
   "pygments_lexer": "ipython3",
   "version": "3.9.7"
  },
  "toc": {
   "base_numbering": 1,
   "nav_menu": {},
   "number_sections": false,
   "sideBar": true,
   "skip_h1_title": false,
   "title_cell": "Table of Contents",
   "title_sidebar": "Contents",
   "toc_cell": false,
   "toc_position": {},
   "toc_section_display": true,
   "toc_window_display": false
  }
 },
 "nbformat": 4,
 "nbformat_minor": 4
}
