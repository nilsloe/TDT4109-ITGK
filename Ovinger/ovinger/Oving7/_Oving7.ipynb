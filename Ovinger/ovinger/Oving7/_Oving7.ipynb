{
 "cells": [
  {
   "cell_type": "markdown",
   "metadata": {
    "deletable": false,
    "editable": false,
    "run_control": {
     "frozen": true
    }
   },
   "source": [
    "# Øving 7\n",
    "\n",
    "**Læringsmål:**\n",
    "\n",
    "- Dictionary\n",
    "- Sets\n",
    "- Lese fra fil\n",
    "- Skrive til fil\n",
    "- Lister\n",
    "\n",
    "**Starting Out with Python:**\n",
    "- Kap. 6: Files and Exceptions\n",
    "- Kap. 9: Dictionaries and Sets\n",
    "\n",
    "**Teori:**\n",
    "\n",
    "*Merk: Kun deler av kapitlene er pensum*\n",
    "\n",
    "- 25: TCP - Reliable Transport Service\n",
    "- 27: Network Performance (QoS And DiffServ)\n",
    "- 29: Network Security (361 - 384)\n",
    "- 32: The Internet Of Things\n",
    "\n",
    "## Godkjenning:\n",
    "\n",
    "For å få godkjent øvingen må du gjøre ***4*** av ***10*** oppgaver.\n",
    "\n",
    "Oppgaver som er litt ekstra vanskelig er markert med en stjerne.\n",
    "    \n",
    "Alle oppgavene skal demonstreres til en læringsassistent på sal. I oppgaver der du skriver programkode skal også denne vises fram. Lykke til!\n",
    "\n",
    "Oppgave|Tema|Vanskelighetsgrad\n",
    "---|---|---\n",
    "[Generelt om dictionary](Generelt%20om%20dictionary.ipynb)|Dictionaries|\n",
    "[Innebygde funksjoner](Innebygde%20funksjoner%20i%20dictionaries.ipynb)|Dictionaries|\n",
    "[Generelt om sets](Generelt%20om%20sets.ipynb)|Sets|\n",
    "[Generelt om filbehandling](Generelt%20om%20filbehandling.ipynb)|Filhåndtering|\n",
    "[Osteviruset](Osteviruset.ipynb)|Dictionaries|\n",
    "[Bursdagsdatabasen](Bursdagsdatabasen.ipynb)|Dictionaries, Exceptions|\n",
    "[Tallak teller antall tall](Tallak%20teller%20antall%20tall.ipynb)|Filhåndtering, Dictionaries\n",
    "[Opptaksgrenser](Opptaksgrenser.ipynb)|Filhåndtering, Dictionaries|![img](../../../Resources/Images/star_yellow.svg)\n",
    "[Søke i tekst](Soke%20i%20tekst.ipynb)|Filhåndtering, Dictionaries|![img](../../../Resources/Images/star_yellow.svg)\n",
    "[Tre på rad](Tre%20paa%20rad.ipynb)|Repetisjon: Spill|![img](../../../Resources/Images/star_yellow.svg)"
   ]
  }
 ],
 "metadata": {
  "kernelspec": {
   "display_name": "Python 3.9.13 ('base')",
   "language": "python",
   "name": "python3"
  },
  "language_info": {
   "codemirror_mode": {
    "name": "ipython",
    "version": 3
   },
   "file_extension": ".py",
   "mimetype": "text/x-python",
   "name": "python",
   "nbconvert_exporter": "python",
   "pygments_lexer": "ipython3",
   "version": "3.9.13"
  },
  "toc": {
   "base_numbering": 1,
   "nav_menu": {},
   "number_sections": false,
   "sideBar": true,
   "skip_h1_title": false,
   "title_cell": "Table of Contents",
   "title_sidebar": "Contents",
   "toc_cell": false,
   "toc_position": {},
   "toc_section_display": true,
   "toc_window_display": false
  },
  "vscode": {
   "interpreter": {
    "hash": "f05a986ba9b7ef90082f46a82802a347e8bf98d05eda311516ee131e0e17234d"
   }
  }
 },
 "nbformat": 4,
 "nbformat_minor": 4
}
