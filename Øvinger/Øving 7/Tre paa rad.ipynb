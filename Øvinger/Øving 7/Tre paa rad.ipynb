{
 "cells": [
  {
   "cell_type": "markdown",
   "metadata": {
    "deletable": false,
    "editable": false,
    "run_control": {
     "frozen": true
    }
   },
   "source": [
    "<nav class=\"navbar navbar-default\">\n",
    "  <div class=\"container-fluid\">\n",
    "    <div class=\"navbar-header\">\n",
    "      <a class=\"navbar-brand\" href=\"_Oving7.ipynb\">Øving 7</a>\n",
    "    </div>\n",
    "    <ul class=\"nav navbar-nav\">\n",
    "    <li ><a href=\"Generelt%20om%20dictionary.ipynb\">Generelt om dictionary</a></li>\n",
    "    <li ><a href=\"Innebygde%20funksjoner%20i%20dictionaries.ipynb\">Innebygde funksjoner</a></li>\n",
    "    <li ><a href=\"Generelt%20om%20sets.ipynb\">Generelt om sets</a></li>\n",
    "    <li ><a href=\"Generelt%20om%20filbehandling.ipynb\">Generelt om filbehandling</a></li>\n",
    "    <li ><a href=\"Osteviruset.ipynb\">Osteviruset</a></li>\n",
    "    <li ><a href=\"Bursdagsdatabasen.ipynb\">Bursdagsdatabasen</a></li>\n",
    "    <li ><a href=\"Tallak%20teller%20antall%20tall.ipynb\">Tallak teller antall tall</a></li>\n",
    "    <li ><a href=\"Opptaksgrenser.ipynb\">Opptaksgrenser</a></li>\n",
    "        <li ><a href=\"Soke%20i%20tekst.ipynb\">Søke i tekst</a></li>\n",
    "    <li class=\"active\"><a href=\"Tre%20paa%20rad.ipynb\">Tre på rad</a></li>\n",
    "    </ul>\n",
    "  </div>\n",
    "</nav>\n",
    "\n",
    "# Tre på rad\n",
    "\n",
    "**Læringsmål:**\n",
    "\n",
    "* Lister\n",
    "* Funksjoner \n",
    "* Betingelser\n",
    "* Strenger\n",
    " \n",
    "I denne oppgaven skal du implementere det populære spillet 3 på rad. Spillet er for to spillere; x og o, som plasserer brikker . En spiller vinner om den klarer å få 3 på rad, enten horisontalt, vertikalt eller diagonalt.\n",
    "\n",
    "\n",
    "**a)** Lag en funksjon som skriver ut brettet, det kan f.eks. se slikt ut om du vil:\n",
    "\n",
    "```python\n",
    "    1   2   3\n",
    "  -------------\n",
    "1 |   |   |   |\n",
    "  -------------\n",
    "2 |   |   |   |\n",
    "  -------------\n",
    "3 |   |   |   |\n",
    "  -------------\n",
    "    ```"
   ]
  },
  {
   "cell_type": "code",
   "execution_count": 2,
   "metadata": {},
   "outputs": [
    {
     "name": "stdout",
     "output_type": "stream",
     "text": [
      "1|2|3\n",
      "4|5|6\n",
      "7|8|9\n"
     ]
    }
   ],
   "source": [
    "def vis_brett(streng):\n",
    "    \n",
    "    #Gjør om streng til 2D-liste\n",
    "    \n",
    "    board=[]\n",
    "    for i in range(3):\n",
    "        row=[]\n",
    "        for j in range(3):\n",
    "            row.append(streng[i*3+j])\n",
    "        board.append(row)\n",
    "    \n",
    "    for elem in board:\n",
    "        print(\"|\".join(elem))\n",
    "        \n",
    "    return board\n",
    "        \n",
    "\n",
    "text=\"123456789\"\n",
    "board=vis_brett(text)"
   ]
  },
  {
   "cell_type": "markdown",
   "metadata": {
    "deletable": false,
    "editable": false,
    "run_control": {
     "frozen": true
    }
   },
   "source": [
    "**b)** Lag en funksjon som sjekker om en spiller har vunnet"
   ]
  },
  {
   "cell_type": "code",
   "execution_count": 3,
   "metadata": {},
   "outputs": [
    {
     "name": "stdout",
     "output_type": "stream",
     "text": [
      "False\n"
     ]
    }
   ],
   "source": [
    "def sjekk_vunnet(board):\n",
    "    #Sjekker horisontalt\n",
    "    \n",
    "    for elem in board:\n",
    "        if len(set(elem))==1:\n",
    "            return True\n",
    "    \n",
    "    #Sjekker vertikalt\n",
    "    for i in range(len(board[0])):\n",
    "        set1=set()\n",
    "        for j in range(len(board)):\n",
    "            set1.add(board[j][i])\n",
    "        if len(set1)==1:\n",
    "            return True\n",
    "    \n",
    "    #Sjekker på linje 45 grader\n",
    "    set1=set()\n",
    "    set2=set()\n",
    "    for i in range(len(board)):\n",
    "        for j in range(len(board[i])):\n",
    "            if i==j:\n",
    "                set1.add(board[i][j])\n",
    "            elif i+j==2:\n",
    "                set2.add(board[i][j])\n",
    "    if len(set1)==1 or len(set2)==1:\n",
    "        return True\n",
    "                \n",
    "    \n",
    "    return False\n",
    "    \n",
    "print(sjekk_vunnet(board))\n",
    "\n",
    "set2=set()\n",
    "set2.add(\" \")"
   ]
  },
  {
   "cell_type": "markdown",
   "metadata": {
    "deletable": false,
    "editable": false,
    "run_control": {
     "frozen": true
    }
   },
   "source": [
    "**c)** Lag en funksjon som tar inn navnene til de to brukerne."
   ]
  },
  {
   "cell_type": "code",
   "execution_count": 4,
   "metadata": {},
   "outputs": [],
   "source": [
    "def navn_spillere():\n",
    "    navn_1=input(\"Hva heter spiller nummer 1? \")\n",
    "    navn_2=input(\"Hva heter spiller nummer 2? \")\n",
    "    return [navn_1, navn_2]"
   ]
  },
  {
   "cell_type": "markdown",
   "metadata": {
    "deletable": false,
    "editable": false,
    "run_control": {
     "frozen": true
    }
   },
   "source": [
    "**d)** Lag en funksjon som sjekker om et trekk er lovlig, altså at det ikke finnes andre brikker der."
   ]
  },
  {
   "cell_type": "code",
   "execution_count": 5,
   "metadata": {},
   "outputs": [],
   "source": [
    "def sjekk_trekk(board, lst):\n",
    "    if board[lst[1]][lst[0]]==\"x\" or board[lst[1]][lst[0]]==\"o\":\n",
    "        return False\n",
    "    else:\n",
    "        return True"
   ]
  },
  {
   "cell_type": "markdown",
   "metadata": {
    "deletable": false,
    "editable": false,
    "run_control": {
     "frozen": true
    }
   },
   "source": [
    "**e)** Lag en funksjon som sjekker at input fra brukeren er riktig, altså at man ikke skriver inn rare tegn, eller skriver inn koordinater utenfor spillebrettet."
   ]
  },
  {
   "cell_type": "code",
   "execution_count": 6,
   "metadata": {},
   "outputs": [],
   "source": [
    "def gyldig_input():\n",
    "    x_pos=input(\"Hva er x pos fra 0-2\")\n",
    "    y_pos=input(\"Hva er y pos fra 0-2\")\n",
    "    \n",
    "    if (str.isdigit(x_pos) and str.isdigit(y_pos)):\n",
    "        if len(x_pos)>1 or len(y_pos)>1:\n",
    "            print(\"Tall kan bare være digit lang\")\n",
    "            return False\n",
    "        else:\n",
    "            lst=[int(x_pos), int(y_pos)]\n",
    "            if lst[0]>2 or lst[1]>2:\n",
    "                print(\"Tallet må være mellom fra 0 til og med 2\")\n",
    "                return False\n",
    "            else:\n",
    "                return lst\n",
    "    else:\n",
    "        print(\"Må være et tall\")\n",
    "        return False"
   ]
  },
  {
   "cell_type": "markdown",
   "metadata": {
    "deletable": false,
    "editable": false,
    "run_control": {
     "frozen": true
    }
   },
   "source": [
    "**f)** Sett dette sammen til et fullverdig 3 på rad spill!"
   ]
  },
  {
   "cell_type": "code",
   "execution_count": null,
   "metadata": {},
   "outputs": [
    {
     "name": "stdin",
     "output_type": "stream",
     "text": [
      "Hva heter spiller nummer 1?  Nils\n",
      "Hva heter spiller nummer 2?  Erik\n"
     ]
    },
    {
     "name": "stdout",
     "output_type": "stream",
     "text": [
      "\n",
      "Nils sin tur.\n",
      "1|2|3\n",
      "4|5|6\n",
      "7|8|9\n"
     ]
    },
    {
     "name": "stdin",
     "output_type": "stream",
     "text": [
      "Hva er x pos fra 0-2 0\n",
      "Hva er y pos fra 0-2 3\n"
     ]
    },
    {
     "name": "stdout",
     "output_type": "stream",
     "text": [
      "Tallet må være mellom fra 0 til og med 2\n"
     ]
    },
    {
     "name": "stdin",
     "output_type": "stream",
     "text": [
      "Hva er x pos fra 0-2 0\n",
      "Hva er y pos fra 0-2 -1\n"
     ]
    },
    {
     "name": "stdout",
     "output_type": "stream",
     "text": [
      "Må være et tall\n"
     ]
    },
    {
     "name": "stdin",
     "output_type": "stream",
     "text": [
      "Hva er x pos fra 0-2 1\n",
      "Hva er y pos fra 0-2 1\n"
     ]
    },
    {
     "name": "stdout",
     "output_type": "stream",
     "text": [
      "1|2|3\n",
      "4|x|6\n",
      "7|8|9\n",
      "\n",
      "Erik sin tur.\n",
      "1|2|3\n",
      "4|x|6\n",
      "7|8|9\n"
     ]
    },
    {
     "name": "stdin",
     "output_type": "stream",
     "text": [
      "Hva er x pos fra 0-2 0\n",
      "Hva er y pos fra 0-2 0\n"
     ]
    },
    {
     "name": "stdout",
     "output_type": "stream",
     "text": [
      "o|2|3\n",
      "4|x|6\n",
      "7|8|9\n",
      "\n",
      "Nils sin tur.\n",
      "o|2|3\n",
      "4|x|6\n",
      "7|8|9\n"
     ]
    },
    {
     "name": "stdin",
     "output_type": "stream",
     "text": [
      "Hva er x pos fra 0-2 0\n",
      "Hva er y pos fra 0-2 2\n"
     ]
    },
    {
     "name": "stdout",
     "output_type": "stream",
     "text": [
      "o|2|3\n",
      "4|x|6\n",
      "x|8|9\n",
      "\n",
      "Erik sin tur.\n",
      "o|2|3\n",
      "4|x|6\n",
      "x|8|9\n"
     ]
    }
   ],
   "source": [
    "def main():\n",
    "    navn=navn_spillere()\n",
    "    brett=\"123456789\"\n",
    "    \n",
    "    for i in range(9):\n",
    "        print(\"\")\n",
    "        if i%2==0:\n",
    "            print(f\"{navn[0]} sin tur.\")\n",
    "            brikke=\"x\"\n",
    "        else:\n",
    "            print(f\"{navn[1]} sin tur.\")\n",
    "            brikke=\"o\"\n",
    "        \n",
    "        brett_lst=vis_brett(brett)\n",
    "        \n",
    "        trekk=[]\n",
    "        while True:\n",
    "            input_spiller=gyldig_input()\n",
    "            if not input_spiller:\n",
    "                pass\n",
    "            else:\n",
    "                if sjekk_trekk(brett_lst, input_spiller):\n",
    "                    trekk=input_spiller\n",
    "                    break\n",
    "                 \n",
    "        txt=\"\"\n",
    "        for i, elem in enumerate(brett):\n",
    "            if i==trekk[1]*3+trekk[0]:\n",
    "                txt+=brikke\n",
    "            else:\n",
    "                txt+=elem\n",
    "        brett=txt\n",
    "        \n",
    "        brett_lst=vis_brett(brett)\n",
    "        \n",
    "        if sjekk_vunnet(brett_lst):\n",
    "            if i%2==0:\n",
    "                print(f\"{navn[0]} vant.\")\n",
    "            else:\n",
    "                print(f\"{navn[1]} vant.\")\n",
    "            break\n",
    "    else:\n",
    "        print(\"Det ble likt...\")\n",
    "    \n",
    "main()"
   ]
  },
  {
   "cell_type": "code",
   "execution_count": null,
   "metadata": {},
   "outputs": [],
   "source": []
  }
 ],
 "metadata": {
  "kernelspec": {
   "display_name": "Python 3 (ipykernel)",
   "language": "python",
   "name": "python3"
  },
  "language_info": {
   "codemirror_mode": {
    "name": "ipython",
    "version": 3
   },
   "file_extension": ".py",
   "mimetype": "text/x-python",
   "name": "python",
   "nbconvert_exporter": "python",
   "pygments_lexer": "ipython3",
   "version": "3.9.7"
  },
  "toc": {
   "base_numbering": 1,
   "nav_menu": {},
   "number_sections": false,
   "sideBar": true,
   "skip_h1_title": false,
   "title_cell": "Table of Contents",
   "title_sidebar": "Contents",
   "toc_cell": false,
   "toc_position": {},
   "toc_section_display": true,
   "toc_window_display": false
  }
 },
 "nbformat": 4,
 "nbformat_minor": 4
}
