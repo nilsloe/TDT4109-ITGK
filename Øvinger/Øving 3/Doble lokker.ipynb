{
 "cells": [
  {
   "cell_type": "markdown",
   "metadata": {
    "deletable": false,
    "editable": false,
    "run_control": {
     "frozen": true
    }
   },
   "source": [
    "<nav class=\"navbar navbar-default\">\n",
    "  <div class=\"container-fluid\">\n",
    "    <div class=\"navbar-header\">\n",
    "      <a class=\"navbar-brand\" href=\"_Oving3.ipynb\">Øving 3</a>\n",
    "    </div>\n",
    "    <ul class=\"nav navbar-nav\">\n",
    "      <li ><a href=\"Intro%20til%20lokker.ipynb\">Intro til løkker</a></li>\n",
    "    <li ><a href=\"Mer%20om%20lokker.ipynb\">Mer om løkker</a></li>\n",
    "    <li><a href=\"Nostede%20lokker.ipynb\">Intro til nøstede løkker</a></li>\n",
    "    <li ><a href=\"Kodeforstaelse.ipynb\">Kodeforståelse</a></li>\n",
    "    <li ><a href=\"Gjett%20tallet.ipynb\">Gjett tallet</a></li>\n",
    "       <li ><a href=\"Tekstbasert%20spill%202.ipynb\">Tekstbasert spill 2</a></li>\n",
    "    <li ><a href=\"Geometrisk%20rekke.ipynb\">Geometrisk rekke</a></li>\n",
    "    <li ><a href=\"Fibonacci.ipynb\">Fibonacci</a></li>\n",
    "    <li><a href=\"Alternerende%20sum.ipynb\">Alternerende sum</a></li>\n",
    "    <li ><a href=\"Hangman.ipynb\">Hangman</a></li>\n",
    "    <li class=\"active\"><a href=\"Doble%20lokker.ipynb\">Doble løkker</a></li>\n",
    "    </ul>\n",
    "  </div>\n",
    "</nav>\n",
    "\n",
    "# Doble løkker - til dels vanskelig\n",
    "\n",
    "**Læringsmål:**\n",
    "\n",
    "* Nøstede løkker\n",
    "\n",
    "**Starting Out with Python:**\n",
    "\n",
    "* Kap. 4.7"
   ]
  },
  {
   "cell_type": "markdown",
   "metadata": {
    "deletable": false,
    "editable": false,
    "run_control": {
     "frozen": true
    }
   },
   "source": [
    "a)  Skriv et program som benytter seg av en dobbel for-løkke og skriver ut følgende:\n",
    "\n",
    "```python\n",
    "1\n",
    "1 2\n",
    "1 2 3\n",
    "1 2 3 4\n",
    "1 2 3 4 5\n",
    "```\n",
    "\n",
    "***Skriv koden din her:***"
   ]
  },
  {
   "cell_type": "code",
   "execution_count": 2,
   "metadata": {
    "ExecuteTime": {
     "end_time": "2019-07-03T06:31:27.370599Z",
     "start_time": "2019-07-03T06:31:27.365228Z"
    }
   },
   "outputs": [
    {
     "name": "stdout",
     "output_type": "stream",
     "text": [
      " 1\n",
      " 1 2\n",
      " 1 2 3\n",
      " 1 2 3 4\n",
      " 1 2 3 4 5\n"
     ]
    }
   ],
   "source": [
    "for i in range(1,6):\n",
    "    for j in range(i):\n",
    "        print(f\" {j+1}\", end=\"\")\n",
    "    print(\"\")"
   ]
  },
  {
   "cell_type": "markdown",
   "metadata": {
    "deletable": false,
    "editable": false,
    "run_control": {
     "frozen": true
    }
   },
   "source": [
    "b) Skriv et program som benytter seg av en dobbel for-løkke og skriver ut følgende:\n",
    "\n",
    "```python\n",
    "X X\n",
    "X  X\n",
    "X   X\n",
    "X    X\n",
    "X     X\n",
    "```\n",
    "\n",
    "***Skriv koden din her:***"
   ]
  },
  {
   "cell_type": "code",
   "execution_count": 3,
   "metadata": {
    "ExecuteTime": {
     "end_time": "2019-07-03T06:36:27.852028Z",
     "start_time": "2019-07-03T06:36:27.844946Z"
    }
   },
   "outputs": [
    {
     "name": "stdout",
     "output_type": "stream",
     "text": [
      "xx\n",
      "\n",
      "x x\n",
      "\n",
      "x  x\n",
      "\n",
      "x   x\n",
      "\n",
      "x    x\n",
      "\n"
     ]
    }
   ],
   "source": [
    "for i in range(5):\n",
    "    print(\"x\", end=\"\")\n",
    "    for j in range(i):\n",
    "        print(\" \", end=\"\")\n",
    "    print(\"x\")\n",
    "    print(\"\")"
   ]
  },
  {
   "cell_type": "markdown",
   "metadata": {
    "deletable": false,
    "editable": false,
    "run_control": {
     "frozen": true
    }
   },
   "source": [
    "**c)** Skriv et program som lar brukeren gi som input fra tastaturet et positivt heltall. Programmet skal da skrive ut primtallsfaktoriseringen til tallet, eller evt. at det allerede er et primtall. Eksempel på et par kjøringer:\n",
    "```python\n",
    "Skriv inn et positivt heltall: 2\n",
    "2 er et primtall\n",
    ">>>\n",
    "Skriv inn et positivt heltall: 38\n",
    "38 = 2*19\n",
    ">>>\n",
    "Skriv inn et positivt heltall: 1000\n",
    "1000 = 2*2*2*5*5*5\n",
    ">>>\n",
    "Skriv inn et positivt heltall: 73727\n",
    "73727 er et primtall\n",
    ">>>\n",
    "Skriv inn et positivt heltall: 123456789\n",
    "123456789 = 3*3*3607*3803\n",
    ">>>\n",
    "```\n",
    "\n",
    "Dette er et problem som peker i retning av dobbel løkke fordi samme tall kan være faktor flere ganger, som f.eks. i `1000  = 2*2*2*5*5*5`. Den ytre løkka trengs for å prøve ut stadig nye faktorer, den indre for å prøve om igjen samme faktor, i tilfelle den inngår flere ganger i tallet.\n",
    "\n",
    "***Skriv koden din her:***"
   ]
  },
  {
   "cell_type": "code",
   "execution_count": null,
   "metadata": {
    "ExecuteTime": {
     "end_time": "2019-07-03T06:38:34.639856Z",
     "start_time": "2019-07-03T06:38:34.633773Z"
    }
   },
   "outputs": [
    {
     "name": "stdin",
     "output_type": "stream",
     "text": [
      "Skriv inn et positivt heltall:  1000000000000000000000000000000\n"
     ]
    }
   ],
   "source": [
    "while True:\n",
    "    tall=int(input(\"Skriv inn et positivt heltall: \"))\n",
    "    \n",
    "    if(tall<=0):\n",
    "        break\n",
    "    \n",
    "    faktorer=[]\n",
    "    \n",
    "    i=2\n",
    "    while True:\n",
    "        if(tall<i):\n",
    "            break\n",
    "        elif(tall%i==0):\n",
    "            faktorer.append(i)\n",
    "            tall/=i\n",
    "        else:\n",
    "            # if i%2==0:\n",
    "            #     i+=1\n",
    "            # else :\n",
    "            #     i+=2\n",
    "            \n",
    "            i+=1\n",
    "            \n",
    "    print(faktorer)"
   ]
  },
  {
   "cell_type": "markdown",
   "metadata": {
    "deletable": false,
    "editable": false,
    "run_control": {
     "frozen": true
    }
   },
   "source": [
    "**d)** Du skal hjelpe frøken Bernsen med å lage et enkelt program hvor elevene kan øve seg på den lille gangetabellen. Eleven skal stadig møte på nye gangestykker, og får 3 forsøk på hvert spørsmål. Benytt deg av randint(0,9) for å få tilfeldige tall for hvert gangestykke. Programmet skal fortsette frem til eleven gir beskjed om noe annet.\n",
    "\n",
    "Eksempel på kjøring:\n",
    "\n",
    "```python\n",
    "Hva blir 2*0? 0\n",
    "Gratulerer, det er helt riktig!\n",
    "Er det ønskelig med flere spørsmål? Skriv 1 for ja og 0 for nei: 1\n",
    ">>> \n",
    "Hva blir 8*6? 42\n",
    "Dessverre ikke riktig. Du har 2 forsøk igjen.\n",
    "Hva blir 8*6? 48\n",
    "Gratulerer, det er helt riktig!\n",
    "Er det ønskelig med flere spørsmål? Skriv 1 for ja og 0 for nei: 1\n",
    ">>>\n",
    "Hva blir 8*9? 73\n",
    "Dessverre ikke riktig. Du har 2 forsøk igjen.\n",
    "Hva blir 8*9? 74\n",
    "Dessverre ikke riktig. Du har 1 forsøk igjen.\n",
    "Hva blir 8*9? 78\n",
    "Dessverre ikke riktig. Du har 0 forsøk igjen.\n",
    "Dessverre klarte du ikke dette regnestykket, men vent så får du et nytt et:)\n",
    "Er det ønskelig med flere spørsmål? Skriv 1 for ja og 0 for nei: 1\n",
    ">>>\n",
    "Hva blir 9*1? 9\n",
    "Gratulerer, det er helt riktig!\n",
    "Er det ønskelig med flere spørsmål? Skriv 1 for ja og 0 for nei: 0\n",
    ">>>\n",
    "```\n",
    "\n",
    "***Skriv koden din her:***"
   ]
  },
  {
   "cell_type": "code",
   "execution_count": null,
   "metadata": {},
   "outputs": [],
   "source": [
    "import random\n",
    "\n",
    "liv=3\n",
    "riktig_paa_rad=0\n",
    "vanskelighet=0\n",
    "\n",
    "while True:\n",
    "    \n",
    "    lim=5+vanskelighet*5\n",
    "    \n",
    "    faktor1=random.randint(0,lim)\n",
    "    faktor2=random.randint(0,lim)\n",
    "    fasit=faktor1*faktor2\n",
    "    \n",
    "    i=0\n",
    "    while i<liv:\n",
    "        svar_bruker=int(input(f\"Hva blir {faktor1}*{faktor2}? \"))\n",
    "        \n",
    "        if (svar_bruker==fasit):\n",
    "            print(\"Gratulerer, det er helt riktig\")\n",
    "            riktig_paa_rad+=1\n",
    "            if(riktig_paa_rad%5==0 and riktig_paa_rad!=1):\n",
    "                vanskelighet+=1\n",
    "                riktig_paa_rad=0\n",
    "            break\n",
    "        else:\n",
    "            i+=1\n",
    "            print(f\"Desverre ikke riktig. Du har {liv-i} forsøk igjen\")\n",
    "            \n",
    "            if(i>=liv):\n",
    "                riktig_paa_rad=0\n",
    "                print(\"Dessverre klarte du ikke dette regnestykket, men vent så får du et nytt et:)\")\n",
    "                \n",
    "    nytt_spors=input(\"Er det ønskelig med flere spørsmål? Skriv 1 for ja og 0 for nei:\")\n",
    "    \n",
    "    if(nytt_spors==\"0\"):\n",
    "        break"
   ]
  },
  {
   "cell_type": "markdown",
   "metadata": {
    "deletable": false,
    "editable": false,
    "run_control": {
     "frozen": true
    }
   },
   "source": [
    "**e)** (frivillig)\n",
    "\n",
    "Du skal endre programmet ditt fra d) slik at eleven først får veldig lette gangestykker ved å bruke randint(0,5) (fra random-biblioteket). Dersom eleven klarer å svare rett på 5 spørsmål på rad (eleven kan fremdeles bruke 3 forsøk), skal vanskelighetsgraden øke ved å bruke randint(0,10). Dette intervallet skal altså øke med 5 for hver gang eleven svarer korrekt på 5 spørsmål på rad. \n",
    "\n",
    "Eksempel på kjøring:\n",
    "\n",
    "```python\n",
    "Hva blir 1*2? 2                                                    #1 riktig svar\n",
    "Gratulerer, det er helt riktig!\n",
    "Er det ønskelig med flere spørsmål? Skriv 1 for ja og 0 for nei: 1\n",
    "```\n",
    "```python\n",
    "Hva blir 1*5? 5                                                    #2 riktige svar\n",
    "Gratulerer, det er helt riktig!\n",
    "Er det ønskelig med flere spørsmål? Skriv 1 for ja og 0 for nei: 1\n",
    " ```\n",
    " ```python\n",
    "Hva blir 3*5? 15                                                   #3 riktige svar\n",
    "Gratulerer, det er helt riktig!\n",
    "Er det ønskelig med flere spørsmål? Skriv 1 for ja og 0 for nei: 1\n",
    " ```\n",
    " ```python\n",
    "Hva blir 2*1? 2                                                    #4 riktige svar\n",
    "Gratulerer, det er helt riktig!\n",
    "Er det ønskelig med flere spørsmål? Skriv 1 for ja og 0 for nei: 1\n",
    " ```\n",
    " ```python\n",
    "Hva blir 2*0? 2\n",
    "Dessverre ikke riktig. Du har 2 forsøk igjen.\n",
    "Hva blir 2*0? 0                                                    #5 riktige svar\n",
    "Gratulerer, det er helt riktig!\n",
    "Er det ønskelig med flere spørsmål? Skriv 1 for ja og 0 for nei: 1\n",
    " ```\n",
    " ```python\n",
    "Hva blir 0*10? 0                                                    #Intervallet har økt og 1 riktig svar\n",
    "Gratulerer, det er helt riktig!\n",
    "Er det ønskelig med flere spørsmål? Skriv 1 for ja og 0 for nei: 1\n",
    ".\n",
    ".\n",
    ".\n",
    "Hva blir 15*29? 435                                                 \n",
    "Gratulerer, det er helt riktig!\n",
    "Er det ønskelig med flere spørsmål? Skriv 1 for ja og 0 for nei: 0\n",
    "```"
   ]
  }
 ],
 "metadata": {
  "kernelspec": {
   "display_name": "Python 3 (ipykernel)",
   "language": "python",
   "name": "python3"
  },
  "language_info": {
   "codemirror_mode": {
    "name": "ipython",
    "version": 3
   },
   "file_extension": ".py",
   "mimetype": "text/x-python",
   "name": "python",
   "nbconvert_exporter": "python",
   "pygments_lexer": "ipython3",
   "version": "3.9.7"
  },
  "toc": {
   "base_numbering": 1,
   "nav_menu": {},
   "number_sections": false,
   "sideBar": true,
   "skip_h1_title": false,
   "title_cell": "Table of Contents",
   "title_sidebar": "Contents",
   "toc_cell": false,
   "toc_position": {},
   "toc_section_display": true,
   "toc_window_display": false
  }
 },
 "nbformat": 4,
 "nbformat_minor": 4
}
