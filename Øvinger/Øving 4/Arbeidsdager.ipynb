{
 "cells": [
  {
   "cell_type": "markdown",
   "metadata": {
    "deletable": false,
    "editable": false,
    "run_control": {
     "frozen": true
    }
   },
   "source": [
    "<nav class=\"navbar navbar-default\">\n",
    "  <div class=\"container-fluid\">\n",
    "    <div class=\"navbar-header\">\n",
    "      <a class=\"navbar-brand\" href=\"_Oving4.ipynb\">Øving 4</a>\n",
    "    </div>\n",
    "    <ul class=\"nav navbar-nav\">\n",
    "    <li><a href=\"Grunnleggende%20om%20funksjoner.ipynb\">Grunnleggende om funksjoner</a></li>\n",
    "    <li><a href=\"Varierte%20funksjoner.ipynb\">Varierte funksjoner</a></li>\n",
    "    <li><a href=\"Lokale%20variabler.ipynb\">Lokale variabler</a></li>\n",
    "    <li><a href=\"Globale%20variabler.ipynb\">Globale variabler</a></li>\n",
    "    <li><a href=\"Euklids%20algoritme.ipynb\">Euklids algoritme</a></li>\n",
    "    <li><a href=\"Primtall.ipynb\">Primtall</a></li>\n",
    "    <li><a href=\"Multiplikasjon.ipynb\">Multiplikasjon</a></li>\n",
    "        <li><a href=\"Den%20store%20sporreundersokelsen.ipynb\">Den store spørreundersøkelsen</a></li>\n",
    "    <li class=\"active\"><a href=\"Arbeidsdager.ipynb\">Arbeidsdager</a></li>\n",
    "    <li><a href=\"Sekantmetoden.ipynb\">Sekantmetoden</a></li>\n",
    "    <li><a href=\"Not%20quite%20Blackjack.ipynb\">Not quite Blackjack</a></li>\n",
    "        <li><a href=\"Funksjoner%20og%20Jupyter%20widgets.ipynb\">Funksjoner og Jupyter widgets</a></li>\n",
    "    </ul>\n",
    "  </div>\n",
    "</nav>\n",
    "\n",
    "# Arbeidsdager\n",
    "\n",
    "**Læringsmål:**\n",
    "- Funksjoner \n",
    "- Betingelser\n",
    "- Løkker\n",
    "\n",
    "**Starting Out with Python:**\n",
    "- Kap. 3.1-3.2\n",
    "- Kap. 4.3\n",
    "- Kap. 5.3\n",
    "- Kap. 5.5\n",
    "- Kap. 5.8\n"
   ]
  },
  {
   "cell_type": "markdown",
   "metadata": {
    "ExecuteTime": {
     "end_time": "2019-07-03T10:09:44.703606Z",
     "start_time": "2019-07-03T10:09:44.686102Z"
    },
    "deletable": false,
    "editable": false,
    "run_control": {
     "frozen": true
    }
   },
   "source": [
    "Et vanlig år består av 52 hele uker og én dag, til sammen 365 dager. Det vil si at hvis ett år starter på en mandag, starter neste år på en tirsdag. Skuddår har en dag ekstra. Dvs. hvis et skuddår starter på en mandag, starter neste år på en onsdag. 1. januar 1900 var en mandag. Skuddår er litt finurlig definert. Bruk følgende funksjon til å bestemme om et år er et skuddår:"
   ]
  },
  {
   "cell_type": "code",
   "execution_count": 6,
   "metadata": {},
   "outputs": [],
   "source": [
    "# Trykk ctrl + enter her så har du denne funksjonen til senere oppgaver\n",
    "def is_leap_year ( year ):\n",
    "    if year % 400 == 0:\n",
    "        return True\n",
    "    elif year % 100 == 0:\n",
    "        return False\n",
    "    elif year % 4 == 0:\n",
    "        return True\n",
    "    return False"
   ]
  },
  {
   "cell_type": "markdown",
   "metadata": {
    "deletable": false,
    "editable": false,
    "run_control": {
     "frozen": true
    }
   },
   "source": [
    "## a)"
   ]
  },
  {
   "cell_type": "markdown",
   "metadata": {
    "deletable": false,
    "editable": false,
    "run_control": {
     "frozen": true
    }
   },
   "source": [
    "Lag først en funksjon `weekday_newyear(year)` som tar inn et årstall, og returnerer hvilken ukedag året starter på. Ukedager representeres med heltall, dvs. mandag = 0, tirsdag = 1, ..., søndag = 6. \n",
    "\n",
    "*Merk: Deloppgaven skal løses uten å bruke Pythons innebygde datofunksjoner.*\n",
    "\n",
    "Skriv deretter ut årstall med tilhørende første ukedag i tekstlig format for år 1900 til og med 1919 ved å benytte funksjonen `weekday_newyear(year)`.\n",
    "\n",
    "***Skriv koden i kodeblokken under***"
   ]
  },
  {
   "cell_type": "code",
   "execution_count": 10,
   "metadata": {},
   "outputs": [
    {
     "name": "stdout",
     "output_type": "stream",
     "text": [
      "1900 mandag\n",
      "1901 tirsdag\n",
      "1902 onsdag\n",
      "1903 torsdag\n",
      "1904 fredag\n",
      "1905 søndag\n",
      "1906 mandag\n",
      "1907 tirsdag\n",
      "1908 onsdag\n",
      "1909 fredag\n",
      "1910 lørdag\n",
      "1911 søndag\n",
      "1912 mandag\n",
      "1913 onsdag\n",
      "1914 torsdag\n",
      "1915 fredag\n",
      "1916 lørdag\n",
      "1917 mandag\n",
      "1918 tirsdag\n",
      "1919 onsdag\n"
     ]
    }
   ],
   "source": [
    "ukedager=[\"mandag\", \"tirsdag\", \"onsdag\", \"torsdag\", \"fredag\", \"lørdag\", \"søndag\"]\n",
    "\n",
    "def weekday_newyear(year):\n",
    "    \n",
    "    ukedag_nr=0\n",
    "    for i in range(year-1900):\n",
    "        if is_leap_year(1900+i):\n",
    "            ukedag_nr+=2\n",
    "        else:\n",
    "            ukedag_nr+=1\n",
    "    \n",
    "    ukedag_nr%=7\n",
    "    return ukedager[ukedag_nr]\n",
    "    \n",
    "for i in range(20):\n",
    "    ukedag=weekday_newyear(1900+i)\n",
    "    print(f\"{1900+i} {ukedag}\")"
   ]
  },
  {
   "cell_type": "markdown",
   "metadata": {
    "deletable": false,
    "editable": false,
    "run_control": {
     "frozen": true
    }
   },
   "source": [
    "Hvis du har gjort alt riktig skal koden din gi følgende output:\n",
    "```python\n",
    "1900 man\n",
    "1901 tir\n",
    "1902 ons\n",
    "1903 tor\n",
    "1904 fre\n",
    "1905 son\n",
    "1906 man\n",
    "1907 tir\n",
    "1908 ons\n",
    "1909 fre\n",
    "1910 lor\n",
    "1911 son\n",
    "1912 man\n",
    "1913 ons\n",
    "1914 tor\n",
    "1915 fre\n",
    "1916 lor\n",
    "1917 man\n",
    "1918 tir\n",
    "1919 ons\n",
    "```"
   ]
  },
  {
   "cell_type": "markdown",
   "metadata": {
    "deletable": false,
    "editable": false,
    "run_control": {
     "frozen": true
    }
   },
   "source": [
    "## b)"
   ]
  },
  {
   "cell_type": "markdown",
   "metadata": {
    "deletable": false,
    "editable": false,
    "run_control": {
     "frozen": true
    }
   },
   "source": [
    "Lag funksjonen `is_workday(day)` som tar inn en ukedag, og returnerer `True` om ukedagen er arbeidsdag, og `False` ellers. (Alle hverdager er arbeidsdager. Lørdag og søndag er ikke arbeidsdager. For eksempel skal `is_workday(2)` returnere `True`, mens `is_workday(5)` skal returnere `False`.\n",
    "\n",
    "***Skriv koden din i kodeblokken under og test at den fungerer***"
   ]
  },
  {
   "cell_type": "code",
   "execution_count": 16,
   "metadata": {},
   "outputs": [
    {
     "data": {
      "text/plain": [
       "False"
      ]
     },
     "execution_count": 16,
     "metadata": {},
     "output_type": "execute_result"
    }
   ],
   "source": [
    "def is_workday(day):\n",
    "    for x, i in enumerate(ukedager):\n",
    "        if i==day:\n",
    "            if x<=4:\n",
    "                return True\n",
    "            else:\n",
    "                return False\n",
    "\n",
    "is_workday(\"lørdag\")"
   ]
  },
  {
   "cell_type": "markdown",
   "metadata": {
    "deletable": false,
    "editable": false,
    "run_control": {
     "frozen": true
    }
   },
   "source": [
    "## c)"
   ]
  },
  {
   "cell_type": "markdown",
   "metadata": {
    "deletable": false,
    "editable": false,
    "run_control": {
     "frozen": true
    }
   },
   "source": [
    "Lag først funksjonen `workdays_in_year(year)` som tar inn et årstall og skriver ut antall arbeidsdager i det gitte året. (Vi ser bort ifra helligdager som faller på arbeidsdager, dvs. at bl.a. langfredag vil telles som en arbeidsdag.) \n",
    "\n",
    "Husk at skuddår har en ekstra dag i februar. \n",
    "\n",
    "Skriv deretter ut antall arbeidsdager for årene 1900 til og med 1919.\n",
    "\n",
    "***Skriv koden din i kodeblokken under***"
   ]
  },
  {
   "cell_type": "code",
   "execution_count": 20,
   "metadata": {},
   "outputs": [
    {
     "name": "stdout",
     "output_type": "stream",
     "text": [
      "1900 har 261 arbeidsdager\n",
      "1901 har 261 arbeidsdager\n",
      "1902 har 261 arbeidsdager\n",
      "1903 har 261 arbeidsdager\n",
      "1904 har 262 arbeidsdager\n",
      "1905 har 260 arbeidsdager\n",
      "1906 har 261 arbeidsdager\n",
      "1907 har 261 arbeidsdager\n",
      "1908 har 262 arbeidsdager\n",
      "1909 har 261 arbeidsdager\n",
      "1910 har 260 arbeidsdager\n",
      "1911 har 260 arbeidsdager\n",
      "1912 har 262 arbeidsdager\n",
      "1913 har 261 arbeidsdager\n",
      "1914 har 261 arbeidsdager\n",
      "1915 har 261 arbeidsdager\n",
      "1916 har 261 arbeidsdager\n",
      "1917 har 261 arbeidsdager\n",
      "1918 har 261 arbeidsdager\n",
      "1919 har 261 arbeidsdager\n"
     ]
    }
   ],
   "source": [
    "def workdays_in_year(year):\n",
    "    arbeidsdager=260\n",
    "    if(is_leap_year(year)):\n",
    "        arbeidsdager+=1\n",
    "    if(is_workday(weekday_newyear(year))):\n",
    "        arbeidsdager+=1\n",
    "    \n",
    "    return arbeidsdager\n",
    "        \n",
    "        \n",
    "for i in range(20):\n",
    "    arbeids_dager=workdays_in_year(1900+i)\n",
    "    \n",
    "    print(f\"{1900+i} har {arbeids_dager} arbeidsdager\")"
   ]
  },
  {
   "cell_type": "markdown",
   "metadata": {
    "deletable": false,
    "editable": false,
    "run_control": {
     "frozen": true
    }
   },
   "source": [
    "**Hint:** Benytt deg av tidligere lagde funksjoner for å slippe å skrive mye kode på nytt."
   ]
  },
  {
   "cell_type": "markdown",
   "metadata": {
    "deletable": false,
    "editable": false,
    "run_control": {
     "frozen": true
    }
   },
   "source": [
    "Har du gjort alt riktig skal koden din gi følgende output:\n",
    "\n",
    "```python\n",
    "1900 har 261 arbeidsdager\n",
    "1901 har 261 arbeidsdager\n",
    "1902 har 261 arbeidsdager\n",
    "1903 har 261 arbeidsdager\n",
    "1904 har 261 arbeidsdager\n",
    "1905 har 260 arbeidsdager\n",
    "1906 har 261 arbeidsdager\n",
    "1907 har 261 arbeidsdager\n",
    "1908 har 262 arbeidsdager\n",
    "1909 har 261 arbeidsdager\n",
    "1910 har 260 arbeidsdager\n",
    "1911 har 260 arbeidsdager\n",
    "1912 har 262 arbeidsdager\n",
    "1913 har 261 arbeidsdager\n",
    "1914 har 261 arbeidsdager\n",
    "1915 har 261 arbeidsdager\n",
    "1916 har 260 arbeidsdager\n",
    "1917 har 261 arbeidsdager\n",
    "1918 har 261 arbeidsdager\n",
    "1919 har 261 arbeidsdager\n",
    "```"
   ]
  }
 ],
 "metadata": {
  "kernelspec": {
   "display_name": "Python 3 (ipykernel)",
   "language": "python",
   "name": "python3"
  },
  "language_info": {
   "codemirror_mode": {
    "name": "ipython",
    "version": 3
   },
   "file_extension": ".py",
   "mimetype": "text/x-python",
   "name": "python",
   "nbconvert_exporter": "python",
   "pygments_lexer": "ipython3",
   "version": "3.9.7"
  },
  "toc": {
   "base_numbering": 1,
   "nav_menu": {},
   "number_sections": false,
   "sideBar": true,
   "skip_h1_title": false,
   "title_cell": "Table of Contents",
   "title_sidebar": "Contents",
   "toc_cell": false,
   "toc_position": {},
   "toc_section_display": true,
   "toc_window_display": false
  }
 },
 "nbformat": 4,
 "nbformat_minor": 4
}
