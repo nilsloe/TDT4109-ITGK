{
 "cells": [
  {
   "cell_type": "markdown",
   "metadata": {
    "deletable": false,
    "editable": false,
    "run_control": {
     "frozen": true
    }
   },
   "source": [
    "<nav class=\"navbar navbar-default\">\n",
    "  <div class=\"container-fluid\">\n",
    "    <div class=\"navbar-header\">\n",
    "      <a class=\"navbar-brand\" href=\"_Oving5.ipynb\">Øving 5</a>\n",
    "    </div>\n",
    "    <ul class=\"nav navbar-nav\">\n",
    "    <li><a href=\"Grunnleggende%20om%20funksjoner.ipynb\">Grunnleggende om funksjoner</a></li>\n",
    "    <li><a href=\"Varierte%20funksjoner.ipynb\">Varierte funksjoner</a></li>\n",
    "    <li><a href=\"Lokale%20variabler.ipynb\">Lokale variabler</a></li>\n",
    "    <li><a href=\"Globale%20variabler.ipynb\">Globale variabler</a></li>\n",
    "    <li><a href=\"Euklids%20algoritme.ipynb\">Euklids algoritme</a></li>\n",
    "    <li><a href=\"Primtall.ipynb\">Primtall</a></li>\n",
    "    <li><a href=\"Multiplikasjon.ipynb\">Multiplikasjon</a></li>\n",
    "    <li class=\"active\"><a href=\"Den%20store%20sporreundersokelsen.ipynb\">Den store spørreundersøkelsen</a></li>\n",
    "    <li><a href=\"Arbeidsdager.ipynb\">Arbeidsdager</a></li>\n",
    "    <li><a href=\"Sekantmetoden.ipynb\">Sekantmetoden</a></li>\n",
    "    <li><a href=\"Not%20quite%20Blackjack.ipynb\">Not quite Blackjack</a></li>\n",
    "        <li><a href=\"Funksjoner%20og%20Jupyter%20widgets.ipynb\">Funksjoner og Jupyter widgets</a></li>\n",
    "    </ul>\n",
    "  </div>\n",
    "</nav>\n",
    "\n",
    "## Den store spørreundersøkelsen\n",
    "\n",
    "**Læringsmål:**\n",
    "\n",
    "* Funksjoner \n",
    "* Betingelser\n",
    "* Løkker\n",
    "\n",
    "**Starting Out with Python:**\n",
    "\n",
    "* Kap. 3.1-3.2\n",
    " * 3.1: The if Statement\n",
    " * 3.2: The if-else Statement \n",
    "* Kap. 4.2\n",
    " * 4.2: The while Loop: A Condition-Controlled Loop\n",
    "* Kap. 5.4-5.6, 5.8 \n",
    " * 5.4: Local Variables\n",
    " * 5.5: Passing Arguments to Functions\n",
    " * 5.6: Global Variables and Global Constants\n",
    " * 5.8: Writing Your Own Value-Returning Functions\n",
    " \n",
    "\n",
    "**I denne oppgaven skal du skrive et større program. For denne typen oppgaver kan det være mer praktisk å laste ned python og eventuelt en IDE (Et område man programmerer i på sin egen maskin). Det er fortsatt mulig å gjøre oppgaven i Jupyter dersom du ikke ønsker å jobbe lokalt**\n",
    " \n",
    "I denne oppgaven skal du implementere et lite utdrag av en spørreundersøkelse om leksevaner til studenter. Undersøkelsen er beregnet for kvinner og menn i aldersgruppen 16-25 år.\n",
    "\n",
    "Spørreundersøkelsen implementeres ved hjelp av å skrive ut spørsmål og lese input fra brukeren i en while-løkke som kjøres så lenge brukeren ønsker å skrive inn data. Når alle spørsmålene er besvart, gjentas spørsmålene for en ny person. \n",
    "\n",
    "Hold styr på fem globale tellere (variabler) under kjøringen av while-løkken: **antall_kvinner**, **antall_menn**, **antall_fag**, **antall_ITGK**, og **antall_timer_lekser**. Hvis brukeren til enhver tid svarer hade på et spørsmål skal while-løkken avsluttes og verdiene av de fem tellerne skrives ut.\n",
    "\n",
    "I programmet ditt kan du få bruk for:"
   ]
  },
  {
   "cell_type": "code",
   "execution_count": null,
   "metadata": {},
   "outputs": [],
   "source": [
    "from sys import exit        #Du kan nå bruke funksjonen exit() i programmet ditt. Anbefales brukt i sjekk_svar-funksjonen."
   ]
  },
  {
   "cell_type": "raw",
   "metadata": {},
   "source": []
  },
  {
   "cell_type": "markdown",
   "metadata": {
    "deletable": false,
    "editable": false,
    "run_control": {
     "frozen": true
    }
   },
   "source": [
    "exit() vil avslutte kjøringen av programmet.\n",
    "\n",
    "Bruk funksjoner til å lese inn svar fra brukeren (de bør være forskjellige om brukeren skriver inn et tall eller en streng), og til å skrive ut statistikk til slutt (oppgave g).\n",
    "\n",
    "Funksjoner som kan implementeres i løpet av oppgaven er:\n",
    "\n",
    "sjekk_svar(spm)\n",
    "les_streng(spm)\n",
    "les_ja_nei(spm)\n",
    "les_tall(spm)\n",
    "skriv_statistikk()\n",
    "(Der spm er svaret på de forskjellige spørsmålene som skal stilles i while-løkken)\n",
    "\n",
    "Deloppgave a til e skal altså implementeres inni while-løkken."
   ]
  },
  {
   "cell_type": "code",
   "execution_count": null,
   "metadata": {},
   "outputs": [],
   "source": []
  },
  {
   "cell_type": "code",
   "execution_count": null,
   "metadata": {},
   "outputs": [],
   "source": []
  },
  {
   "cell_type": "code",
   "execution_count": 4,
   "metadata": {},
   "outputs": [
    {
     "name": "stdin",
     "output_type": "stream",
     "text": [
      "Hvilket kjønn er du? [f/m] m\n",
      "Hvilken alder er du?  18\n",
      "Tar du et eller flere fag? (j/n):  j\n",
      "Tar du ITGK? [j/n] j\n",
      "Hvor mange timer bruker du i snitt daglig på lekser?  19\n"
     ]
    },
    {
     "name": "stdout",
     "output_type": "stream",
     "text": [
      "\n"
     ]
    },
    {
     "name": "stdin",
     "output_type": "stream",
     "text": [
      "Hvilket kjønn er du? [f/m] f\n",
      "Hvilken alder er du?  17\n",
      "Tar du et eller flere fag? (j/n):  j\n",
      "Tar du ITGK? [j/n] j\n",
      "Hvor mange timer bruker du i snitt daglig på lekser?  3\n"
     ]
    },
    {
     "name": "stdout",
     "output_type": "stream",
     "text": [
      "\n"
     ]
    },
    {
     "name": "stdin",
     "output_type": "stream",
     "text": [
      "Hvilket kjønn er du? [f/m] hade\n"
     ]
    },
    {
     "name": "stdout",
     "output_type": "stream",
     "text": [
      "Antall kvinner: 1, Antall menn: 1, Antall fag: 2, Antall ITGK: 2, Antall timer lekser: 22\n"
     ]
    }
   ],
   "source": [
    "# du kan skrive all koden din i denne blokken dersom du ikke vil laste ned IDLE/Pycharm\n",
    "antall_kvinner=0\n",
    "antall_menn=0\n",
    "antall_fag=0\n",
    "antall_ITGK=0\n",
    "antall_timer_lekser=0\n",
    "\n",
    "while True:\n",
    "    kjonn=input(\"Hvilket kjønn er du? [f/m]\")\n",
    "    \n",
    "    if (kjonn==\"hade\"):\n",
    "        break\n",
    "    elif kjonn==\"f\":\n",
    "        antall_kvinner+=1\n",
    "    elif kjonn==\"m\":\n",
    "        antall_menn+=1\n",
    "    \n",
    "    alder=int(input(\"Hvilken alder er du? \"))\n",
    "    \n",
    "    min_alder=16\n",
    "    max_alder=25\n",
    "    \n",
    "    if not(min_alder<alder<max_alder):\n",
    "        print(\"Du kan desverre ikke ta denne undersøkelsen\")\n",
    "        print()\n",
    "    else:\n",
    "        while True:\n",
    "            fag=input(\"Tar du et eller flere fag? (j/n): \")\n",
    "            if ((fag==\"j\") or (fag==\"n\")):\n",
    "                if (fag==\"j\"):\n",
    "                    antall_fag+=1\n",
    "                break\n",
    "        if alder<22:\n",
    "            medlem_ITGK=input(\"Tar du ITGK? [j/n]\")\n",
    "        else:\n",
    "            medlem_ITGK=input(\"Tar virkelig du ITGK? [j/n]\")\n",
    "            \n",
    "        if medlem_ITGK==\"j\":\n",
    "            antall_ITGK+=1\n",
    "        \n",
    "        timer_lekser=int(input(\"Hvor mange timer bruker du i snitt daglig på lekser? \"))\n",
    "        \n",
    "        antall_timer_lekser+=timer_lekser\n",
    "        \n",
    "        print()\n",
    "        \n",
    "print(f\"Antall kvinner: {antall_kvinner}, Antall menn: {antall_menn}, Antall fag: {antall_fag}, Antall ITGK: {antall_ITGK}, Antall timer lekser: {antall_timer_lekser}\")"
   ]
  },
  {
   "cell_type": "markdown",
   "metadata": {
    "deletable": false,
    "editable": false,
    "run_control": {
     "frozen": true
    }
   },
   "source": [
    "**a)** Be brukeren skrive inn kjønn og alder. Med for eksempel ***f*** for kvinne og ***m*** for mann, lagre disse i variablene **kjonn** og **alder**.\n",
    "\n",
    "\n",
    "\n",
    "**b)** Sjekk om brukeren er innenfor tiltenkt aldersgruppe. Dersom brukeren er utenfor aldersgruppen, skriv en melding om at vedkommende ikke kan ta spørreundersøkelsen, og hopp tilbake til første spørsmål (kjønn).\n",
    "\n",
    "\n",
    "\n",
    "**c)** Dersom brukeren er innenfor tiltenkt aldersgruppe, spør om brukeren tar et **fag**, med svaralternativene ja og nei. Deretter lagres svaret som en variabel fag. Ta utgangspunkt i denne variabelen når du avgjør om brukeren trenger å svare på de neste to spørsmålene eller ikke. Om noe annet svares, skal spørsmålet gjentas til et gyldig svaralternativ er gitt. \n",
    "\n",
    "\n",
    "\n",
    "**d)** Du skal nå spørre om brukeren tar ITGK og lagre svaret som en variabel **medlem_ITGK**, men spørsmålsteksten skal variere ut ifra alderen på brukeren\n",
    "\n",
    "* Dersom brukeren er under 22 år skal spørsmålsteksten være: Tar du ITGK?\n",
    "* Ellers skal spørsmålsteksten være: Tar virkelig du ITGK?\n",
    "\n",
    "\n",
    "**e)** Spør brukeren hvor mange timer han/hun bruker i snitt daglig på lekser og lagre svaret i variabelen **timer_lekser**\n",
    "\n",
    "\n",
    "\n",
    "**f)** Endre programmet ditt slik at de globale tellerne nevnt tidligere i oppgaven blir inkrementert i deloppgavene a til e.\n",
    "\n",
    "\n",
    "\n",
    "**g)** Kjør programmet ditt, utfør noen undersøkelser, og avslutt ved å skrive hade. Sjekk at statistikken (verdiene av de globale tellerne) som skrives ut på slutten er korrekt.\n",
    "\n",
    "**Eksempel på kjøring:**\n",
    "\n",
    "```\n",
    "Velkommen til spørreundersøkelsen!\n",
    " \n",
    " Hvilket kjønn er du? [f/m]: f\n",
    " Hvor gammel er du?: 21\n",
    " Tar du et eller flere fag? [ja/nei ]: bleh\n",
    " Tar du et eller flere fag? [ja/nei ]: ja\n",
    " Tar du ITGK? [ja/nei]: ja\n",
    " Hvor mange timer bruker du daglig (i snitt) på lekser?: 2\n",
    " \n",
    "Velkommen til spørreundersøkelsen!\n",
    " \n",
    " Hvilket kjønn er du? [f/m]: m\n",
    " Hvor gammel er du?: 28\n",
    "Du kan dessverre ikke ta denne undersøkelsen\n",
    " \n",
    "Velkommen til spørreundersøkelsen!\n",
    " \n",
    " Hvilket kjønn er du? [f/m]: m\n",
    " Hvor gammel er du?: 25\n",
    " Tar du et eller flere fag? [ja/nei ]: ja\n",
    " Tar du virkelig ITGK?: nei\n",
    " Hvor mange timer bruker du daglig (i snitt) på lekser?: 3\n",
    " \n",
    "Velkommen til spørreundersøkelsen!\n",
    " \n",
    " Hvilket kjønn er du? [f/m]: f\n",
    " Hvor gammel er du?: 18\n",
    " Tar du et eller flere fag? [ja/nei ]: nei\n",
    " \n",
    "Velkommen til spørreundersøkelsen!\n",
    " \n",
    " Hvilket kjønn er du? [f/m]: m\n",
    " Hvor gammel er du?: 24\n",
    " Tar du et eller flere fag? [ja/nei ]: hade\n",
    " \n",
    "Resultat av undersøkelse!\n",
    " Antall kvinner: 2\n",
    " Antall menn: 2\n",
    " Antall personer som tar fag: 2\n",
    " Antall personer som tar ITGK: 1\n",
    " Antall timer i snitt brukt på lekser : 2.5\n",
    " ```\n",
    " \n",
    "**h)** Vil det være mulig å hente ut svarene fra spørreundersøkelsen etter at vi har avsluttet programmet? Hvor er de i så fall lagret? Eventuelt hvorfor ikke?"
   ]
  },
  {
   "cell_type": "markdown",
   "metadata": {},
   "source": [
    "Svar: Variablene i for løkken kan ikke hentes ut siden de er lokale variabler, i tillegg til at de blir overskrevet med ny informasjon etter ny iterasjon av while løkken."
   ]
  }
 ],
 "metadata": {
  "kernelspec": {
   "display_name": "Python 3 (ipykernel)",
   "language": "python",
   "name": "python3"
  },
  "language_info": {
   "codemirror_mode": {
    "name": "ipython",
    "version": 3
   },
   "file_extension": ".py",
   "mimetype": "text/x-python",
   "name": "python",
   "nbconvert_exporter": "python",
   "pygments_lexer": "ipython3",
   "version": "3.9.7"
  }
 },
 "nbformat": 4,
 "nbformat_minor": 4
}
