{
 "cells": [
  {
   "cell_type": "markdown",
   "metadata": {
    "deletable": false,
    "editable": false,
    "run_control": {
     "frozen": true
    }
   },
   "source": [
    "<nav class=\"navbar navbar-default\">\n",
    "  <div class=\"container-fluid\">\n",
    "    <div class=\"navbar-header\">\n",
    "      <a class=\"navbar-brand\" href=\"_Oving4.ipynb\">Øving 4</a>\n",
    "    </div>\n",
    "    <ul class=\"nav navbar-nav\">\n",
    "    <li><a href=\"Grunnleggende%20om%20funksjoner.ipynb\">Grunnleggende om funksjoner</a></li>\n",
    "    <li><a href=\"Varierte%20funksjoner.ipynb\">Varierte funksjoner</a></li>\n",
    "    <li><a href=\"Lokale%20variabler.ipynb\">Lokale variabler</a></li>\n",
    "    <li><a href=\"Globale%20variabler.ipynb\">Globale variabler</a></li>\n",
    "    <li><a href=\"Euklids%20algoritme.ipynb\">Euklids algoritme</a></li>\n",
    "    <li><a href=\"Primtall.ipynb\">Primtall</a></li>\n",
    "    <li class=\"active\"><a href=\"Multiplikasjon.ipynb\">Multiplikasjon</a></li>\n",
    "        <li><a href=\"Den%20store%20sporreundersokelsen.ipynb\">Den store spørreundersøkelsen</a></li>\n",
    "    <li><a href=\"Arbeidsdager.ipynb\">Arbeidsdager</a></li>\n",
    "    <li><a href=\"Sekantmetoden.ipynb\">Sekantmetoden</a></li>\n",
    "    <li><a href=\"Not%20quite%20Blackjack.ipynb\">Not quite Blackjack</a></li>\n",
    "        <li><a href=\"Funksjoner%20og%20Jupyter%20widgets.ipynb\">Funksjoner og Jupyter widgets</a></li>\n",
    "    </ul>\n",
    "  </div>\n",
    "</nav>\n",
    "\n",
    "# Multiplikasjon\n",
    "\n",
    "**Læringsmål:**\n",
    "- Løkker\n",
    "- Funksjoner\n",
    "\n",
    "**Starting Out with Python:**\n",
    "- Kap. 4.2-4.3"
   ]
  },
  {
   "cell_type": "markdown",
   "metadata": {
    "deletable": false,
    "editable": false,
    "run_control": {
     "frozen": true
    }
   },
   "source": [
    "## a)"
   ]
  },
  {
   "cell_type": "markdown",
   "metadata": {
    "deletable": false,
    "editable": false,
    "run_control": {
     "frozen": true
    }
   },
   "source": [
    "Skriv en funksjon som tar inn en toleransegrense `tol` og returnerer `prod` og `count`, hvor `prod` er definert som:\n",
    "\n",
    "$(1+\\frac{1}{1^{2}})(1+\\frac{1}{2^{2}})(1+\\frac{1}{3^{2}})...$\n",
    "\n",
    "og `count` er antall iterasjoner som har blitt kjørt.\n",
    "\n",
    "Avslutt iterasjonen når endringen i produktet er mindre enn toleransegrensen `tol`. \n",
    "\n",
    "Skriv ut verdien og hvor mange iterasjoner som trengs. Hvis `tol` er 0.01 skal programmet skrive ut følgende:\n",
    "```\n",
    "Produktet ble 3.49 etter 19 iterasjoner.\n",
    "```\n",
    "\n",
    "***Skriv koden i kodeblokken under***"
   ]
  },
  {
   "cell_type": "code",
   "execution_count": 4,
   "metadata": {},
   "outputs": [
    {
     "name": "stdin",
     "output_type": "stream",
     "text": [
      "Skriv inn toleranse:  0.01\n"
     ]
    },
    {
     "name": "stdout",
     "output_type": "stream",
     "text": [
      "(19, 3.4924308067060092)\n"
     ]
    }
   ],
   "source": [
    "def multiplikasjon(tol):\n",
    "    count=1\n",
    "    prod=1\n",
    "    while True:\n",
    "        gammel_prod=prod\n",
    "        prod=prod*(1+1/(count**2))\n",
    "        if prod-gammel_prod<=tol:\n",
    "            break\n",
    "        count+=1\n",
    "    return count, prod\n",
    "\n",
    "resultat=multiplikasjon(float(input(\"Skriv inn toleranse: \")))\n",
    "print(resultat)"
   ]
  },
  {
   "cell_type": "markdown",
   "metadata": {
    "deletable": false,
    "editable": false,
    "run_control": {
     "frozen": true
    }
   },
   "source": [
    "## b) (FRIVILLIG) (OG VANSKELIG)"
   ]
  },
  {
   "cell_type": "markdown",
   "metadata": {
    "deletable": false,
    "editable": false,
    "run_control": {
     "frozen": true
    }
   },
   "source": [
    "Denne oppgaven krever at du bruker rekursjon, det vil si at funksjonen \"kaller\" på seg selv. Dette er en mye brukt programmeringsteknikk som vil bli gjennomgått senere i kurset. \n",
    "\n",
    "Lag en ny funksjon som gjør det samme som a) rekursivt. Avslutt rekursjonen når\n",
    "\n",
    "$(1+\\frac{1}{k^{2}}) < 1 + tol$\n",
    "\n",
    "Skriv også ut rekusjonsdybden\n",
    "\n",
    "**Eksempel på kjøring:**\n",
    "\n",
    "```\n",
    "Skriv inn tol: 0.01\n",
    "Rekursjonsdybden er 10\n",
    "Produktet ble: 3.37\n",
    "```\n",
    "\n",
    "*Merk: den rekursive funksjonen i b) vil ikke gi samme svar som a) pga. at betingelsene som blir brukt er forskjellige.*\n",
    "\n",
    "***Skriv koden i kodeblokken under***"
   ]
  },
  {
   "cell_type": "code",
   "execution_count": 21,
   "metadata": {},
   "outputs": [
    {
     "name": "stdout",
     "output_type": "stream",
     "text": [
      "None\n"
     ]
    }
   ],
   "source": [
    "prod=1\n",
    "def rekursiv(tol, k=False):\n",
    "    if not(k):\n",
    "        k=1\n",
    "        global prod\n",
    "        rekursiv(tol, k)\n",
    "    else:\n",
    "        if (1+1/(k**2))<(1+tol):\n",
    "            return k, prod\n",
    "        else:\n",
    "            prod*=(1+1/(k**2))\n",
    "            k+=1\n",
    "            rekursiv(tol, k)\n",
    "            \n",
    "print(rekursiv(0.01))"
   ]
  }
 ],
 "metadata": {
  "kernelspec": {
   "display_name": "Python 3 (ipykernel)",
   "language": "python",
   "name": "python3"
  },
  "language_info": {
   "codemirror_mode": {
    "name": "ipython",
    "version": 3
   },
   "file_extension": ".py",
   "mimetype": "text/x-python",
   "name": "python",
   "nbconvert_exporter": "python",
   "pygments_lexer": "ipython3",
   "version": "3.9.7"
  },
  "toc": {
   "base_numbering": 1,
   "nav_menu": {},
   "number_sections": false,
   "sideBar": true,
   "skip_h1_title": false,
   "title_cell": "Table of Contents",
   "title_sidebar": "Contents",
   "toc_cell": false,
   "toc_position": {},
   "toc_section_display": true,
   "toc_window_display": false
  }
 },
 "nbformat": 4,
 "nbformat_minor": 4
}
